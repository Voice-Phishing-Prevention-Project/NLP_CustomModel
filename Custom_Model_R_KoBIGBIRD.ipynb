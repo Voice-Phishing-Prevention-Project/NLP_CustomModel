{
  "cells": [
    {
      "cell_type": "code",
      "source": [
        "!nvidia-smi"
      ],
      "metadata": {
        "colab": {
          "base_uri": "https://localhost:8080/"
        },
        "id": "fRdvMSbXBb1H",
        "outputId": "e137a9b8-ed5f-4876-abae-22a0209bf715"
      },
      "execution_count": 3,
      "outputs": [
        {
          "output_type": "stream",
          "name": "stdout",
          "text": [
            "/bin/bash: line 1: nvidia-smi: command not found\n"
          ]
        }
      ]
    },
    {
      "cell_type": "code",
      "execution_count": 4,
      "metadata": {
        "colab": {
          "base_uri": "https://localhost:8080/"
        },
        "id": "QJrcP5yaN8NW",
        "outputId": "d9a8178b-da21-40f0-9cea-cf5d6da6a400"
      },
      "outputs": [
        {
          "output_type": "stream",
          "name": "stdout",
          "text": [
            "Mounted at /content/drive\n"
          ]
        }
      ],
      "source": [
        "from google.colab import drive\n",
        "drive.mount('/content/drive')"
      ]
    },
    {
      "cell_type": "code",
      "execution_count": 5,
      "metadata": {
        "colab": {
          "base_uri": "https://localhost:8080/"
        },
        "id": "oY0JDCeIOCwG",
        "outputId": "063be11d-c289-4d0f-9911-6fa804233b4c"
      },
      "outputs": [
        {
          "output_type": "stream",
          "name": "stdout",
          "text": [
            "Collecting transformers\n",
            "  Downloading transformers-4.32.1-py3-none-any.whl (7.5 MB)\n",
            "\u001b[2K     \u001b[90m━━━━━━━━━━━━━━━━━━━━━━━━━━━━━━━━━━━━━━━━\u001b[0m \u001b[32m7.5/7.5 MB\u001b[0m \u001b[31m19.1 MB/s\u001b[0m eta \u001b[36m0:00:00\u001b[0m\n",
            "\u001b[?25hRequirement already satisfied: filelock in /usr/local/lib/python3.10/dist-packages (from transformers) (3.12.2)\n",
            "Collecting huggingface-hub<1.0,>=0.15.1 (from transformers)\n",
            "  Downloading huggingface_hub-0.16.4-py3-none-any.whl (268 kB)\n",
            "\u001b[2K     \u001b[90m━━━━━━━━━━━━━━━━━━━━━━━━━━━━━━━━━━━━━━\u001b[0m \u001b[32m268.8/268.8 kB\u001b[0m \u001b[31m28.4 MB/s\u001b[0m eta \u001b[36m0:00:00\u001b[0m\n",
            "\u001b[?25hRequirement already satisfied: numpy>=1.17 in /usr/local/lib/python3.10/dist-packages (from transformers) (1.23.5)\n",
            "Requirement already satisfied: packaging>=20.0 in /usr/local/lib/python3.10/dist-packages (from transformers) (23.1)\n",
            "Requirement already satisfied: pyyaml>=5.1 in /usr/local/lib/python3.10/dist-packages (from transformers) (6.0.1)\n",
            "Requirement already satisfied: regex!=2019.12.17 in /usr/local/lib/python3.10/dist-packages (from transformers) (2023.6.3)\n",
            "Requirement already satisfied: requests in /usr/local/lib/python3.10/dist-packages (from transformers) (2.31.0)\n",
            "Collecting tokenizers!=0.11.3,<0.14,>=0.11.1 (from transformers)\n",
            "  Downloading tokenizers-0.13.3-cp310-cp310-manylinux_2_17_x86_64.manylinux2014_x86_64.whl (7.8 MB)\n",
            "\u001b[2K     \u001b[90m━━━━━━━━━━━━━━━━━━━━━━━━━━━━━━━━━━━━━━━━\u001b[0m \u001b[32m7.8/7.8 MB\u001b[0m \u001b[31m42.1 MB/s\u001b[0m eta \u001b[36m0:00:00\u001b[0m\n",
            "\u001b[?25hCollecting safetensors>=0.3.1 (from transformers)\n",
            "  Downloading safetensors-0.3.3-cp310-cp310-manylinux_2_17_x86_64.manylinux2014_x86_64.whl (1.3 MB)\n",
            "\u001b[2K     \u001b[90m━━━━━━━━━━━━━━━━━━━━━━━━━━━━━━━━━━━━━━━━\u001b[0m \u001b[32m1.3/1.3 MB\u001b[0m \u001b[31m41.7 MB/s\u001b[0m eta \u001b[36m0:00:00\u001b[0m\n",
            "\u001b[?25hRequirement already satisfied: tqdm>=4.27 in /usr/local/lib/python3.10/dist-packages (from transformers) (4.66.1)\n",
            "Requirement already satisfied: fsspec in /usr/local/lib/python3.10/dist-packages (from huggingface-hub<1.0,>=0.15.1->transformers) (2023.6.0)\n",
            "Requirement already satisfied: typing-extensions>=3.7.4.3 in /usr/local/lib/python3.10/dist-packages (from huggingface-hub<1.0,>=0.15.1->transformers) (4.7.1)\n",
            "Requirement already satisfied: charset-normalizer<4,>=2 in /usr/local/lib/python3.10/dist-packages (from requests->transformers) (3.2.0)\n",
            "Requirement already satisfied: idna<4,>=2.5 in /usr/local/lib/python3.10/dist-packages (from requests->transformers) (3.4)\n",
            "Requirement already satisfied: urllib3<3,>=1.21.1 in /usr/local/lib/python3.10/dist-packages (from requests->transformers) (2.0.4)\n",
            "Requirement already satisfied: certifi>=2017.4.17 in /usr/local/lib/python3.10/dist-packages (from requests->transformers) (2023.7.22)\n",
            "Installing collected packages: tokenizers, safetensors, huggingface-hub, transformers\n",
            "Successfully installed huggingface-hub-0.16.4 safetensors-0.3.3 tokenizers-0.13.3 transformers-4.32.1\n"
          ]
        }
      ],
      "source": [
        "!pip install transformers"
      ]
    },
    {
      "cell_type": "code",
      "execution_count": 6,
      "metadata": {
        "colab": {
          "base_uri": "https://localhost:8080/"
        },
        "id": "iUpCI2x3Pgqs",
        "outputId": "63dfb8e6-0d79-46cf-d1ee-f665c21d367c"
      },
      "outputs": [
        {
          "output_type": "stream",
          "name": "stdout",
          "text": [
            "Seed set as 42\n"
          ]
        }
      ],
      "source": [
        "import pandas as pd\n",
        "import numpy as np\n",
        "import random\n",
        "import pickle as pickle\n",
        "import os\n",
        "import math\n",
        "from sklearn.ensemble import RandomForestRegressor\n",
        "from sklearn.metrics import f1_score,accuracy_score\n",
        "from sklearn.model_selection import StratifiedKFold\n",
        "from tqdm import tqdm, tqdm_notebook\n",
        "tqdm.pandas()\n",
        "# Step 4. 한글 글꼴 설정\n",
        "import matplotlib.pyplot as plt\n",
        "import seaborn as sns\n",
        "from pprint import  pprint\n",
        "import warnings\n",
        "warnings.filterwarnings('ignore')\n",
        "from collections import defaultdict, Counter\n",
        "from itertools import chain\n",
        "from pprint import pprint\n",
        "# from pycaret.classification import *\n",
        "# from pycaret.regression import *\n",
        "# from pycaret.utils import check_metric\n",
        "from transformers import AutoTokenizer,AutoModel, AutoModelForMaskedLM, AutoModelForSequenceClassification, AutoConfig\n",
        "from transformers import BertConfig, BertForSequenceClassification, Trainer, TrainingArguments, BertModel, ElectraModel, RobertaModel\n",
        "from importlib import import_module\n",
        "import torch\n",
        "import torch.nn as nn\n",
        "from torch.utils.data import Dataset, DataLoader\n",
        "import torch.nn.functional as F\n",
        "def seed_everything(seed: int = 42, contain_cuda: bool = False):\n",
        "    os.environ['PYTHONHASHSEED'] = str(seed)\n",
        "    random.seed(seed)\n",
        "    np.random.seed(seed)\n",
        "\n",
        "    torch.backends.cudnn.deterministic = True\n",
        "    torch.backends.cudnn.benchmark = False\n",
        "\n",
        "    torch.manual_seed(seed)\n",
        "    torch.cuda.manual_seed(seed)\n",
        "    torch.cuda.manual_seed_all(seed)\n",
        "    print(f\"Seed set as {seed}\")\n",
        "\n",
        "seed=42\n",
        "seed_everything(seed)\n",
        "\n",
        "root_dir = \"/content/drive/MyDrive/\"\n",
        "project_folder = \"Phising\"\n",
        "os.chdir(os.path.join(root_dir,project_folder))\n"
      ]
    },
    {
      "cell_type": "markdown",
      "metadata": {
        "id": "j3G7eTfgVk8D"
      },
      "source": [
        "# Utils.py"
      ]
    },
    {
      "cell_type": "code",
      "execution_count": 7,
      "metadata": {
        "id": "6oMTeBW3Vj8J"
      },
      "outputs": [],
      "source": [
        "from transformers.image_transforms import normalize\n",
        "def wrong_batch_for_wandb(tokenizer,\n",
        "                          wrong_sample_index,\n",
        "                          input_ids,\n",
        "                          valid_labels,\n",
        "                          valid_predict,\n",
        "                          valid_output,\n",
        "                          ):\n",
        "    num_to_label_dict = {0:'Normal',1:'Phising'}\n",
        "\n",
        "    wrong_sample_index = np.where(valid_labels!=valid_predict)[0]\n",
        "    wrong_sample_text = [tokenizer.decode(element, skip_special_tokens=False) for element in input_ids[wrong_sample_index]]\n",
        "    wrong_sample_label = [num_to_label_dict[lab] for lab in list(valid_labels[wrong_sample_index])]\n",
        "    wrong_sample_pred = [num_to_label_dict[pred] for pred in list(valid_predict[wrong_sample_index])]\n",
        "    wrong_sample_output = valid_output[wrong_sample_index].tolist()\n",
        "\n",
        "    normal_prob, phising_prob = [], []\n",
        "    for element in wrong_sample_output:\n",
        "        normal_prob.append(element[0])\n",
        "        phising_prob.append(element[1])\n",
        "\n",
        "    return wrong_sample_text, wrong_sample_label, wrong_sample_pred, normal_prob, phising_prob\n"
      ]
    },
    {
      "cell_type": "markdown",
      "metadata": {
        "id": "GQf5iFF67Gdw"
      },
      "source": [
        "# dataloader.py"
      ]
    },
    {
      "cell_type": "code",
      "source": [
        "def load_data(args, dataset_dir):\n",
        "    print(\"===================loading data=====================\")\n",
        "    # load dataset\n",
        "    dataset = pd.read_csv(dataset_dir)\n",
        "\n",
        "    # print(dataset)\n",
        "\n",
        "    return dataset\n",
        "\n",
        "# bert input을 위한 tokenizing.\n",
        "def tokenized_dataset(args, dataset, tokenizer):\n",
        "  #전체 대화 데이터\n",
        "    lst_comment = dataset['comment'].tolist()\n",
        "  #키워드 + 형태소 데이터\n",
        "    lst_pos = dataset['pos_keywords'].tolist()\n",
        "\n",
        "    tokenized_sentences = tokenizer(\n",
        "        lst_comment,\n",
        "        lst_pos,\n",
        "        return_tensors=\"pt\",\n",
        "        padding=True,\n",
        "        truncation=True,\n",
        "        max_length=args.seq_max_len,\n",
        "        add_special_tokens=True\n",
        "    )\n",
        "\n",
        "    return tokenized_sentences\n",
        "\n",
        "    all_dataset = load_data(args, dataset_dir = f'./data/{args.train_file}')"
      ],
      "metadata": {
        "id": "q4zc8QnUNxW4"
      },
      "execution_count": 8,
      "outputs": []
    },
    {
      "cell_type": "code",
      "execution_count": 9,
      "metadata": {
        "id": "3MZRbHojjlmi"
      },
      "outputs": [],
      "source": [
        "# Dataset 구성.\n",
        "class NLI_Dataset(Dataset):\n",
        "    def __init__(self, tokenized_dataset, labels):\n",
        "        self.tokenized_dataset = tokenized_dataset\n",
        "        self.labels = labels\n",
        "\n",
        "    def __getitem__(self, idx):\n",
        "        item = {key: val[idx].clone().detach() for key, val in self.tokenized_dataset.items()}\n",
        "        item['labels'] = torch.tensor(self.labels[idx])\n",
        "        return item\n",
        "\n",
        "    def __len__(self):\n",
        "        return len(self.labels)"
      ]
    },
    {
      "cell_type": "code",
      "execution_count": 10,
      "metadata": {
        "id": "aY_uOAhyb_TC"
      },
      "outputs": [],
      "source": [
        "def get_trainLoader(args, train_data, valid_data, train_label, valid_label, tokenizer):\n",
        "\n",
        "    # entity_between = '</s></s>' if args.model == 'r_roberta' or args.model == 'roberta' else '[SEP]'\n",
        "    tokenized_train = tokenized_dataset(args, train_data, tokenizer)\n",
        "    tokenized_valid = tokenized_dataset(args, valid_data, tokenizer)\n",
        "\n",
        "    # make dataset for pytorch.\n",
        "    NLI_train_dataset = NLI_Dataset(tokenized_train, train_label)\n",
        "    NLI_valid_dataset = NLI_Dataset(tokenized_valid, valid_label)\n",
        "\n",
        "    trainloader = DataLoader(NLI_train_dataset,\n",
        "                             batch_size=args.batch_size,\n",
        "                             shuffle=True,\n",
        "                             num_workers=args.num_workers,\n",
        "                             )\n",
        "\n",
        "    validloader = DataLoader(NLI_valid_dataset,\n",
        "                             batch_size=args.batch_size,\n",
        "                             shuffle=False,\n",
        "                             num_workers=args.num_workers,\n",
        "                             )\n",
        "\n",
        "    return trainloader, validloader\n"
      ]
    },
    {
      "cell_type": "markdown",
      "metadata": {
        "id": "LQnmL_4T6XZZ"
      },
      "source": [
        "# optimizer.py"
      ]
    },
    {
      "cell_type": "code",
      "execution_count": 11,
      "metadata": {
        "id": "8kDco2rpcOOM"
      },
      "outputs": [],
      "source": [
        "from torch.optim import Adam, AdamW\n",
        "from torch.optim.optimizer import Optimizer, required\n",
        "import math\n",
        "\n",
        "class AdamP(Optimizer):\n",
        "    def __init__(\n",
        "        self,\n",
        "        params,\n",
        "        lr=1e-3,\n",
        "        betas=(0.9, 0.999),\n",
        "        eps=1e-8,\n",
        "        weight_decay=0,\n",
        "        delta=0.1,\n",
        "        wd_ratio=0.1,\n",
        "        nesterov=False,\n",
        "    ):\n",
        "        defaults = dict(\n",
        "            lr=lr,\n",
        "            betas=betas,\n",
        "            eps=eps,\n",
        "            weight_decay=weight_decay,\n",
        "            delta=delta,\n",
        "            wd_ratio=wd_ratio,\n",
        "            nesterov=nesterov,\n",
        "        )\n",
        "        super(AdamP, self).__init__(params, defaults)\n",
        "\n",
        "    def _channel_view(self, x):\n",
        "        return x.view(x.size(0), -1)\n",
        "\n",
        "    def _layer_view(self, x):\n",
        "        return x.view(1, -1)\n",
        "\n",
        "    def _cosine_similarity(self, x, y, eps, view_func):\n",
        "        x = view_func(x)\n",
        "        y = view_func(y)\n",
        "\n",
        "        return F.cosine_similarity(x, y, dim=1, eps=eps).abs_()\n",
        "\n",
        "    def _projection(self, p, grad, perturb, delta, wd_ratio, eps):\n",
        "        wd = 1\n",
        "        expand_size = [-1] + [1] * (len(p.shape) - 1)\n",
        "        for view_func in [self._channel_view, self._layer_view]:\n",
        "\n",
        "            cosine_sim = self._cosine_similarity(grad, p.data, eps, view_func)\n",
        "\n",
        "            if cosine_sim.max() < delta / math.sqrt(view_func(p.data).size(1)):\n",
        "                p_n = p.data / view_func(p.data).norm(dim=1).view(expand_size).add_(eps)\n",
        "                perturb -= p_n * view_func(p_n * perturb).sum(dim=1).view(expand_size)\n",
        "                wd = wd_ratio\n",
        "\n",
        "                return perturb, wd\n",
        "\n",
        "        return perturb, wd\n",
        "\n",
        "    def step(self, closure=None):\n",
        "        loss = None\n",
        "        if closure is not None:\n",
        "            loss = closure()\n",
        "\n",
        "        for group in self.param_groups:\n",
        "            for p in group[\"params\"]:\n",
        "                if p.grad is None:\n",
        "                    continue\n",
        "\n",
        "                grad = p.grad.data\n",
        "                beta1, beta2 = group[\"betas\"]\n",
        "                nesterov = group[\"nesterov\"]\n",
        "\n",
        "                state = self.state[p]\n",
        "\n",
        "                # State initialization\n",
        "                if len(state) == 0:\n",
        "                    state[\"step\"] = 0\n",
        "                    state[\"exp_avg\"] = torch.zeros_like(p.data)\n",
        "                    state[\"exp_avg_sq\"] = torch.zeros_like(p.data)\n",
        "\n",
        "                # Adam\n",
        "                exp_avg, exp_avg_sq = state[\"exp_avg\"], state[\"exp_avg_sq\"]\n",
        "\n",
        "                state[\"step\"] += 1\n",
        "                bias_correction1 = 1 - beta1 ** state[\"step\"]\n",
        "                bias_correction2 = 1 - beta2 ** state[\"step\"]\n",
        "\n",
        "                exp_avg.mul_(beta1).add_(grad, alpha=1 - beta1)\n",
        "                exp_avg_sq.mul_(beta2).addcmul_(grad, grad, value=1 - beta2)\n",
        "\n",
        "                denom = (exp_avg_sq.sqrt() / math.sqrt(bias_correction2)).add_(\n",
        "                    group[\"eps\"]\n",
        "                )\n",
        "                step_size = group[\"lr\"] / bias_correction1\n",
        "\n",
        "                if nesterov:\n",
        "                    perturb = (beta1 * exp_avg + (1 - beta1) * grad) / denom\n",
        "                else:\n",
        "                    perturb = exp_avg / denom\n",
        "\n",
        "                # Projection\n",
        "                wd_ratio = 1\n",
        "                if len(p.shape) > 1:\n",
        "                    perturb, wd_ratio = self._projection(\n",
        "                        p,\n",
        "                        grad,\n",
        "                        perturb,\n",
        "                        group[\"delta\"],\n",
        "                        group[\"wd_ratio\"],\n",
        "                        group[\"eps\"],\n",
        "                    )\n",
        "\n",
        "                # Weight decay\n",
        "                if group[\"weight_decay\"] > 0:\n",
        "                    p.data.mul_(1 - group[\"lr\"] * group[\"weight_decay\"] * wd_ratio)\n",
        "\n",
        "                # Step\n",
        "                p.data.add_(perturb, alpha=-step_size)\n",
        "\n",
        "        return loss\n",
        "\n",
        "def get_optimizer(model, args):\n",
        "    if args.optimizer == \"Adam\":\n",
        "        optimizer = Adam(model.parameters(), lr=args.lr, weight_decay=0.01)\n",
        "    elif args.optimizer == \"AdamW\":\n",
        "        optimizer = AdamW(model.parameters(), lr=args.lr, weight_decay=0.01)\n",
        "    elif args.optimizer == \"AdamP\":\n",
        "        optimizer = AdamP(\n",
        "            model.parameters(),\n",
        "            lr=args.lr,\n",
        "            betas=(0.9, 0.999),\n",
        "            weight_decay=0.01,\n",
        "            delta=0.1,\n",
        "            wd_ratio=0.1,\n",
        "            nesterov=False,\n",
        "        )\n",
        "\n",
        "\n",
        "    # 모든 parameter들의 grad값을 0으로 초기화\n",
        "    optimizer.zero_grad()\n",
        "\n",
        "    return optimizer\n"
      ]
    },
    {
      "cell_type": "markdown",
      "metadata": {
        "id": "_0jaQsk15Czi"
      },
      "source": [
        "# scheduler.py"
      ]
    },
    {
      "cell_type": "code",
      "execution_count": 12,
      "metadata": {
        "id": "QlfxJhaDdD52"
      },
      "outputs": [],
      "source": [
        "import math\n",
        "import torch\n",
        "from torch.optim.lr_scheduler import ReduceLROnPlateau, _LRScheduler\n",
        "from transformers import get_linear_schedule_with_warmup\n",
        "\n",
        "# https://github.com/katsura-jp/pytorch-cosine-annealing-with-warmup/blob/master/cosine_annearing_with_warmup.py\n",
        "class CosineAnnealingWarmupRestarts(_LRScheduler):\n",
        "    \"\"\"\n",
        "        optimizer (Optimizer): Wrapped optimizer.\n",
        "        first_cycle_steps (int): First cycle step size.\n",
        "        cycle_mult(float): Cycle steps magnification. Default: -1.\n",
        "        max_lr(float): First cycle's max learning rate. Default: 0.1.\n",
        "        min_lr(float): Min learning rate. Default: 0.001.\n",
        "        warmup_steps(int): Linear warmup step size. Default: 0.\n",
        "        gamma(float): Decrease rate of max learning rate by cycle. Default: 1.\n",
        "        last_epoch (int): The index of last epoch. Default: -1.\n",
        "    \"\"\"\n",
        "\n",
        "    def __init__(self,\n",
        "                 optimizer : torch.optim.Optimizer,\n",
        "                 first_cycle_steps : int,\n",
        "                 cycle_mult : float = 1.,\n",
        "                 max_lr : float = 0.1,\n",
        "                 min_lr : float = 0.001,\n",
        "                 warmup_steps : int = 0,\n",
        "                 gamma : float = 1.,\n",
        "                 last_epoch : int = -1\n",
        "        ):\n",
        "        assert warmup_steps < first_cycle_steps\n",
        "\n",
        "        self.first_cycle_steps = first_cycle_steps # first cycle step size\n",
        "        self.cycle_mult = cycle_mult # cycle steps magnification\n",
        "        self.base_max_lr = max_lr # first max learning rate\n",
        "        self.max_lr = max_lr # max learning rate in the current cycle\n",
        "        self.min_lr = min_lr # min learning rate\n",
        "        self.warmup_steps = warmup_steps # warmup step size\n",
        "        self.gamma = gamma # decrease rate of max learning rate by cycle\n",
        "\n",
        "        self.cur_cycle_steps = first_cycle_steps # first cycle step size\n",
        "        self.cycle = 0 # cycle count\n",
        "        self.step_in_cycle = last_epoch # step size of the current cycle\n",
        "\n",
        "        super(CosineAnnealingWarmupRestarts, self).__init__(optimizer, last_epoch)\n",
        "\n",
        "        # set learning rate min_lr\n",
        "        self.init_lr()\n",
        "\n",
        "    def init_lr(self):\n",
        "        self.base_lrs = []\n",
        "        for param_group in self.optimizer.param_groups:\n",
        "            param_group['lr'] = self.min_lr\n",
        "            self.base_lrs.append(self.min_lr)\n",
        "\n",
        "    def get_lr(self):\n",
        "        if self.step_in_cycle == -1:\n",
        "            return self.base_lrs\n",
        "        elif self.step_in_cycle < self.warmup_steps:\n",
        "            return [(self.max_lr - base_lr)*self.step_in_cycle / self.warmup_steps + base_lr for base_lr in self.base_lrs]\n",
        "        else:\n",
        "            return [base_lr + (self.max_lr - base_lr) \\\n",
        "                    * (1 + math.cos(math.pi * (self.step_in_cycle-self.warmup_steps) \\\n",
        "                                    / (self.cur_cycle_steps - self.warmup_steps))) / 2\n",
        "                    for base_lr in self.base_lrs]\n",
        "\n",
        "    def step(self, epoch=None):\n",
        "        if epoch is None:\n",
        "            epoch = self.last_epoch + 1\n",
        "            self.step_in_cycle = self.step_in_cycle + 1\n",
        "            if self.step_in_cycle >= self.cur_cycle_steps:\n",
        "                self.cycle += 1\n",
        "                self.step_in_cycle = self.step_in_cycle - self.cur_cycle_steps\n",
        "                self.cur_cycle_steps = int((self.cur_cycle_steps - self.warmup_steps) * self.cycle_mult) + self.warmup_steps\n",
        "        else:\n",
        "            if epoch >= self.first_cycle_steps:\n",
        "                if self.cycle_mult == 1.:\n",
        "                    self.step_in_cycle = epoch % self.first_cycle_steps\n",
        "                    self.cycle = epoch // self.first_cycle_steps\n",
        "                else:\n",
        "                    n = int(math.log((epoch / self.first_cycle_steps * (self.cycle_mult - 1) + 1), self.cycle_mult))\n",
        "                    self.cycle = n\n",
        "                    self.step_in_cycle = epoch - int(self.first_cycle_steps * (self.cycle_mult ** n - 1) / (self.cycle_mult - 1))\n",
        "                    self.cur_cycle_steps = self.first_cycle_steps * self.cycle_mult ** (n)\n",
        "            else:\n",
        "                self.cur_cycle_steps = self.first_cycle_steps\n",
        "                self.step_in_cycle = epoch\n",
        "\n",
        "        self.max_lr = self.base_max_lr * (self.gamma**self.cycle)\n",
        "        self.last_epoch = math.floor(epoch)\n",
        "        for param_group, lr in zip(self.optimizer.param_groups, self.get_lr()):\n",
        "            param_group['lr'] = lr\n",
        "\n",
        "\n",
        "def get_scheduler(optimizer, args, total_batch_):\n",
        "    if args.scheduler == \"plateau\":\n",
        "        scheduler = ReduceLROnPlateau(\n",
        "            optimizer, patience=2, factor=0.85, mode=\"max\", verbose=True\n",
        "        )\n",
        "    elif args.scheduler == \"linear\":\n",
        "        scheduler = get_linear_schedule_with_warmup(\n",
        "            optimizer,\n",
        "            # num_warmup_steps=int(total_batch_*args.epochs*0.1),\n",
        "            num_warmup_steps=args.warmup_steps,\n",
        "            num_training_steps=int(total_batch_*args.epochs),\n",
        "        )\n",
        "    elif args.scheduler == \"cosine\":\n",
        "        scheduler = CosineAnnealingWarmupRestarts( # ver1: first_cycle=20, warmup_steps=5, cycle_mult=1.0, max_lr=args.lr, min_lr=args.lr/100, gamma=0.8, patience=7,\n",
        "            optimizer,                             # ver2: first_cycle=30, warmup_steps=5, cycle_mult=0.8, max_lr=args.lr, min_lr=args.lr/100, gamma=0.8, patience=5\n",
        "            first_cycle_steps=300,                  # ver3: first_cycle=50, warmup_steps=10, cycle_mult=1.0, max_lr=args.lr, min_lr=args.lr/100, gamma=0.8, patience=7\n",
        "            warmup_steps=args.warmup_steps,\n",
        "            cycle_mult=args.cycle_mult,\n",
        "            max_lr=args.lr,\n",
        "            min_lr=args.lr * 0.01,\n",
        "            gamma=0.8,\n",
        "        )\n",
        "\n",
        "    return scheduler\n",
        "\n"
      ]
    },
    {
      "cell_type": "markdown",
      "metadata": {
        "id": "SMlnGWx6OUlu"
      },
      "source": [
        "# model.py"
      ]
    },
    {
      "cell_type": "markdown",
      "source": [
        "![image.png](data:image/png;base64,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)"
      ],
      "metadata": {
        "id": "x-inc970w4bu"
      }
    },
    {
      "cell_type": "markdown",
      "source": [
        "- R-BERT 모델로부터 아이디어를 얻어 KoBIGBIRD 모델의 아키텍쳐를 수정\n",
        "- Relation Extraction Task에서 R-BERT 모델은 CLS 토큰 뿐만 아니라 entity1과 entity2 임베딩 벡터를 같이 활용함으로써 그 성능을 높이고자함\n",
        "- CLS 토큰뿐만 아니라 comment와 pos(or keywords) 각각의 임베딩 벡터를 학습에 사용하는 것은 어떨까? 라는 관점에서 Custom된 모델"
      ],
      "metadata": {
        "id": "msMqsLUVw8io"
      }
    },
    {
      "cell_type": "code",
      "source": [
        "model_path = \"monologg/kobigbird-bert-base\"\n",
        "config=AutoConfig.from_pretrained(model_path)\n",
        "\n",
        "##attention type\n",
        "#config.attention_type = \"original_full\"\n",
        "print(config)"
      ],
      "metadata": {
        "colab": {
          "base_uri": "https://localhost:8080/",
          "height": 710,
          "referenced_widgets": [
            "735199437a4949e9a176669270f8f6e6",
            "cb1bc7ee52f14d429f9ce616ec06fb97",
            "3499ee326f9d4481984f0978265b4bd1",
            "b15b3602717b48e5819f1d176168398c",
            "e7ba7beeefd54306b9ea43d4a7f6da57",
            "c06af2f9a4734aedb75995313d4d1cf8",
            "a44f1fe5c34d491f9296c12d82410189",
            "1a2331fdd8684469b12facb7acb12a51",
            "42022f82139c402497ce61709fc2e5b9",
            "6b110f8f0c12404b8733986b830d4602",
            "0130108c9cdb450c87b1fc7e30a6d789"
          ]
        },
        "id": "gUx3BoFY-DZa",
        "outputId": "6cf23811-ebb2-495f-9e47-6cccf9462e06"
      },
      "execution_count": 13,
      "outputs": [
        {
          "output_type": "display_data",
          "data": {
            "text/plain": [
              "Downloading (…)lve/main/config.json:   0%|          | 0.00/870 [00:00<?, ?B/s]"
            ],
            "application/vnd.jupyter.widget-view+json": {
              "version_major": 2,
              "version_minor": 0,
              "model_id": "735199437a4949e9a176669270f8f6e6"
            }
          },
          "metadata": {}
        },
        {
          "output_type": "stream",
          "name": "stdout",
          "text": [
            "BigBirdConfig {\n",
            "  \"_name_or_path\": \"monologg/kobigbird-bert-base\",\n",
            "  \"architectures\": [\n",
            "    \"BigBirdForMaskedLM\"\n",
            "  ],\n",
            "  \"attention_probs_dropout_prob\": 0.1,\n",
            "  \"attention_type\": \"block_sparse\",\n",
            "  \"block_size\": 64,\n",
            "  \"bos_token_id\": 5,\n",
            "  \"classifier_dropout\": null,\n",
            "  \"eos_token_id\": 6,\n",
            "  \"gradient_checkpointing\": false,\n",
            "  \"hidden_act\": \"gelu_new\",\n",
            "  \"hidden_dropout_prob\": 0.1,\n",
            "  \"hidden_size\": 768,\n",
            "  \"initializer_range\": 0.02,\n",
            "  \"intermediate_size\": 3072,\n",
            "  \"layer_norm_eps\": 1e-12,\n",
            "  \"max_position_embeddings\": 4096,\n",
            "  \"model_type\": \"big_bird\",\n",
            "  \"num_attention_heads\": 12,\n",
            "  \"num_hidden_layers\": 12,\n",
            "  \"num_random_blocks\": 3,\n",
            "  \"pad_token_id\": 0,\n",
            "  \"position_embedding_type\": \"absolute\",\n",
            "  \"rescale_embeddings\": false,\n",
            "  \"sep_token_id\": 3,\n",
            "  \"tokenizer_class\": \"BertTokenizer\",\n",
            "  \"torch_dtype\": \"float32\",\n",
            "  \"transformers_version\": \"4.32.1\",\n",
            "  \"type_vocab_size\": 2,\n",
            "  \"use_bias\": true,\n",
            "  \"use_cache\": true,\n",
            "  \"vocab_size\": 32500\n",
            "}\n",
            "\n"
          ]
        }
      ]
    },
    {
      "cell_type": "code",
      "source": [
        "#path=klue/roberta-large\n",
        "tokenizer = AutoTokenizer.from_pretrained(\"monologg/kobigbird-bert-base\")\n",
        "tokenizer(['l like you'],['l hate you'])\n"
      ],
      "metadata": {
        "colab": {
          "base_uri": "https://localhost:8080/",
          "height": 182,
          "referenced_widgets": [
            "3c558ecb338c4a148ea7dfe47880a030",
            "1d91ef0b86bc4f54b701db68afb836c8",
            "8f06cc0053a641de99f603584b9a37ff",
            "2d7a8040cbef42a2a1bca47f21ebed8e",
            "69f49af0f4c34c4eb862f609a21f5892",
            "c83241a4315a4e478b63bbdffc89c354",
            "61c9a7e465f34fe1aef7dcb95417870f",
            "91c5e80d0d3e4e7b842d844db106cedc",
            "f6f6095889b8439c91cf4a0f144df0a1",
            "d39fae9673c940e496934e0875e60bc8",
            "0df69726553b499681a8dda5e455940e",
            "228e82fb3101488f9ec8e6d0d9d3c3e5",
            "3da13fdd0d6948e7843920feff396782",
            "c019758a259541d2a707d918d9cf290b",
            "92a8f84861e148b29c9c79404636c5e0",
            "dd6205223a33438785aacf9384b581e4",
            "64a92b11883644268c303bfa0beaafa1",
            "9b5d91cb72cc4e448f759a4abd99ecb7",
            "2fe515a00bbd473983dba40daee1f447",
            "52ab645367a443e1b4d1c15fecbd900e",
            "743bb936ee05415cafaa48b0feccfb41",
            "9d629d195bd4475a9f81dddccba92433",
            "51814821b968479dafef97c5891c7d65",
            "18990579867a402c9b7a293e2a632c35",
            "63f64e9614234d58a3c3e5f9dc1e3caf",
            "b3601444d8154b93a4c009f0a16e45d6",
            "3498768e20394f9ea761b4981af6408a",
            "89123fbd6bda4cef93e1d97dd2095bf1",
            "cd793f25bb9742bfb61846db9589e146",
            "bf9cf81ae2b14487a5a863d4eeb2676f",
            "5dd56a7177b84e94878294707d43bcd9",
            "9949128d305f4ae1846d05bf8466bae2",
            "ba259aa2d7ff4b04850627f78fa324d5",
            "03f53483fba84c26898a8953b8cca166",
            "7758227759f34cb8ad72b69a405626aa",
            "834b2f3ccbdd4316bc944107a892496b",
            "0926bc6fad634300aaac54c7212a84d9",
            "b6f9f38cee2243bd8ac61419d19ed760",
            "1a863293c25d4b95a2df11f16d0acef2",
            "b9a8ade035994a4da1e2f0fb7b01aa94",
            "d9ee587008704e2598a97fb93a19a19c",
            "717c4a260e064a59aea717fe387dd579",
            "664e3f766a1a4243b8717e2603378dbf",
            "e11330ff5881422cb9f214e09f18c254"
          ]
        },
        "id": "PFm7eJuAlvFg",
        "outputId": "67bf6ba5-27df-48b5-eda3-0b13253aaa6e"
      },
      "execution_count": 14,
      "outputs": [
        {
          "output_type": "display_data",
          "data": {
            "text/plain": [
              "Downloading (…)okenizer_config.json:   0%|          | 0.00/373 [00:00<?, ?B/s]"
            ],
            "application/vnd.jupyter.widget-view+json": {
              "version_major": 2,
              "version_minor": 0,
              "model_id": "3c558ecb338c4a148ea7dfe47880a030"
            }
          },
          "metadata": {}
        },
        {
          "output_type": "display_data",
          "data": {
            "text/plain": [
              "Downloading (…)solve/main/vocab.txt:   0%|          | 0.00/241k [00:00<?, ?B/s]"
            ],
            "application/vnd.jupyter.widget-view+json": {
              "version_major": 2,
              "version_minor": 0,
              "model_id": "228e82fb3101488f9ec8e6d0d9d3c3e5"
            }
          },
          "metadata": {}
        },
        {
          "output_type": "display_data",
          "data": {
            "text/plain": [
              "Downloading (…)/main/tokenizer.json:   0%|          | 0.00/492k [00:00<?, ?B/s]"
            ],
            "application/vnd.jupyter.widget-view+json": {
              "version_major": 2,
              "version_minor": 0,
              "model_id": "51814821b968479dafef97c5891c7d65"
            }
          },
          "metadata": {}
        },
        {
          "output_type": "display_data",
          "data": {
            "text/plain": [
              "Downloading (…)cial_tokens_map.json:   0%|          | 0.00/169 [00:00<?, ?B/s]"
            ],
            "application/vnd.jupyter.widget-view+json": {
              "version_major": 2,
              "version_minor": 0,
              "model_id": "03f53483fba84c26898a8953b8cca166"
            }
          },
          "metadata": {}
        },
        {
          "output_type": "execute_result",
          "data": {
            "text/plain": [
              "{'input_ids': [[2, 580, 19667, 16625, 3, 580, 17357, 15224, 16625, 3]], 'token_type_ids': [[0, 0, 0, 0, 0, 1, 1, 1, 1, 1]], 'attention_mask': [[1, 1, 1, 1, 1, 1, 1, 1, 1, 1]]}"
            ]
          },
          "metadata": {},
          "execution_count": 14
        }
      ]
    },
    {
      "cell_type": "code",
      "execution_count": 15,
      "metadata": {
        "id": "N5PSNLnIdNw0"
      },
      "outputs": [],
      "source": [
        "# Relation Extraction R-BERT 아이디어 차용\n",
        "# https://github.com/monologg/R-BERT/blob/master/model.py#L21\n",
        "class r_kobigbird_Classifier(nn.Module):\n",
        "    def __init__(self, kobigbird, hidden_size=768, num_classes=2, dr_rate=0.0):\n",
        "\n",
        "        super(r_kobigbird_Classifier, self).__init__()\n",
        "\n",
        "\n",
        "        self.kobigbird = kobigbird\n",
        "        self.dr_rate = dr_rate\n",
        "\n",
        "        self.cls_fc = FCLayer(hidden_size, hidden_size//2, self.dr_rate)\n",
        "        self.sentence_fc = FCLayer(hidden_size, hidden_size//2, self.dr_rate)\n",
        "        self.label_classifier = FCLayer(hidden_size//2 * 3, num_classes, self.dr_rate, False)\n",
        "\n",
        "    def forward(self, token_ids, attention_mask, segment_ids=None):\n",
        "        out = self.kobigbird(input_ids=token_ids, attention_mask=attention_mask)[0]\n",
        "\n",
        "        #KoBIGBIRD에서는 token_ids==3 : 문장의 끝을 나타냄\n",
        "        #따라서 두 문장을 동시에 넣었으므로, 문장의 끝을 나타내는 인덱스의 위치를 찾아내서 구분\n",
        "        sentence_end_position = torch.where(token_ids == 3)[1] # input_ids==3인 인덱스를 찾음\n",
        "        sent1_end, sent2_end = sentence_end_position[0], sentence_end_position[1]\n",
        "\n",
        "        cls_vector = out[:, 0, :] # take <s> token (equiv. to [CLS])\n",
        "        comment_vector = out[:,1:sent1_end]              # Get comment vector\n",
        "        poskeywords_vector = out[:,sent1_end+1:sent2_end]    # Get poskeywords vector\n",
        "\n",
        "        comment_vector = torch.mean(comment_vector, dim=1) # Average\n",
        "        poskeywords_vector = torch.mean(poskeywords_vector, dim=1)\n",
        "\n",
        "\n",
        "        # Dropout -> tanh -> fc_layer (Share FC layer for comment and pos)\n",
        "        cls_embedding = self.cls_fc(cls_vector)\n",
        "        comment_embedding = self.sentence_fc(comment_vector)\n",
        "        poskeywords_embedding = self.sentence_fc(poskeywords_vector)\n",
        "\n",
        "        # Concat -> fc_layer\n",
        "        concat_embedding = torch.cat([cls_embedding, comment_embedding, poskeywords_embedding], dim=-1)\n",
        "\n",
        "        return self.label_classifier(concat_embedding)\n",
        "\n",
        "\n",
        "class FCLayer(nn.Module):\n",
        "    def __init__(self, input_dim, output_dim, dropout_rate=0.0, use_activation=True):\n",
        "        super(FCLayer, self).__init__()\n",
        "        self.use_activation = use_activation\n",
        "        self.dropout = nn.Dropout(dropout_rate)\n",
        "        self.linear = nn.Linear(input_dim, output_dim)\n",
        "        self.tanh = nn.Tanh()\n",
        "\n",
        "        torch.nn.init.xavier_uniform_(self.linear.weight)\n",
        "\n",
        "    def forward(self, x):\n",
        "        x = self.dropout(x)\n",
        "        if self.use_activation:\n",
        "            x = self.tanh(x)\n",
        "        return self.linear(x)"
      ]
    },
    {
      "cell_type": "code",
      "execution_count": 16,
      "metadata": {
        "id": "2RKFQqbGdaPa"
      },
      "outputs": [],
      "source": [
        "def get_tokenizer(args):\n",
        "\n",
        "  if args.model == 'klue_roberta_large':\n",
        "    tokenizer = AutoTokenizer.from_pretrained(\"klue/roberta-large\")\n",
        "\n",
        "  elif args.model == 'r_kobigbird':\n",
        "    tokenizer = AutoTokenizer.from_pretrained(\"monologg/kobigbird-bert-base\")\n",
        "\n",
        "  else:\n",
        "    raise NotImplementedError('Tokenizer & Model not available')\n",
        "\n",
        "  return tokenizer\n"
      ]
    },
    {
      "cell_type": "code",
      "execution_count": 17,
      "metadata": {
        "id": "Im2Sl_TsdbsA"
      },
      "outputs": [],
      "source": [
        "def get_model(args):\n",
        "\n",
        "  if args.model == 'klue_roberta_large': #1024\n",
        "    feature_model = RobertaModel.from_pretrained(\"klue/roberta-large\", add_pooling_layer=False)\n",
        "    #model = roberta_large_Classifier(feature_model, dr_rate=args.dp)\n",
        "\n",
        "  elif args.model == 'r_kobigbird':\n",
        "    feature_model = AutoModel.from_pretrained(\"monologg/kobigbird-bert-base\",config=config, add_pooling_layer=False)\n",
        "    model = r_kobigbird_Classifier(feature_model, dr_rate=args.dp)\n",
        "\n",
        "  else:\n",
        "    raise NotImplementedError('Tokenizer & Model not available')\n",
        "\n",
        "  return model\n"
      ]
    },
    {
      "cell_type": "markdown",
      "metadata": {
        "id": "Ztb66gTmudIB"
      },
      "source": [
        "# loss.py"
      ]
    },
    {
      "cell_type": "code",
      "execution_count": 18,
      "metadata": {
        "id": "JyNLsaOLdpew"
      },
      "outputs": [],
      "source": [
        "# https://discuss.pytorch.org/t/is-this-a-correct-implementation-for-focal-loss-in-pytorch/43327/8\n",
        "class FocalLoss(nn.Module):\n",
        "    def __init__(self, weight=None,\n",
        "                 gamma=2., reduction='mean'):\n",
        "        nn.Module.__init__(self)\n",
        "        self.weight = weight\n",
        "        self.gamma = gamma\n",
        "        self.reduction = reduction\n",
        "\n",
        "    def forward(self, input_tensor, target_tensor):\n",
        "        log_prob = F.log_softmax(input_tensor, dim=-1)\n",
        "        prob = torch.exp(log_prob)\n",
        "        return F.nll_loss(\n",
        "            ((1 - prob) ** self.gamma) * log_prob,\n",
        "            target_tensor,\n",
        "            weight=self.weight,\n",
        "            reduction=self.reduction\n",
        "        )\n",
        "\n",
        "class LabelSmoothingLoss(nn.Module):\n",
        "    def __init__(self, classes=2, smoothing=0.0, dim=-1):\n",
        "        super(LabelSmoothingLoss, self).__init__()\n",
        "        self.confidence = 1.0 - smoothing\n",
        "        self.smoothing = smoothing\n",
        "        self.cls = classes\n",
        "        self.dim = dim\n",
        "\n",
        "    def forward(self, pred, target):\n",
        "        pred = pred.log_softmax(dim=self.dim)\n",
        "        with torch.no_grad():\n",
        "            true_dist = torch.zeros_like(pred)\n",
        "            true_dist.fill_(self.smoothing / (self.cls - 1))\n",
        "            true_dist.scatter_(1, target.data.unsqueeze(1), self.confidence)\n",
        "        return torch.mean(torch.sum(-true_dist * pred, dim=self.dim))\n",
        "\n",
        "\n",
        "def get_criterion(args):\n",
        "    if args.smoothing!=0 and args.criterion == 'smoothing':\n",
        "        criterion = LabelSmoothingLoss(smoothing=args.smoothing)\n",
        "    elif args.criterion == 'cross':\n",
        "        criterion = nn.CrossEntropyLoss()\n",
        "    elif args.criterion == 'focal':\n",
        "        criterion = FocalLoss(gamma=2.0)\n",
        "    else:\n",
        "        raise NotImplementedError('Criterion not available')\n",
        "    return criterion"
      ]
    },
    {
      "cell_type": "markdown",
      "metadata": {
        "id": "xvXVqIs2Pmto"
      },
      "source": [
        "# train.py"
      ]
    },
    {
      "cell_type": "code",
      "execution_count": 19,
      "metadata": {
        "id": "HI8kIEEVds2r"
      },
      "outputs": [],
      "source": [
        "def Train(args, fold_lst=[4,5]):\n",
        "    criterion = get_criterion(args)\n",
        "    tokenizer = get_tokenizer(args)\n",
        "    all_dataset = load_data(args, dataset_dir = f'./data/{args.train_file}')\n",
        "    all_label = all_dataset['label'].values\n",
        "\n",
        "    kf = StratifiedKFold(n_splits=args.n_splits, random_state=42, shuffle=True)\n",
        "    fold_idx = 1\n",
        "    best_val_acc_list = []\n",
        "    for train_index, test_index in kf.split(all_dataset, all_label):\n",
        "        if fold_idx not in fold_lst:\n",
        "            fold_idx+=1\n",
        "            continue\n",
        "\n",
        "        os.makedirs(f'./models/{args.model_name}/{fold_idx}-fold', exist_ok=True)\n",
        "        ### Model Select\n",
        "        model = get_model(args)\n",
        "        print('===================get model===================')\n",
        "        model.to(device)\n",
        "\n",
        "\n",
        "        train_data, valid_data = all_dataset.iloc[train_index], all_dataset.iloc[test_index]\n",
        "        train_label, valid_label = all_label[train_index], all_label[test_index]\n",
        "\n",
        "        print(f\"len(train_label) : {len(train_label)}\")\n",
        "        print(f\"len(train_data) : {len(train_data)}\")\n",
        "\n",
        "\n",
        "        trainloader, validloader = get_trainLoader(args, train_data, valid_data, train_label, valid_label, tokenizer)\n",
        "\n",
        "        print('get train & valid loader')\n",
        "\n",
        "        total_batch_ = len(trainloader)\n",
        "        valid_batch_ = len(validloader)\n",
        "\n",
        "\n",
        "\n",
        "        ### Optimizer\n",
        "        optimizer = get_optimizer(model, args)\n",
        "\n",
        "        ### Scheduler\n",
        "        scheduler = get_scheduler(optimizer, args, total_batch_)\n",
        "\n",
        "        print('get optimzer & scheduler')\n",
        "\n",
        "        best_val_loss, best_val_acc, = np.inf, 0\n",
        "        early_stopping_counter = 0\n",
        "\n",
        "        print(f\"---------------------------------- {fold_idx} fold----------------------------------\")\n",
        "        for i in tqdm(range(1, args.epochs+1)):\n",
        "            model.train()\n",
        "            epoch_perform, batch_perform = np.zeros(2), np.zeros(2)\n",
        "            print()\n",
        "            progress_bar = tqdm(enumerate(trainloader), total=len(trainloader), leave=True, position=0,)\n",
        "            for j, v in progress_bar:\n",
        "                input_ids, attention_mask, labels = v['input_ids'].to(device), v['attention_mask'].to(device), v['labels'].to(device)\n",
        "\n",
        "                if 'roberta' in args.model:\n",
        "                    token_type_ids = None\n",
        "                else:\n",
        "                    token_type_ids = v['token_type_ids'].to(device)\n",
        "                optimizer.zero_grad()\n",
        "\n",
        "                output = model(input_ids, attention_mask, token_type_ids) ## label을 안 넣어서 logits값만 출력\n",
        "\n",
        "                loss = criterion(output, labels)\n",
        "                loss.backward()\n",
        "                optimizer.step()\n",
        "                scheduler.step()\n",
        "\n",
        "\n",
        "                predict = output.argmax(dim=-1)\n",
        "                predict = predict.detach().cpu().numpy()\n",
        "                labels = labels.detach().cpu().numpy()\n",
        "\n",
        "                #평가지표 : f1_score >> 분류 문제에서는 accuracy보다는 f1_score\n",
        "                acc = f1_score(labels, predict,average='weighted')\n",
        "\n",
        "                batch_perform += np.array([loss.item(), acc])\n",
        "                epoch_perform += np.array([loss.item(), acc])\n",
        "\n",
        "                if (j + 1) % 50 == 0:\n",
        "                    print(\n",
        "                        f\"Epoch {i:#04d} #{j + 1:#03d} -- loss: {batch_perform[0] / 50:#.5f}, acc: {batch_perform[1] / 50:#.4f}\"\n",
        "                        )\n",
        "                    batch_perform = np.zeros(2)\n",
        "            print()\n",
        "            print(\n",
        "                f\"Epoch {i:#04d} loss: {epoch_perform[0] / total_batch_:#.5f}, acc: {epoch_perform[1] / total_batch_:#.2f}\"\n",
        "                )\n",
        "\n",
        "            ###### Validation\n",
        "            model.eval()\n",
        "            valid_perform = np.zeros(2)\n",
        "\n",
        "            all_valid_predict_lst = []\n",
        "            all_valid_labels_lst = []\n",
        "\n",
        "\n",
        "\n",
        "            with torch.no_grad():\n",
        "                for v in validloader:\n",
        "                    input_ids, attention_mask, valid_labels = v['input_ids'].to(device), v['attention_mask'].to(device), v['labels'].to(device)\n",
        "\n",
        "                    if 'roberta' in args.model:\n",
        "                        token_type_ids = None\n",
        "                    else:\n",
        "                        token_type_ids = v['token_type_ids'].to(device)\n",
        "\n",
        "                    valid_output = model(input_ids, attention_mask, token_type_ids)\n",
        "                    valid_loss = criterion(valid_output, valid_labels)\n",
        "\n",
        "                    valid_predict = valid_output.argmax(dim=-1)\n",
        "                    valid_predict = valid_predict.detach().cpu().numpy()\n",
        "                    valid_labels = valid_labels.detach().cpu().numpy()\n",
        "\n",
        "\n",
        "                    valid_acc = f1_score(valid_labels, valid_predict,average='weighted')\n",
        "                    valid_perform += np.array([valid_loss.item(), valid_acc])\n",
        "\n",
        "                    all_valid_predict_lst += list(valid_predict)\n",
        "                    all_valid_labels_lst += list(valid_labels)\n",
        "\n",
        "            ###### Model save\n",
        "            val_total_loss = valid_perform[0] / valid_batch_\n",
        "            val_total_acc = valid_perform[1] / valid_batch_\n",
        "            best_val_loss = min(best_val_loss, val_total_loss)\n",
        "\n",
        "            if val_total_acc > best_val_acc:    #  and val_total_acc >= 0.25\n",
        "                print(f\"New best model for val accuracy : {val_total_acc:#.4f}! saving the best model..\")\n",
        "                torch.save(model.state_dict(), f\"./models/{args.model_name}/{fold_idx}-fold/best.pt\")\n",
        "\n",
        "                # 참고 : Model 추가 재학습을 위한 모델을 저장하는 코드\n",
        "                # https://tutorials.pytorch.kr/beginner/saving_loading_models.html#checkpoint\n",
        "\n",
        "                best_val_acc = val_total_acc\n",
        "                early_stopping_counter = 0\n",
        "\n",
        "\n",
        "            else: # best보다 score가 안 좋을 때, early stopping check\n",
        "                early_stopping_counter += 1\n",
        "                if early_stopping_counter >= args.patience:\n",
        "                    print(\n",
        "                        f\"EarlyStopping counter: {early_stopping_counter} out of {args.patience}\"\n",
        "                    )\n",
        "                    break\n",
        "\n",
        "            print()\n",
        "            print(\n",
        "                f\">>>> Validation loss: {val_total_loss:#.5f}, Acc: {val_total_acc:#.4f}\"\n",
        "                )\n",
        "\n",
        "        best_val_acc_list.append(best_val_acc)\n",
        "\n",
        "        fold_idx +=1\n",
        "    print('='*50)\n",
        "    print(f\"{args.n_splits}-fold best_val_acc_list : {best_val_acc_list}\")\n",
        "    print('='*15, f'{args.n_splits}-fold Final Score(ACC) : {np.mean(best_val_acc_list)}', '='*15)"
      ]
    },
    {
      "cell_type": "code",
      "source": [
        "#형태소 및 키워드 데이터 불러오기\n",
        "df=pd.read_csv(\"FinalData_with_pos_keywords.csv\")\n",
        "#df=df.sample(7700)\n",
        "df['label'].value_counts()"
      ],
      "metadata": {
        "id": "M2RDifHgRHwO",
        "colab": {
          "base_uri": "https://localhost:8080/"
        },
        "outputId": "2ac495f0-e6cc-4205-c827-9e00abe8ef10"
      },
      "execution_count": 20,
      "outputs": [
        {
          "output_type": "execute_result",
          "data": {
            "text/plain": [
              "1    12067\n",
              "0    11473\n",
              "Name: label, dtype: int64"
            ]
          },
          "metadata": {},
          "execution_count": 20
        }
      ]
    },
    {
      "cell_type": "code",
      "source": [
        "from sklearn.model_selection import train_test_split\n",
        "\n",
        "train,test = train_test_split(df, test_size=0.2, random_state=42)\n",
        "\n",
        "train['label'].value_counts()"
      ],
      "metadata": {
        "colab": {
          "base_uri": "https://localhost:8080/"
        },
        "id": "q3wUeZk0zE89",
        "outputId": "37a82213-1529-4121-aa29-cfa05f489cc3"
      },
      "execution_count": 21,
      "outputs": [
        {
          "output_type": "execute_result",
          "data": {
            "text/plain": [
              "1    9647\n",
              "0    9185\n",
              "Name: label, dtype: int64"
            ]
          },
          "metadata": {},
          "execution_count": 21
        }
      ]
    },
    {
      "cell_type": "code",
      "source": [
        "train['pos_keywords']=train['pos']+train['keywords']\n",
        "test['pos_keywords']=test['pos']+test['keywords']\n",
        "\n",
        "train=train[['comment','pos','keywords','pos_keywords','label']]\n",
        "test=test[['comment','pos','keywords','pos_keywords','label']]\n",
        "\n",
        "train.head()"
      ],
      "metadata": {
        "colab": {
          "base_uri": "https://localhost:8080/",
          "height": 467
        },
        "id": "qrHW15kZMAb4",
        "outputId": "fb25d4c3-e56d-4239-e262-3fdaa6f6bb1d"
      },
      "execution_count": 22,
      "outputs": [
        {
          "output_type": "execute_result",
          "data": {
            "text/plain": [
              "                                                 comment  \\\n",
              "3      네. 대출금 추정 후 연체가 없으면 원리 균등분할상환 원금 이상 중 한 번 상법을 ...   \n",
              "12250  기업은행입니다. 무엇을 도와 드릴까요 고객님? 수표를 분실했습니다. 어떻게 해야 하...   \n",
              "14720  적금통장 해지하려고 요 적금 만기가 안 됐는데 해지가 되나요? 되기는 합니다만 손해...   \n",
              "17134  보험계약대출을 받으려고 하는데 인터넷을 신청이 가능한가요? 네. 가능합니다. 고객님...   \n",
              "7898   그랬고요 제가 몇 가지 질문 좀 드리고 바로 본론 말씀드리겠습니다. 네, 본인 혹시...   \n",
              "\n",
              "                                                     pos  \\\n",
              "3       출금 추정 연체 없다 원리 균등 분할 상환 원금 이상 하다 상법 변경 하다 있다 ...   \n",
              "12250   기업은행 이다 무엇 드릴 끄다 고객 수표 분실 하다 어떻다 하다 하나요 가깝다 영...   \n",
              "14720   적금 통장 해지 하다 적금 만기 돼다 해지 되다 되다 기다 하다 손해 발생 되다 ...   \n",
              "17134   보험 대출 받다 하다 인터넷 신청 가능하다 가능하다 고객 인터넷 대출 신청 하다 ...   \n",
              "7898    그렇다 가지 질문 드리다 바로 본론 말씀드리다 본인 혹시 거주 하다 사다 남성 김...   \n",
              "\n",
              "                                                keywords  \\\n",
              "3      상환, 다음, 수도, 계약, 공사, 설정, 방법, 자동, 대출, 캠코, 대해, 스포...   \n",
              "12250  신고, 사고, 방문, 서면, 영업, 수표, 문의사항, 가능성, 해제, 남편, 하나요...   \n",
              "14720  해지, 만기, 적금, 얼마, 손해, 뭔가, 복구, 생각, 원금, 사유, 발생, 언제...   \n",
              "17134  통장, 입금, 대출, 고객, 보험, 때문, 혹시, 명의, 오늘, 확인, 정도, 시간...   \n",
              "7898   지금, 녹음, 저희, 질문, 바로, 매우, 가지, 범죄수사, 거주, 직업, 첨단, ...   \n",
              "\n",
              "                                            pos_keywords  label  \n",
              "3       출금 추정 연체 없다 원리 균등 분할 상환 원금 이상 하다 상법 변경 하다 있다 ...      1  \n",
              "12250   기업은행 이다 무엇 드릴 끄다 고객 수표 분실 하다 어떻다 하다 하나요 가깝다 영...      0  \n",
              "14720   적금 통장 해지 하다 적금 만기 돼다 해지 되다 되다 기다 하다 손해 발생 되다 ...      0  \n",
              "17134   보험 대출 받다 하다 인터넷 신청 가능하다 가능하다 고객 인터넷 대출 신청 하다 ...      0  \n",
              "7898    그렇다 가지 질문 드리다 바로 본론 말씀드리다 본인 혹시 거주 하다 사다 남성 김...      1  "
            ],
            "text/html": [
              "\n",
              "  <div id=\"df-ca2244e1-42bc-4eb5-bcbc-942127897310\" class=\"colab-df-container\">\n",
              "    <div>\n",
              "<style scoped>\n",
              "    .dataframe tbody tr th:only-of-type {\n",
              "        vertical-align: middle;\n",
              "    }\n",
              "\n",
              "    .dataframe tbody tr th {\n",
              "        vertical-align: top;\n",
              "    }\n",
              "\n",
              "    .dataframe thead th {\n",
              "        text-align: right;\n",
              "    }\n",
              "</style>\n",
              "<table border=\"1\" class=\"dataframe\">\n",
              "  <thead>\n",
              "    <tr style=\"text-align: right;\">\n",
              "      <th></th>\n",
              "      <th>comment</th>\n",
              "      <th>pos</th>\n",
              "      <th>keywords</th>\n",
              "      <th>pos_keywords</th>\n",
              "      <th>label</th>\n",
              "    </tr>\n",
              "  </thead>\n",
              "  <tbody>\n",
              "    <tr>\n",
              "      <th>3</th>\n",
              "      <td>네. 대출금 추정 후 연체가 없으면 원리 균등분할상환 원금 이상 중 한 번 상법을 ...</td>\n",
              "      <td>출금 추정 연체 없다 원리 균등 분할 상환 원금 이상 하다 상법 변경 하다 있다 ...</td>\n",
              "      <td>상환, 다음, 수도, 계약, 공사, 설정, 방법, 자동, 대출, 캠코, 대해, 스포...</td>\n",
              "      <td>출금 추정 연체 없다 원리 균등 분할 상환 원금 이상 하다 상법 변경 하다 있다 ...</td>\n",
              "      <td>1</td>\n",
              "    </tr>\n",
              "    <tr>\n",
              "      <th>12250</th>\n",
              "      <td>기업은행입니다. 무엇을 도와 드릴까요 고객님? 수표를 분실했습니다. 어떻게 해야 하...</td>\n",
              "      <td>기업은행 이다 무엇 드릴 끄다 고객 수표 분실 하다 어떻다 하다 하나요 가깝다 영...</td>\n",
              "      <td>신고, 사고, 방문, 서면, 영업, 수표, 문의사항, 가능성, 해제, 남편, 하나요...</td>\n",
              "      <td>기업은행 이다 무엇 드릴 끄다 고객 수표 분실 하다 어떻다 하다 하나요 가깝다 영...</td>\n",
              "      <td>0</td>\n",
              "    </tr>\n",
              "    <tr>\n",
              "      <th>14720</th>\n",
              "      <td>적금통장 해지하려고 요 적금 만기가 안 됐는데 해지가 되나요? 되기는 합니다만 손해...</td>\n",
              "      <td>적금 통장 해지 하다 적금 만기 돼다 해지 되다 되다 기다 하다 손해 발생 되다 ...</td>\n",
              "      <td>해지, 만기, 적금, 얼마, 손해, 뭔가, 복구, 생각, 원금, 사유, 발생, 언제...</td>\n",
              "      <td>적금 통장 해지 하다 적금 만기 돼다 해지 되다 되다 기다 하다 손해 발생 되다 ...</td>\n",
              "      <td>0</td>\n",
              "    </tr>\n",
              "    <tr>\n",
              "      <th>17134</th>\n",
              "      <td>보험계약대출을 받으려고 하는데 인터넷을 신청이 가능한가요? 네. 가능합니다. 고객님...</td>\n",
              "      <td>보험 대출 받다 하다 인터넷 신청 가능하다 가능하다 고객 인터넷 대출 신청 하다 ...</td>\n",
              "      <td>통장, 입금, 대출, 고객, 보험, 때문, 혹시, 명의, 오늘, 확인, 정도, 시간...</td>\n",
              "      <td>보험 대출 받다 하다 인터넷 신청 가능하다 가능하다 고객 인터넷 대출 신청 하다 ...</td>\n",
              "      <td>0</td>\n",
              "    </tr>\n",
              "    <tr>\n",
              "      <th>7898</th>\n",
              "      <td>그랬고요 제가 몇 가지 질문 좀 드리고 바로 본론 말씀드리겠습니다. 네, 본인 혹시...</td>\n",
              "      <td>그렇다 가지 질문 드리다 바로 본론 말씀드리다 본인 혹시 거주 하다 사다 남성 김...</td>\n",
              "      <td>지금, 녹음, 저희, 질문, 바로, 매우, 가지, 범죄수사, 거주, 직업, 첨단, ...</td>\n",
              "      <td>그렇다 가지 질문 드리다 바로 본론 말씀드리다 본인 혹시 거주 하다 사다 남성 김...</td>\n",
              "      <td>1</td>\n",
              "    </tr>\n",
              "  </tbody>\n",
              "</table>\n",
              "</div>\n",
              "    <div class=\"colab-df-buttons\">\n",
              "\n",
              "  <div class=\"colab-df-container\">\n",
              "    <button class=\"colab-df-convert\" onclick=\"convertToInteractive('df-ca2244e1-42bc-4eb5-bcbc-942127897310')\"\n",
              "            title=\"Convert this dataframe to an interactive table.\"\n",
              "            style=\"display:none;\">\n",
              "\n",
              "  <svg xmlns=\"http://www.w3.org/2000/svg\" height=\"24px\" viewBox=\"0 -960 960 960\">\n",
              "    <path d=\"M120-120v-720h720v720H120Zm60-500h600v-160H180v160Zm220 220h160v-160H400v160Zm0 220h160v-160H400v160ZM180-400h160v-160H180v160Zm440 0h160v-160H620v160ZM180-180h160v-160H180v160Zm440 0h160v-160H620v160Z\"/>\n",
              "  </svg>\n",
              "    </button>\n",
              "\n",
              "  <style>\n",
              "    .colab-df-container {\n",
              "      display:flex;\n",
              "      gap: 12px;\n",
              "    }\n",
              "\n",
              "    .colab-df-convert {\n",
              "      background-color: #E8F0FE;\n",
              "      border: none;\n",
              "      border-radius: 50%;\n",
              "      cursor: pointer;\n",
              "      display: none;\n",
              "      fill: #1967D2;\n",
              "      height: 32px;\n",
              "      padding: 0 0 0 0;\n",
              "      width: 32px;\n",
              "    }\n",
              "\n",
              "    .colab-df-convert:hover {\n",
              "      background-color: #E2EBFA;\n",
              "      box-shadow: 0px 1px 2px rgba(60, 64, 67, 0.3), 0px 1px 3px 1px rgba(60, 64, 67, 0.15);\n",
              "      fill: #174EA6;\n",
              "    }\n",
              "\n",
              "    .colab-df-buttons div {\n",
              "      margin-bottom: 4px;\n",
              "    }\n",
              "\n",
              "    [theme=dark] .colab-df-convert {\n",
              "      background-color: #3B4455;\n",
              "      fill: #D2E3FC;\n",
              "    }\n",
              "\n",
              "    [theme=dark] .colab-df-convert:hover {\n",
              "      background-color: #434B5C;\n",
              "      box-shadow: 0px 1px 3px 1px rgba(0, 0, 0, 0.15);\n",
              "      filter: drop-shadow(0px 1px 2px rgba(0, 0, 0, 0.3));\n",
              "      fill: #FFFFFF;\n",
              "    }\n",
              "  </style>\n",
              "\n",
              "    <script>\n",
              "      const buttonEl =\n",
              "        document.querySelector('#df-ca2244e1-42bc-4eb5-bcbc-942127897310 button.colab-df-convert');\n",
              "      buttonEl.style.display =\n",
              "        google.colab.kernel.accessAllowed ? 'block' : 'none';\n",
              "\n",
              "      async function convertToInteractive(key) {\n",
              "        const element = document.querySelector('#df-ca2244e1-42bc-4eb5-bcbc-942127897310');\n",
              "        const dataTable =\n",
              "          await google.colab.kernel.invokeFunction('convertToInteractive',\n",
              "                                                    [key], {});\n",
              "        if (!dataTable) return;\n",
              "\n",
              "        const docLinkHtml = 'Like what you see? Visit the ' +\n",
              "          '<a target=\"_blank\" href=https://colab.research.google.com/notebooks/data_table.ipynb>data table notebook</a>'\n",
              "          + ' to learn more about interactive tables.';\n",
              "        element.innerHTML = '';\n",
              "        dataTable['output_type'] = 'display_data';\n",
              "        await google.colab.output.renderOutput(dataTable, element);\n",
              "        const docLink = document.createElement('div');\n",
              "        docLink.innerHTML = docLinkHtml;\n",
              "        element.appendChild(docLink);\n",
              "      }\n",
              "    </script>\n",
              "  </div>\n",
              "\n",
              "\n",
              "<div id=\"df-84a5ae9c-effe-49b2-b935-67284d18acf6\">\n",
              "  <button class=\"colab-df-quickchart\" onclick=\"quickchart('df-84a5ae9c-effe-49b2-b935-67284d18acf6')\"\n",
              "            title=\"Suggest charts.\"\n",
              "            style=\"display:none;\">\n",
              "\n",
              "<svg xmlns=\"http://www.w3.org/2000/svg\" height=\"24px\"viewBox=\"0 0 24 24\"\n",
              "     width=\"24px\">\n",
              "    <g>\n",
              "        <path d=\"M19 3H5c-1.1 0-2 .9-2 2v14c0 1.1.9 2 2 2h14c1.1 0 2-.9 2-2V5c0-1.1-.9-2-2-2zM9 17H7v-7h2v7zm4 0h-2V7h2v10zm4 0h-2v-4h2v4z\"/>\n",
              "    </g>\n",
              "</svg>\n",
              "  </button>\n",
              "\n",
              "<style>\n",
              "  .colab-df-quickchart {\n",
              "    background-color: #E8F0FE;\n",
              "    border: none;\n",
              "    border-radius: 50%;\n",
              "    cursor: pointer;\n",
              "    display: none;\n",
              "    fill: #1967D2;\n",
              "    height: 32px;\n",
              "    padding: 0 0 0 0;\n",
              "    width: 32px;\n",
              "  }\n",
              "\n",
              "  .colab-df-quickchart:hover {\n",
              "    background-color: #E2EBFA;\n",
              "    box-shadow: 0px 1px 2px rgba(60, 64, 67, 0.3), 0px 1px 3px 1px rgba(60, 64, 67, 0.15);\n",
              "    fill: #174EA6;\n",
              "  }\n",
              "\n",
              "  [theme=dark] .colab-df-quickchart {\n",
              "    background-color: #3B4455;\n",
              "    fill: #D2E3FC;\n",
              "  }\n",
              "\n",
              "  [theme=dark] .colab-df-quickchart:hover {\n",
              "    background-color: #434B5C;\n",
              "    box-shadow: 0px 1px 3px 1px rgba(0, 0, 0, 0.15);\n",
              "    filter: drop-shadow(0px 1px 2px rgba(0, 0, 0, 0.3));\n",
              "    fill: #FFFFFF;\n",
              "  }\n",
              "</style>\n",
              "\n",
              "  <script>\n",
              "    async function quickchart(key) {\n",
              "      const charts = await google.colab.kernel.invokeFunction(\n",
              "          'suggestCharts', [key], {});\n",
              "    }\n",
              "    (() => {\n",
              "      let quickchartButtonEl =\n",
              "        document.querySelector('#df-84a5ae9c-effe-49b2-b935-67284d18acf6 button');\n",
              "      quickchartButtonEl.style.display =\n",
              "        google.colab.kernel.accessAllowed ? 'block' : 'none';\n",
              "    })();\n",
              "  </script>\n",
              "</div>\n",
              "    </div>\n",
              "  </div>\n"
            ]
          },
          "metadata": {},
          "execution_count": 22
        }
      ]
    },
    {
      "cell_type": "code",
      "source": [
        "train.to_csv('./data/train_data.csv',index=False)\n",
        "test.to_csv('./data/test_data.csv',index=False)\n",
        "test.head()"
      ],
      "metadata": {
        "id": "tPMgZN6HQz_n",
        "colab": {
          "base_uri": "https://localhost:8080/",
          "height": 467
        },
        "outputId": "1e338d11-8b46-40bf-8c6f-60d1ff86225c"
      },
      "execution_count": 23,
      "outputs": [
        {
          "output_type": "execute_result",
          "data": {
            "text/plain": [
              "                                                 comment  \\\n",
              "5945   해요. 일단 잘 알겠고요 저희들이 금융 계열사 저축은행인데요 지금 오월에 저희들이 ...   \n",
              "1288   똑바로 얘기하라고 야, 신고하면 진짜 죽 여버린 다 여보 세 그러니까요? 나는 돈이...   \n",
              "17581  중학교 1학년 자녀의 펀드 계좌를 만들고 싶은데요? 계좌 개설 가능하십니다. 영업점...   \n",
              "8086   여보세요 어떤 부분으로요? 지금 제가 황이 연사 건의 황민 씨 사건에 연루돼 있기 ...   \n",
              "7615   여보세요 드립니다. 제가 하셔야 되기 때문에 이 부분을 옛날 드리고 통화가 안 하시...   \n",
              "\n",
              "                                                     pos  \\\n",
              "5945    일단 자다 알다 저희 금융 열사 저축은행 지금 오월 저희 대화 대출 플러스 생활 ...   \n",
              "1288    똑바로 얘기 신고 하다 진짜 버리다 여보 필요하다 혜림이 잠깐 데리 있다 거지 사...   \n",
              "17581   중학교 학년 자녀 펀드 계좌 만들다 싶다 계좌 개설 가능하다 영업 가지 않다 개설...   \n",
              "8086    어떻다 부분 지금 연사 건의 황민 사건 연루 돼다 있다 때문 저희 검찰청 오다 조...   \n",
              "7615    드리다 하다 되다 때문 부분 옛날 드리다 통화 하다 지금 부분 대해 조사 높이 하...   \n",
              "\n",
              "                                                keywords  \\\n",
              "5945   대출, 오월, 저희, 일단, 지금, 이름, 오천만, 생활, 전화, 자금, 프로, 삼...   \n",
              "1288    사람, 전화, 똑바로, 혜림이, 신고, 잠깐, 지금, 얘기, 거지, 여보, 데리, 진짜   \n",
              "17581  개설, 영업, 부모님, 서류, 학년, 방문, 가족, 문자, 증명서, 신분증, 혼자,...   \n",
              "8086   일정, 저희, 연락, 시간, 처음, 세탁, 지금, 사건, 통장, 질문, 수사, 때문...   \n",
              "7615   저희, 지금, 본인, 삼월, 대부분, 강남구, 결과, 고요, 동결, 수사, 가끔, ...   \n",
              "\n",
              "                                            pos_keywords  label  \n",
              "5945    일단 자다 알다 저희 금융 열사 저축은행 지금 오월 저희 대화 대출 플러스 생활 ...      1  \n",
              "1288    똑바로 얘기 신고 하다 진짜 버리다 여보 필요하다 혜림이 잠깐 데리 있다 거지 사...      1  \n",
              "17581   중학교 학년 자녀 펀드 계좌 만들다 싶다 계좌 개설 가능하다 영업 가지 않다 개설...      0  \n",
              "8086    어떻다 부분 지금 연사 건의 황민 사건 연루 돼다 있다 때문 저희 검찰청 오다 조...      1  \n",
              "7615    드리다 하다 되다 때문 부분 옛날 드리다 통화 하다 지금 부분 대해 조사 높이 하...      1  "
            ],
            "text/html": [
              "\n",
              "  <div id=\"df-f3fd98e7-bac7-45aa-9893-e6ec3140f8bb\" class=\"colab-df-container\">\n",
              "    <div>\n",
              "<style scoped>\n",
              "    .dataframe tbody tr th:only-of-type {\n",
              "        vertical-align: middle;\n",
              "    }\n",
              "\n",
              "    .dataframe tbody tr th {\n",
              "        vertical-align: top;\n",
              "    }\n",
              "\n",
              "    .dataframe thead th {\n",
              "        text-align: right;\n",
              "    }\n",
              "</style>\n",
              "<table border=\"1\" class=\"dataframe\">\n",
              "  <thead>\n",
              "    <tr style=\"text-align: right;\">\n",
              "      <th></th>\n",
              "      <th>comment</th>\n",
              "      <th>pos</th>\n",
              "      <th>keywords</th>\n",
              "      <th>pos_keywords</th>\n",
              "      <th>label</th>\n",
              "    </tr>\n",
              "  </thead>\n",
              "  <tbody>\n",
              "    <tr>\n",
              "      <th>5945</th>\n",
              "      <td>해요. 일단 잘 알겠고요 저희들이 금융 계열사 저축은행인데요 지금 오월에 저희들이 ...</td>\n",
              "      <td>일단 자다 알다 저희 금융 열사 저축은행 지금 오월 저희 대화 대출 플러스 생활 ...</td>\n",
              "      <td>대출, 오월, 저희, 일단, 지금, 이름, 오천만, 생활, 전화, 자금, 프로, 삼...</td>\n",
              "      <td>일단 자다 알다 저희 금융 열사 저축은행 지금 오월 저희 대화 대출 플러스 생활 ...</td>\n",
              "      <td>1</td>\n",
              "    </tr>\n",
              "    <tr>\n",
              "      <th>1288</th>\n",
              "      <td>똑바로 얘기하라고 야, 신고하면 진짜 죽 여버린 다 여보 세 그러니까요? 나는 돈이...</td>\n",
              "      <td>똑바로 얘기 신고 하다 진짜 버리다 여보 필요하다 혜림이 잠깐 데리 있다 거지 사...</td>\n",
              "      <td>사람, 전화, 똑바로, 혜림이, 신고, 잠깐, 지금, 얘기, 거지, 여보, 데리, 진짜</td>\n",
              "      <td>똑바로 얘기 신고 하다 진짜 버리다 여보 필요하다 혜림이 잠깐 데리 있다 거지 사...</td>\n",
              "      <td>1</td>\n",
              "    </tr>\n",
              "    <tr>\n",
              "      <th>17581</th>\n",
              "      <td>중학교 1학년 자녀의 펀드 계좌를 만들고 싶은데요? 계좌 개설 가능하십니다. 영업점...</td>\n",
              "      <td>중학교 학년 자녀 펀드 계좌 만들다 싶다 계좌 개설 가능하다 영업 가지 않다 개설...</td>\n",
              "      <td>개설, 영업, 부모님, 서류, 학년, 방문, 가족, 문자, 증명서, 신분증, 혼자,...</td>\n",
              "      <td>중학교 학년 자녀 펀드 계좌 만들다 싶다 계좌 개설 가능하다 영업 가지 않다 개설...</td>\n",
              "      <td>0</td>\n",
              "    </tr>\n",
              "    <tr>\n",
              "      <th>8086</th>\n",
              "      <td>여보세요 어떤 부분으로요? 지금 제가 황이 연사 건의 황민 씨 사건에 연루돼 있기 ...</td>\n",
              "      <td>어떻다 부분 지금 연사 건의 황민 사건 연루 돼다 있다 때문 저희 검찰청 오다 조...</td>\n",
              "      <td>일정, 저희, 연락, 시간, 처음, 세탁, 지금, 사건, 통장, 질문, 수사, 때문...</td>\n",
              "      <td>어떻다 부분 지금 연사 건의 황민 사건 연루 돼다 있다 때문 저희 검찰청 오다 조...</td>\n",
              "      <td>1</td>\n",
              "    </tr>\n",
              "    <tr>\n",
              "      <th>7615</th>\n",
              "      <td>여보세요 드립니다. 제가 하셔야 되기 때문에 이 부분을 옛날 드리고 통화가 안 하시...</td>\n",
              "      <td>드리다 하다 되다 때문 부분 옛날 드리다 통화 하다 지금 부분 대해 조사 높이 하...</td>\n",
              "      <td>저희, 지금, 본인, 삼월, 대부분, 강남구, 결과, 고요, 동결, 수사, 가끔, ...</td>\n",
              "      <td>드리다 하다 되다 때문 부분 옛날 드리다 통화 하다 지금 부분 대해 조사 높이 하...</td>\n",
              "      <td>1</td>\n",
              "    </tr>\n",
              "  </tbody>\n",
              "</table>\n",
              "</div>\n",
              "    <div class=\"colab-df-buttons\">\n",
              "\n",
              "  <div class=\"colab-df-container\">\n",
              "    <button class=\"colab-df-convert\" onclick=\"convertToInteractive('df-f3fd98e7-bac7-45aa-9893-e6ec3140f8bb')\"\n",
              "            title=\"Convert this dataframe to an interactive table.\"\n",
              "            style=\"display:none;\">\n",
              "\n",
              "  <svg xmlns=\"http://www.w3.org/2000/svg\" height=\"24px\" viewBox=\"0 -960 960 960\">\n",
              "    <path d=\"M120-120v-720h720v720H120Zm60-500h600v-160H180v160Zm220 220h160v-160H400v160Zm0 220h160v-160H400v160ZM180-400h160v-160H180v160Zm440 0h160v-160H620v160ZM180-180h160v-160H180v160Zm440 0h160v-160H620v160Z\"/>\n",
              "  </svg>\n",
              "    </button>\n",
              "\n",
              "  <style>\n",
              "    .colab-df-container {\n",
              "      display:flex;\n",
              "      gap: 12px;\n",
              "    }\n",
              "\n",
              "    .colab-df-convert {\n",
              "      background-color: #E8F0FE;\n",
              "      border: none;\n",
              "      border-radius: 50%;\n",
              "      cursor: pointer;\n",
              "      display: none;\n",
              "      fill: #1967D2;\n",
              "      height: 32px;\n",
              "      padding: 0 0 0 0;\n",
              "      width: 32px;\n",
              "    }\n",
              "\n",
              "    .colab-df-convert:hover {\n",
              "      background-color: #E2EBFA;\n",
              "      box-shadow: 0px 1px 2px rgba(60, 64, 67, 0.3), 0px 1px 3px 1px rgba(60, 64, 67, 0.15);\n",
              "      fill: #174EA6;\n",
              "    }\n",
              "\n",
              "    .colab-df-buttons div {\n",
              "      margin-bottom: 4px;\n",
              "    }\n",
              "\n",
              "    [theme=dark] .colab-df-convert {\n",
              "      background-color: #3B4455;\n",
              "      fill: #D2E3FC;\n",
              "    }\n",
              "\n",
              "    [theme=dark] .colab-df-convert:hover {\n",
              "      background-color: #434B5C;\n",
              "      box-shadow: 0px 1px 3px 1px rgba(0, 0, 0, 0.15);\n",
              "      filter: drop-shadow(0px 1px 2px rgba(0, 0, 0, 0.3));\n",
              "      fill: #FFFFFF;\n",
              "    }\n",
              "  </style>\n",
              "\n",
              "    <script>\n",
              "      const buttonEl =\n",
              "        document.querySelector('#df-f3fd98e7-bac7-45aa-9893-e6ec3140f8bb button.colab-df-convert');\n",
              "      buttonEl.style.display =\n",
              "        google.colab.kernel.accessAllowed ? 'block' : 'none';\n",
              "\n",
              "      async function convertToInteractive(key) {\n",
              "        const element = document.querySelector('#df-f3fd98e7-bac7-45aa-9893-e6ec3140f8bb');\n",
              "        const dataTable =\n",
              "          await google.colab.kernel.invokeFunction('convertToInteractive',\n",
              "                                                    [key], {});\n",
              "        if (!dataTable) return;\n",
              "\n",
              "        const docLinkHtml = 'Like what you see? Visit the ' +\n",
              "          '<a target=\"_blank\" href=https://colab.research.google.com/notebooks/data_table.ipynb>data table notebook</a>'\n",
              "          + ' to learn more about interactive tables.';\n",
              "        element.innerHTML = '';\n",
              "        dataTable['output_type'] = 'display_data';\n",
              "        await google.colab.output.renderOutput(dataTable, element);\n",
              "        const docLink = document.createElement('div');\n",
              "        docLink.innerHTML = docLinkHtml;\n",
              "        element.appendChild(docLink);\n",
              "      }\n",
              "    </script>\n",
              "  </div>\n",
              "\n",
              "\n",
              "<div id=\"df-83f254a0-efde-49d2-85c7-0bd56de342cb\">\n",
              "  <button class=\"colab-df-quickchart\" onclick=\"quickchart('df-83f254a0-efde-49d2-85c7-0bd56de342cb')\"\n",
              "            title=\"Suggest charts.\"\n",
              "            style=\"display:none;\">\n",
              "\n",
              "<svg xmlns=\"http://www.w3.org/2000/svg\" height=\"24px\"viewBox=\"0 0 24 24\"\n",
              "     width=\"24px\">\n",
              "    <g>\n",
              "        <path d=\"M19 3H5c-1.1 0-2 .9-2 2v14c0 1.1.9 2 2 2h14c1.1 0 2-.9 2-2V5c0-1.1-.9-2-2-2zM9 17H7v-7h2v7zm4 0h-2V7h2v10zm4 0h-2v-4h2v4z\"/>\n",
              "    </g>\n",
              "</svg>\n",
              "  </button>\n",
              "\n",
              "<style>\n",
              "  .colab-df-quickchart {\n",
              "    background-color: #E8F0FE;\n",
              "    border: none;\n",
              "    border-radius: 50%;\n",
              "    cursor: pointer;\n",
              "    display: none;\n",
              "    fill: #1967D2;\n",
              "    height: 32px;\n",
              "    padding: 0 0 0 0;\n",
              "    width: 32px;\n",
              "  }\n",
              "\n",
              "  .colab-df-quickchart:hover {\n",
              "    background-color: #E2EBFA;\n",
              "    box-shadow: 0px 1px 2px rgba(60, 64, 67, 0.3), 0px 1px 3px 1px rgba(60, 64, 67, 0.15);\n",
              "    fill: #174EA6;\n",
              "  }\n",
              "\n",
              "  [theme=dark] .colab-df-quickchart {\n",
              "    background-color: #3B4455;\n",
              "    fill: #D2E3FC;\n",
              "  }\n",
              "\n",
              "  [theme=dark] .colab-df-quickchart:hover {\n",
              "    background-color: #434B5C;\n",
              "    box-shadow: 0px 1px 3px 1px rgba(0, 0, 0, 0.15);\n",
              "    filter: drop-shadow(0px 1px 2px rgba(0, 0, 0, 0.3));\n",
              "    fill: #FFFFFF;\n",
              "  }\n",
              "</style>\n",
              "\n",
              "  <script>\n",
              "    async function quickchart(key) {\n",
              "      const charts = await google.colab.kernel.invokeFunction(\n",
              "          'suggestCharts', [key], {});\n",
              "    }\n",
              "    (() => {\n",
              "      let quickchartButtonEl =\n",
              "        document.querySelector('#df-83f254a0-efde-49d2-85c7-0bd56de342cb button');\n",
              "      quickchartButtonEl.style.display =\n",
              "        google.colab.kernel.accessAllowed ? 'block' : 'none';\n",
              "    })();\n",
              "  </script>\n",
              "</div>\n",
              "    </div>\n",
              "  </div>\n"
            ]
          },
          "metadata": {},
          "execution_count": 23
        }
      ]
    },
    {
      "cell_type": "code",
      "execution_count": 24,
      "metadata": {
        "colab": {
          "base_uri": "https://localhost:8080/"
        },
        "id": "i1xHesQqdx1x",
        "outputId": "e6101ceb-a74c-439b-b2c1-e8e3210af95f"
      },
      "outputs": [
        {
          "output_type": "stream",
          "name": "stdout",
          "text": [
            "current device : cpu\n",
            "Seed set as 42\n"
          ]
        }
      ],
      "source": [
        "import easydict\n",
        "\n",
        "device = torch.device(\"cuda\" if torch.cuda.is_available() else \"cpu\")\n",
        "print(f'current device : {device}')\n",
        "\n",
        "args = easydict.EasyDict({\n",
        "        \"seed\":42,\n",
        "        \"optimizer\":\"AdamW\",    # help = (AdamW, Adam, AdamP)\n",
        "        \"scheduler\":\"linear\",     # help= (linear, cosine, plateau ...)\n",
        "        \"warmup_steps\":500,\n",
        "        \"cycle_mult\":1.2,\n",
        "        \"seq_max_len\":750, # For using block_sparse(attention type),it muse be longer than 704\n",
        "        \"batch_size\": 8, #16\n",
        "        \"epochs\": 20,\n",
        "        \"patience\":5,\n",
        "        \"n_splits\" : 5,\n",
        "        \"lr\": 1e-05,\n",
        "        \"num_workers\":2,\n",
        "        \"criterion\":'cross', # 'smoothing','focal','cross'\n",
        "        \"smoothing\": 0.0,\n",
        "        \"dp\": 0.0,\n",
        "        \"model\": \"r_kobigbird\",  # help='model type ( r_kobigbird, r_klue_roberta)'\n",
        "\n",
        "        \"logging_wrong_samples\":False,\n",
        "        \"train_file\":'train_data.csv',\n",
        "        \"test_file\":'test_data.csv',\n",
        "        \"add_klue_data\":False,\n",
        "        'add_nikl_data':False,\n",
        "    })\n",
        "\n",
        "project_name = f\"[comment+(pos+keywords)]_{args.model}_Scdu{args.scheduler}_Dp{args.dp}_add_klue_data{args.add_klue_data}_{args.n_splits}Fd_Sm{args.smoothing}_Bs{args.batch_size}_Lr{args.lr}_Ep{args.epochs}_Cy{args.cycle_mult}\"\n",
        "args.update(\n",
        "            {\n",
        "                \"project_name\":project_name,\n",
        "                \"model_name\":project_name,\n",
        "             }\n",
        "            )\n",
        "\n",
        "seed_everything(args.seed)\n"
      ]
    },
    {
      "cell_type": "code",
      "execution_count": 25,
      "metadata": {
        "colab": {
          "base_uri": "https://localhost:8080/"
        },
        "id": "UZW5MOBd8eZo",
        "outputId": "405f8cf6-f964-4aba-e022-a20660c44de4"
      },
      "outputs": [
        {
          "output_type": "execute_result",
          "data": {
            "text/plain": [
              "{'seed': 42,\n",
              " 'optimizer': 'AdamW',\n",
              " 'scheduler': 'linear',\n",
              " 'warmup_steps': 500,\n",
              " 'cycle_mult': 1.2,\n",
              " 'seq_max_len': 750,\n",
              " 'batch_size': 8,\n",
              " 'epochs': 20,\n",
              " 'patience': 5,\n",
              " 'n_splits': 5,\n",
              " 'lr': 1e-05,\n",
              " 'num_workers': 2,\n",
              " 'criterion': 'cross',\n",
              " 'smoothing': 0.0,\n",
              " 'dp': 0.0,\n",
              " 'model': 'r_kobigbird',\n",
              " 'logging_wrong_samples': False,\n",
              " 'train_file': 'train_data.csv',\n",
              " 'test_file': 'test_data.csv',\n",
              " 'add_klue_data': False,\n",
              " 'add_nikl_data': False,\n",
              " 'project_name': '[comment+(pos+keywords)]_r_kobigbird_Scdulinear_Dp0.0_add_klue_dataFalse_5Fd_Sm0.0_Bs8_Lr1e-05_Ep20_Cy1.2',\n",
              " 'model_name': '[comment+(pos+keywords)]_r_kobigbird_Scdulinear_Dp0.0_add_klue_dataFalse_5Fd_Sm0.0_Bs8_Lr1e-05_Ep20_Cy1.2'}"
            ]
          },
          "metadata": {},
          "execution_count": 25
        }
      ],
      "source": [
        "args"
      ]
    },
    {
      "cell_type": "markdown",
      "metadata": {
        "id": "AkzISGF8gdKY"
      },
      "source": [
        "## Training"
      ]
    },
    {
      "cell_type": "markdown",
      "source": [
        "- 모델 학습에서 5-Fold Ensemble을 시도했지만, Colab의 Ram부족,,GPU부족..ㅠ 이슈로 인하여 fold 1번 이외 학습 불가"
      ],
      "metadata": {
        "id": "e4RHweMZvwB7"
      }
    },
    {
      "cell_type": "code",
      "source": [
        "Train(args, fold_lst=[4])"
      ],
      "metadata": {
        "colab": {
          "base_uri": "https://localhost:8080/",
          "height": 1000,
          "referenced_widgets": [
            "8692ca365e3543d08b3d68a76b095607",
            "75f909c31799417a8d2406627ea878ee",
            "e057a39fe7d948d792607d81cd3a3fd3",
            "ded9acefe9a944919d5c9f959cb8a9aa",
            "a196de05b3fe42019fed90bc80c8533b",
            "a0b7c9eb65bd4e28bfe7ce437e7c3ca1",
            "1c604795c30f404bac97839ff34c7471",
            "3d5b580896a24b1a8bb56697146e2dda",
            "99ef87c0ffcd4c25b51c04c62ea352bf",
            "0bf72990c2304d1fb76c8d22a9b677bc",
            "cd0050baa553429ab28aa6f1c28f0169"
          ]
        },
        "id": "M7DaTo-UBnW_",
        "outputId": "50287946-c41f-4a41-d678-7fb274d8271b"
      },
      "execution_count": 48,
      "outputs": [
        {
          "output_type": "stream",
          "name": "stdout",
          "text": [
            "===================loading data=====================\n"
          ]
        },
        {
          "output_type": "display_data",
          "data": {
            "text/plain": [
              "Downloading model.safetensors:   0%|          | 0.00/458M [00:00<?, ?B/s]"
            ],
            "application/vnd.jupyter.widget-view+json": {
              "version_major": 2,
              "version_minor": 0,
              "model_id": "8692ca365e3543d08b3d68a76b095607"
            }
          },
          "metadata": {}
        },
        {
          "output_type": "stream",
          "name": "stdout",
          "text": [
            "===================get model===================\n",
            "len(train_label) : 15066\n",
            "len(train_data) : 15066\n",
            "get train & valid loader\n",
            "get optimzer & scheduler\n",
            "---------------------------------- 4 fold----------------------------------\n"
          ]
        },
        {
          "output_type": "stream",
          "name": "stderr",
          "text": [
            "\r  0%|          | 0/20 [00:00<?, ?it/s]"
          ]
        },
        {
          "output_type": "stream",
          "name": "stdout",
          "text": [
            "\n"
          ]
        },
        {
          "output_type": "stream",
          "name": "stderr",
          "text": [
            "  3%|▎         | 50/1884 [01:46<1:03:39,  2.08s/it]"
          ]
        },
        {
          "output_type": "stream",
          "name": "stdout",
          "text": [
            "Epoch 0001 #050 -- loss: 0.72387, acc: 0.4191\n"
          ]
        },
        {
          "output_type": "stream",
          "name": "stderr",
          "text": [
            "  5%|▌         | 100/1884 [03:30<1:02:04,  2.09s/it]"
          ]
        },
        {
          "output_type": "stream",
          "name": "stdout",
          "text": [
            "Epoch 0001 #100 -- loss: 0.56752, acc: 0.7607\n"
          ]
        },
        {
          "output_type": "stream",
          "name": "stderr",
          "text": [
            "  8%|▊         | 150/1884 [05:14<1:00:15,  2.08s/it]"
          ]
        },
        {
          "output_type": "stream",
          "name": "stdout",
          "text": [
            "Epoch 0001 #150 -- loss: 0.32978, acc: 0.9408\n"
          ]
        },
        {
          "output_type": "stream",
          "name": "stderr",
          "text": [
            " 11%|█         | 200/1884 [06:58<58:16,  2.08s/it]"
          ]
        },
        {
          "output_type": "stream",
          "name": "stdout",
          "text": [
            "Epoch 0001 #200 -- loss: 0.10517, acc: 0.9746\n"
          ]
        },
        {
          "output_type": "stream",
          "name": "stderr",
          "text": [
            " 13%|█▎        | 250/1884 [08:42<56:47,  2.09s/it]"
          ]
        },
        {
          "output_type": "stream",
          "name": "stdout",
          "text": [
            "Epoch 0001 #250 -- loss: 0.03903, acc: 0.9900\n"
          ]
        },
        {
          "output_type": "stream",
          "name": "stderr",
          "text": [
            " 16%|█▌        | 300/1884 [10:26<54:58,  2.08s/it]"
          ]
        },
        {
          "output_type": "stream",
          "name": "stdout",
          "text": [
            "Epoch 0001 #300 -- loss: 0.02656, acc: 0.9949\n"
          ]
        },
        {
          "output_type": "stream",
          "name": "stderr",
          "text": [
            " 19%|█▊        | 350/1884 [12:11<53:08,  2.08s/it]"
          ]
        },
        {
          "output_type": "stream",
          "name": "stdout",
          "text": [
            "Epoch 0001 #350 -- loss: 0.02105, acc: 0.9923\n"
          ]
        },
        {
          "output_type": "stream",
          "name": "stderr",
          "text": [
            " 21%|██        | 400/1884 [13:55<51:31,  2.08s/it]"
          ]
        },
        {
          "output_type": "stream",
          "name": "stdout",
          "text": [
            "Epoch 0001 #400 -- loss: 0.03012, acc: 0.9854\n"
          ]
        },
        {
          "output_type": "stream",
          "name": "stderr",
          "text": [
            " 24%|██▍       | 450/1884 [15:39<49:44,  2.08s/it]"
          ]
        },
        {
          "output_type": "stream",
          "name": "stdout",
          "text": [
            "Epoch 0001 #450 -- loss: 0.00882, acc: 0.9974\n"
          ]
        },
        {
          "output_type": "stream",
          "name": "stderr",
          "text": [
            " 27%|██▋       | 500/1884 [17:23<48:00,  2.08s/it]"
          ]
        },
        {
          "output_type": "stream",
          "name": "stdout",
          "text": [
            "Epoch 0001 #500 -- loss: 0.00837, acc: 0.9972\n"
          ]
        },
        {
          "output_type": "stream",
          "name": "stderr",
          "text": [
            " 29%|██▉       | 550/1884 [19:07<46:07,  2.07s/it]"
          ]
        },
        {
          "output_type": "stream",
          "name": "stdout",
          "text": [
            "Epoch 0001 #550 -- loss: 0.03918, acc: 0.9922\n"
          ]
        },
        {
          "output_type": "stream",
          "name": "stderr",
          "text": [
            " 32%|███▏      | 600/1884 [20:51<44:34,  2.08s/it]"
          ]
        },
        {
          "output_type": "stream",
          "name": "stdout",
          "text": [
            "Epoch 0001 #600 -- loss: 0.01629, acc: 0.9974\n"
          ]
        },
        {
          "output_type": "stream",
          "name": "stderr",
          "text": [
            " 35%|███▍      | 650/1884 [22:35<42:51,  2.08s/it]"
          ]
        },
        {
          "output_type": "stream",
          "name": "stdout",
          "text": [
            "Epoch 0001 #650 -- loss: 0.00295, acc: 1.0000\n"
          ]
        },
        {
          "output_type": "stream",
          "name": "stderr",
          "text": [
            " 37%|███▋      | 700/1884 [24:19<41:07,  2.08s/it]"
          ]
        },
        {
          "output_type": "stream",
          "name": "stdout",
          "text": [
            "Epoch 0001 #700 -- loss: 0.00733, acc: 0.9952\n"
          ]
        },
        {
          "output_type": "stream",
          "name": "stderr",
          "text": [
            " 40%|███▉      | 750/1884 [26:03<39:23,  2.08s/it]"
          ]
        },
        {
          "output_type": "stream",
          "name": "stdout",
          "text": [
            "Epoch 0001 #750 -- loss: 0.04496, acc: 0.9803\n"
          ]
        },
        {
          "output_type": "stream",
          "name": "stderr",
          "text": [
            " 42%|████▏     | 800/1884 [27:47<37:36,  2.08s/it]"
          ]
        },
        {
          "output_type": "stream",
          "name": "stdout",
          "text": [
            "Epoch 0001 #800 -- loss: 0.01132, acc: 0.9975\n"
          ]
        },
        {
          "output_type": "stream",
          "name": "stderr",
          "text": [
            " 45%|████▌     | 850/1884 [29:31<35:57,  2.09s/it]"
          ]
        },
        {
          "output_type": "stream",
          "name": "stdout",
          "text": [
            "Epoch 0001 #850 -- loss: 0.00344, acc: 1.0000\n"
          ]
        },
        {
          "output_type": "stream",
          "name": "stderr",
          "text": [
            " 48%|████▊     | 900/1884 [31:16<34:07,  2.08s/it]"
          ]
        },
        {
          "output_type": "stream",
          "name": "stdout",
          "text": [
            "Epoch 0001 #900 -- loss: 0.00161, acc: 1.0000\n"
          ]
        },
        {
          "output_type": "stream",
          "name": "stderr",
          "text": [
            " 50%|█████     | 950/1884 [33:00<32:19,  2.08s/it]"
          ]
        },
        {
          "output_type": "stream",
          "name": "stdout",
          "text": [
            "Epoch 0001 #950 -- loss: 0.00076, acc: 1.0000\n"
          ]
        },
        {
          "output_type": "stream",
          "name": "stderr",
          "text": [
            " 53%|█████▎    | 1000/1884 [34:44<30:37,  2.08s/it]"
          ]
        },
        {
          "output_type": "stream",
          "name": "stdout",
          "text": [
            "Epoch 0001 #1000 -- loss: 0.00327, acc: 1.0000\n"
          ]
        },
        {
          "output_type": "stream",
          "name": "stderr",
          "text": [
            " 56%|█████▌    | 1050/1884 [36:28<28:52,  2.08s/it]"
          ]
        },
        {
          "output_type": "stream",
          "name": "stdout",
          "text": [
            "Epoch 0001 #1050 -- loss: 0.00025, acc: 1.0000\n"
          ]
        },
        {
          "output_type": "stream",
          "name": "stderr",
          "text": [
            " 58%|█████▊    | 1100/1884 [38:12<27:07,  2.08s/it]"
          ]
        },
        {
          "output_type": "stream",
          "name": "stdout",
          "text": [
            "Epoch 0001 #1100 -- loss: 0.00082, acc: 1.0000\n"
          ]
        },
        {
          "output_type": "stream",
          "name": "stderr",
          "text": [
            " 61%|██████    | 1150/1884 [39:56<25:25,  2.08s/it]"
          ]
        },
        {
          "output_type": "stream",
          "name": "stdout",
          "text": [
            "Epoch 0001 #1150 -- loss: 0.00159, acc: 1.0000\n"
          ]
        },
        {
          "output_type": "stream",
          "name": "stderr",
          "text": [
            " 64%|██████▎   | 1200/1884 [41:40<23:40,  2.08s/it]"
          ]
        },
        {
          "output_type": "stream",
          "name": "stdout",
          "text": [
            "Epoch 0001 #1200 -- loss: 0.00014, acc: 1.0000\n"
          ]
        },
        {
          "output_type": "stream",
          "name": "stderr",
          "text": [
            " 66%|██████▋   | 1250/1884 [43:24<22:00,  2.08s/it]"
          ]
        },
        {
          "output_type": "stream",
          "name": "stdout",
          "text": [
            "Epoch 0001 #1250 -- loss: 0.01182, acc: 0.9950\n"
          ]
        },
        {
          "output_type": "stream",
          "name": "stderr",
          "text": [
            " 69%|██████▉   | 1300/1884 [45:08<20:13,  2.08s/it]"
          ]
        },
        {
          "output_type": "stream",
          "name": "stdout",
          "text": [
            "Epoch 0001 #1300 -- loss: 0.00139, acc: 1.0000\n"
          ]
        },
        {
          "output_type": "stream",
          "name": "stderr",
          "text": [
            " 72%|███████▏  | 1350/1884 [46:52<18:28,  2.08s/it]"
          ]
        },
        {
          "output_type": "stream",
          "name": "stdout",
          "text": [
            "Epoch 0001 #1350 -- loss: 0.00038, acc: 1.0000\n"
          ]
        },
        {
          "output_type": "stream",
          "name": "stderr",
          "text": [
            " 74%|███████▍  | 1400/1884 [48:36<16:49,  2.09s/it]"
          ]
        },
        {
          "output_type": "stream",
          "name": "stdout",
          "text": [
            "Epoch 0001 #1400 -- loss: 0.00022, acc: 1.0000\n"
          ]
        },
        {
          "output_type": "stream",
          "name": "stderr",
          "text": [
            " 77%|███████▋  | 1450/1884 [50:20<15:02,  2.08s/it]"
          ]
        },
        {
          "output_type": "stream",
          "name": "stdout",
          "text": [
            "Epoch 0001 #1450 -- loss: 0.00014, acc: 1.0000\n"
          ]
        },
        {
          "output_type": "stream",
          "name": "stderr",
          "text": [
            " 80%|███████▉  | 1500/1884 [52:04<13:18,  2.08s/it]"
          ]
        },
        {
          "output_type": "stream",
          "name": "stdout",
          "text": [
            "Epoch 0001 #1500 -- loss: 0.00022, acc: 1.0000\n"
          ]
        },
        {
          "output_type": "stream",
          "name": "stderr",
          "text": [
            " 82%|████████▏ | 1550/1884 [53:48<11:37,  2.09s/it]"
          ]
        },
        {
          "output_type": "stream",
          "name": "stdout",
          "text": [
            "Epoch 0001 #1550 -- loss: 0.00008, acc: 1.0000\n"
          ]
        },
        {
          "output_type": "stream",
          "name": "stderr",
          "text": [
            " 85%|████████▍ | 1600/1884 [55:32<09:49,  2.08s/it]"
          ]
        },
        {
          "output_type": "stream",
          "name": "stdout",
          "text": [
            "Epoch 0001 #1600 -- loss: 0.00057, acc: 1.0000\n"
          ]
        },
        {
          "output_type": "stream",
          "name": "stderr",
          "text": [
            " 88%|████████▊ | 1650/1884 [57:16<08:07,  2.08s/it]"
          ]
        },
        {
          "output_type": "stream",
          "name": "stdout",
          "text": [
            "Epoch 0001 #1650 -- loss: 0.00025, acc: 1.0000\n"
          ]
        },
        {
          "output_type": "stream",
          "name": "stderr",
          "text": [
            " 90%|█████████ | 1700/1884 [59:00<06:22,  2.08s/it]"
          ]
        },
        {
          "output_type": "stream",
          "name": "stdout",
          "text": [
            "Epoch 0001 #1700 -- loss: 0.00020, acc: 1.0000\n"
          ]
        },
        {
          "output_type": "stream",
          "name": "stderr",
          "text": [
            " 93%|█████████▎| 1750/1884 [1:00:44<04:38,  2.08s/it]"
          ]
        },
        {
          "output_type": "stream",
          "name": "stdout",
          "text": [
            "Epoch 0001 #1750 -- loss: 0.00017, acc: 1.0000\n"
          ]
        },
        {
          "output_type": "stream",
          "name": "stderr",
          "text": [
            " 96%|█████████▌| 1800/1884 [1:02:28<02:55,  2.09s/it]"
          ]
        },
        {
          "output_type": "stream",
          "name": "stdout",
          "text": [
            "Epoch 0001 #1800 -- loss: 0.00051, acc: 1.0000\n"
          ]
        },
        {
          "output_type": "stream",
          "name": "stderr",
          "text": [
            " 98%|█████████▊| 1850/1884 [1:04:13<01:10,  2.09s/it]"
          ]
        },
        {
          "output_type": "stream",
          "name": "stdout",
          "text": [
            "Epoch 0001 #1850 -- loss: 0.00037, acc: 1.0000\n"
          ]
        },
        {
          "output_type": "stream",
          "name": "stderr",
          "text": [
            "100%|██████████| 1884/1884 [1:05:22<00:00,  2.08s/it]"
          ]
        },
        {
          "output_type": "stream",
          "name": "stdout",
          "text": [
            "\n",
            "Epoch 0001 loss: 0.05462, acc: 0.97\n"
          ]
        },
        {
          "output_type": "stream",
          "name": "stderr",
          "text": [
            "\n"
          ]
        },
        {
          "output_type": "stream",
          "name": "stdout",
          "text": [
            "New best model for val accuracy : 0.9990! saving the best model..\n"
          ]
        },
        {
          "output_type": "stream",
          "name": "stderr",
          "text": [
            "\r  5%|▌         | 1/20 [1:09:41<22:04:00, 4181.10s/it]"
          ]
        },
        {
          "output_type": "stream",
          "name": "stdout",
          "text": [
            "\n",
            ">>>> Validation loss: 0.01106, Acc: 0.9990\n",
            "\n"
          ]
        },
        {
          "output_type": "stream",
          "name": "stderr",
          "text": [
            "  3%|▎         | 50/1884 [01:44<1:03:45,  2.09s/it]"
          ]
        },
        {
          "output_type": "stream",
          "name": "stdout",
          "text": [
            "Epoch 0002 #050 -- loss: 0.00474, acc: 1.0000\n"
          ]
        },
        {
          "output_type": "stream",
          "name": "stderr",
          "text": [
            "  5%|▌         | 100/1884 [03:28<1:01:51,  2.08s/it]"
          ]
        },
        {
          "output_type": "stream",
          "name": "stdout",
          "text": [
            "Epoch 0002 #100 -- loss: 0.00054, acc: 1.0000\n"
          ]
        },
        {
          "output_type": "stream",
          "name": "stderr",
          "text": [
            "  8%|▊         | 150/1884 [05:12<1:00:03,  2.08s/it]"
          ]
        },
        {
          "output_type": "stream",
          "name": "stdout",
          "text": [
            "Epoch 0002 #150 -- loss: 0.00070, acc: 1.0000\n"
          ]
        },
        {
          "output_type": "stream",
          "name": "stderr",
          "text": [
            " 11%|█         | 200/1884 [06:56<58:35,  2.09s/it]"
          ]
        },
        {
          "output_type": "stream",
          "name": "stdout",
          "text": [
            "Epoch 0002 #200 -- loss: 0.00081, acc: 1.0000\n"
          ]
        },
        {
          "output_type": "stream",
          "name": "stderr",
          "text": [
            " 13%|█▎        | 250/1884 [08:40<56:39,  2.08s/it]"
          ]
        },
        {
          "output_type": "stream",
          "name": "stdout",
          "text": [
            "Epoch 0002 #250 -- loss: 0.00080, acc: 1.0000\n"
          ]
        },
        {
          "output_type": "stream",
          "name": "stderr",
          "text": [
            " 16%|█▌        | 300/1884 [10:24<54:59,  2.08s/it]"
          ]
        },
        {
          "output_type": "stream",
          "name": "stdout",
          "text": [
            "Epoch 0002 #300 -- loss: 0.00036, acc: 1.0000\n"
          ]
        },
        {
          "output_type": "stream",
          "name": "stderr",
          "text": [
            " 19%|█▊        | 350/1884 [12:08<53:06,  2.08s/it]"
          ]
        },
        {
          "output_type": "stream",
          "name": "stdout",
          "text": [
            "Epoch 0002 #350 -- loss: 0.00017, acc: 1.0000\n"
          ]
        },
        {
          "output_type": "stream",
          "name": "stderr",
          "text": [
            " 21%|██        | 400/1884 [13:53<51:34,  2.09s/it]"
          ]
        },
        {
          "output_type": "stream",
          "name": "stdout",
          "text": [
            "Epoch 0002 #400 -- loss: 0.00015, acc: 1.0000\n"
          ]
        },
        {
          "output_type": "stream",
          "name": "stderr",
          "text": [
            " 24%|██▍       | 450/1884 [15:36<49:43,  2.08s/it]"
          ]
        },
        {
          "output_type": "stream",
          "name": "stdout",
          "text": [
            "Epoch 0002 #450 -- loss: 0.00030, acc: 1.0000\n"
          ]
        },
        {
          "output_type": "stream",
          "name": "stderr",
          "text": [
            " 27%|██▋       | 500/1884 [17:21<48:03,  2.08s/it]"
          ]
        },
        {
          "output_type": "stream",
          "name": "stdout",
          "text": [
            "Epoch 0002 #500 -- loss: 0.00350, acc: 0.9974\n"
          ]
        },
        {
          "output_type": "stream",
          "name": "stderr",
          "text": [
            " 29%|██▉       | 550/1884 [19:04<46:06,  2.07s/it]"
          ]
        },
        {
          "output_type": "stream",
          "name": "stdout",
          "text": [
            "Epoch 0002 #550 -- loss: 0.00048, acc: 1.0000\n"
          ]
        },
        {
          "output_type": "stream",
          "name": "stderr",
          "text": [
            " 32%|███▏      | 600/1884 [20:49<44:29,  2.08s/it]"
          ]
        },
        {
          "output_type": "stream",
          "name": "stdout",
          "text": [
            "Epoch 0002 #600 -- loss: 0.00006, acc: 1.0000\n"
          ]
        },
        {
          "output_type": "stream",
          "name": "stderr",
          "text": [
            " 35%|███▍      | 650/1884 [22:33<42:52,  2.08s/it]"
          ]
        },
        {
          "output_type": "stream",
          "name": "stdout",
          "text": [
            "Epoch 0002 #650 -- loss: 0.00044, acc: 1.0000\n"
          ]
        },
        {
          "output_type": "stream",
          "name": "stderr",
          "text": [
            " 37%|███▋      | 700/1884 [24:17<41:10,  2.09s/it]"
          ]
        },
        {
          "output_type": "stream",
          "name": "stdout",
          "text": [
            "Epoch 0002 #700 -- loss: 0.03547, acc: 0.9900\n"
          ]
        },
        {
          "output_type": "stream",
          "name": "stderr",
          "text": [
            " 40%|███▉      | 750/1884 [26:01<39:16,  2.08s/it]"
          ]
        },
        {
          "output_type": "stream",
          "name": "stdout",
          "text": [
            "Epoch 0002 #750 -- loss: 0.00373, acc: 0.9975\n"
          ]
        },
        {
          "output_type": "stream",
          "name": "stderr",
          "text": [
            " 42%|████▏     | 800/1884 [27:45<37:33,  2.08s/it]"
          ]
        },
        {
          "output_type": "stream",
          "name": "stdout",
          "text": [
            "Epoch 0002 #800 -- loss: 0.00785, acc: 0.9952\n"
          ]
        },
        {
          "output_type": "stream",
          "name": "stderr",
          "text": [
            " 45%|████▌     | 850/1884 [29:29<35:55,  2.08s/it]"
          ]
        },
        {
          "output_type": "stream",
          "name": "stdout",
          "text": [
            "Epoch 0002 #850 -- loss: 0.00138, acc: 1.0000\n"
          ]
        },
        {
          "output_type": "stream",
          "name": "stderr",
          "text": [
            " 48%|████▊     | 900/1884 [31:13<34:01,  2.07s/it]"
          ]
        },
        {
          "output_type": "stream",
          "name": "stdout",
          "text": [
            "Epoch 0002 #900 -- loss: 0.00007, acc: 1.0000\n"
          ]
        },
        {
          "output_type": "stream",
          "name": "stderr",
          "text": [
            " 50%|█████     | 950/1884 [32:57<32:22,  2.08s/it]"
          ]
        },
        {
          "output_type": "stream",
          "name": "stdout",
          "text": [
            "Epoch 0002 #950 -- loss: 0.00006, acc: 1.0000\n"
          ]
        },
        {
          "output_type": "stream",
          "name": "stderr",
          "text": [
            " 53%|█████▎    | 1000/1884 [34:41<30:38,  2.08s/it]"
          ]
        },
        {
          "output_type": "stream",
          "name": "stdout",
          "text": [
            "Epoch 0002 #1000 -- loss: 0.00333, acc: 0.9975\n"
          ]
        },
        {
          "output_type": "stream",
          "name": "stderr",
          "text": [
            " 56%|█████▌    | 1050/1884 [36:25<28:57,  2.08s/it]"
          ]
        },
        {
          "output_type": "stream",
          "name": "stdout",
          "text": [
            "Epoch 0002 #1050 -- loss: 0.00070, acc: 1.0000\n"
          ]
        },
        {
          "output_type": "stream",
          "name": "stderr",
          "text": [
            " 58%|█████▊    | 1100/1884 [38:09<27:11,  2.08s/it]"
          ]
        },
        {
          "output_type": "stream",
          "name": "stdout",
          "text": [
            "Epoch 0002 #1100 -- loss: 0.00008, acc: 1.0000\n"
          ]
        },
        {
          "output_type": "stream",
          "name": "stderr",
          "text": [
            " 61%|██████    | 1150/1884 [39:53<25:27,  2.08s/it]"
          ]
        },
        {
          "output_type": "stream",
          "name": "stdout",
          "text": [
            "Epoch 0002 #1150 -- loss: 0.00009, acc: 1.0000\n"
          ]
        },
        {
          "output_type": "stream",
          "name": "stderr",
          "text": [
            " 64%|██████▎   | 1200/1884 [41:37<23:47,  2.09s/it]"
          ]
        },
        {
          "output_type": "stream",
          "name": "stdout",
          "text": [
            "Epoch 0002 #1200 -- loss: 0.00007, acc: 1.0000\n"
          ]
        },
        {
          "output_type": "stream",
          "name": "stderr",
          "text": [
            " 66%|██████▋   | 1250/1884 [43:21<21:53,  2.07s/it]"
          ]
        },
        {
          "output_type": "stream",
          "name": "stdout",
          "text": [
            "Epoch 0002 #1250 -- loss: 0.00014, acc: 1.0000\n"
          ]
        },
        {
          "output_type": "stream",
          "name": "stderr",
          "text": [
            " 69%|██████▉   | 1300/1884 [45:05<20:13,  2.08s/it]"
          ]
        },
        {
          "output_type": "stream",
          "name": "stdout",
          "text": [
            "Epoch 0002 #1300 -- loss: 0.00006, acc: 1.0000\n"
          ]
        },
        {
          "output_type": "stream",
          "name": "stderr",
          "text": [
            " 72%|███████▏  | 1350/1884 [46:49<18:29,  2.08s/it]"
          ]
        },
        {
          "output_type": "stream",
          "name": "stdout",
          "text": [
            "Epoch 0002 #1350 -- loss: 0.00006, acc: 1.0000\n"
          ]
        },
        {
          "output_type": "stream",
          "name": "stderr",
          "text": [
            " 74%|███████▍  | 1400/1884 [48:33<16:46,  2.08s/it]"
          ]
        },
        {
          "output_type": "stream",
          "name": "stdout",
          "text": [
            "Epoch 0002 #1400 -- loss: 0.00007, acc: 1.0000\n"
          ]
        },
        {
          "output_type": "stream",
          "name": "stderr",
          "text": [
            " 77%|███████▋  | 1450/1884 [50:17<15:00,  2.08s/it]"
          ]
        },
        {
          "output_type": "stream",
          "name": "stdout",
          "text": [
            "Epoch 0002 #1450 -- loss: 0.00005, acc: 1.0000\n"
          ]
        },
        {
          "output_type": "stream",
          "name": "stderr",
          "text": [
            " 80%|███████▉  | 1500/1884 [52:01<13:19,  2.08s/it]"
          ]
        },
        {
          "output_type": "stream",
          "name": "stdout",
          "text": [
            "Epoch 0002 #1500 -- loss: 0.00004, acc: 1.0000\n"
          ]
        },
        {
          "output_type": "stream",
          "name": "stderr",
          "text": [
            " 82%|████████▏ | 1550/1884 [53:45<11:33,  2.08s/it]"
          ]
        },
        {
          "output_type": "stream",
          "name": "stdout",
          "text": [
            "Epoch 0002 #1550 -- loss: 0.00005, acc: 1.0000\n"
          ]
        },
        {
          "output_type": "stream",
          "name": "stderr",
          "text": [
            " 85%|████████▍ | 1600/1884 [55:29<09:50,  2.08s/it]"
          ]
        },
        {
          "output_type": "stream",
          "name": "stdout",
          "text": [
            "Epoch 0002 #1600 -- loss: 0.00004, acc: 1.0000\n"
          ]
        },
        {
          "output_type": "stream",
          "name": "stderr",
          "text": [
            " 88%|████████▊ | 1650/1884 [57:13<08:05,  2.07s/it]"
          ]
        },
        {
          "output_type": "stream",
          "name": "stdout",
          "text": [
            "Epoch 0002 #1650 -- loss: 0.00004, acc: 1.0000\n"
          ]
        },
        {
          "output_type": "stream",
          "name": "stderr",
          "text": [
            " 90%|█████████ | 1700/1884 [58:57<06:22,  2.08s/it]"
          ]
        },
        {
          "output_type": "stream",
          "name": "stdout",
          "text": [
            "Epoch 0002 #1700 -- loss: 0.00004, acc: 1.0000\n"
          ]
        },
        {
          "output_type": "stream",
          "name": "stderr",
          "text": [
            " 93%|█████████▎| 1750/1884 [1:00:41<04:39,  2.08s/it]"
          ]
        },
        {
          "output_type": "stream",
          "name": "stdout",
          "text": [
            "Epoch 0002 #1750 -- loss: 0.00003, acc: 1.0000\n"
          ]
        },
        {
          "output_type": "stream",
          "name": "stderr",
          "text": [
            " 96%|█████████▌| 1800/1884 [1:02:25<02:55,  2.08s/it]"
          ]
        },
        {
          "output_type": "stream",
          "name": "stdout",
          "text": [
            "Epoch 0002 #1800 -- loss: 0.00211, acc: 0.9976\n"
          ]
        },
        {
          "output_type": "stream",
          "name": "stderr",
          "text": [
            " 98%|█████████▊| 1850/1884 [1:04:09<01:10,  2.08s/it]"
          ]
        },
        {
          "output_type": "stream",
          "name": "stdout",
          "text": [
            "Epoch 0002 #1850 -- loss: 0.01673, acc: 0.9918\n"
          ]
        },
        {
          "output_type": "stream",
          "name": "stderr",
          "text": [
            "100%|██████████| 1884/1884 [1:05:18<00:00,  2.08s/it]"
          ]
        },
        {
          "output_type": "stream",
          "name": "stdout",
          "text": [
            "\n",
            "Epoch 0002 loss: 0.00227, acc: 1.00\n"
          ]
        },
        {
          "output_type": "stream",
          "name": "stderr",
          "text": [
            "\n"
          ]
        },
        {
          "output_type": "stream",
          "name": "stdout",
          "text": [
            "New best model for val accuracy : 0.9997! saving the best model..\n"
          ]
        },
        {
          "output_type": "stream",
          "name": "stderr",
          "text": [
            "\r 10%|█         | 2/20 [2:19:17<20:53:35, 4178.61s/it]"
          ]
        },
        {
          "output_type": "stream",
          "name": "stdout",
          "text": [
            "\n",
            ">>>> Validation loss: 0.00039, Acc: 0.9997\n",
            "\n"
          ]
        },
        {
          "output_type": "stream",
          "name": "stderr",
          "text": [
            "  3%|▎         | 50/1884 [01:44<1:03:41,  2.08s/it]"
          ]
        },
        {
          "output_type": "stream",
          "name": "stdout",
          "text": [
            "Epoch 0003 #050 -- loss: 0.00007, acc: 1.0000\n"
          ]
        },
        {
          "output_type": "stream",
          "name": "stderr",
          "text": [
            "  5%|▌         | 100/1884 [03:28<1:01:56,  2.08s/it]"
          ]
        },
        {
          "output_type": "stream",
          "name": "stdout",
          "text": [
            "Epoch 0003 #100 -- loss: 0.00009, acc: 1.0000\n"
          ]
        },
        {
          "output_type": "stream",
          "name": "stderr",
          "text": [
            "  8%|▊         | 150/1884 [05:12<1:00:24,  2.09s/it]"
          ]
        },
        {
          "output_type": "stream",
          "name": "stdout",
          "text": [
            "Epoch 0003 #150 -- loss: 0.00003, acc: 1.0000\n"
          ]
        },
        {
          "output_type": "stream",
          "name": "stderr",
          "text": [
            " 11%|█         | 200/1884 [06:56<58:21,  2.08s/it]"
          ]
        },
        {
          "output_type": "stream",
          "name": "stdout",
          "text": [
            "Epoch 0003 #200 -- loss: 0.00003, acc: 1.0000\n"
          ]
        },
        {
          "output_type": "stream",
          "name": "stderr",
          "text": [
            " 13%|█▎        | 250/1884 [08:40<56:41,  2.08s/it]"
          ]
        },
        {
          "output_type": "stream",
          "name": "stdout",
          "text": [
            "Epoch 0003 #250 -- loss: 0.00005, acc: 1.0000\n"
          ]
        },
        {
          "output_type": "stream",
          "name": "stderr",
          "text": [
            " 16%|█▌        | 300/1884 [10:24<54:52,  2.08s/it]"
          ]
        },
        {
          "output_type": "stream",
          "name": "stdout",
          "text": [
            "Epoch 0003 #300 -- loss: 0.00005, acc: 1.0000\n"
          ]
        },
        {
          "output_type": "stream",
          "name": "stderr",
          "text": [
            " 19%|█▊        | 350/1884 [12:08<53:21,  2.09s/it]"
          ]
        },
        {
          "output_type": "stream",
          "name": "stdout",
          "text": [
            "Epoch 0003 #350 -- loss: 0.00017, acc: 1.0000\n"
          ]
        },
        {
          "output_type": "stream",
          "name": "stderr",
          "text": [
            " 21%|██        | 400/1884 [13:52<51:23,  2.08s/it]"
          ]
        },
        {
          "output_type": "stream",
          "name": "stdout",
          "text": [
            "Epoch 0003 #400 -- loss: 0.00002, acc: 1.0000\n"
          ]
        },
        {
          "output_type": "stream",
          "name": "stderr",
          "text": [
            " 24%|██▍       | 450/1884 [15:36<49:40,  2.08s/it]"
          ]
        },
        {
          "output_type": "stream",
          "name": "stdout",
          "text": [
            "Epoch 0003 #450 -- loss: 0.00015, acc: 1.0000\n"
          ]
        },
        {
          "output_type": "stream",
          "name": "stderr",
          "text": [
            " 27%|██▋       | 500/1884 [17:20<47:59,  2.08s/it]"
          ]
        },
        {
          "output_type": "stream",
          "name": "stdout",
          "text": [
            "Epoch 0003 #500 -- loss: 0.00002, acc: 1.0000\n"
          ]
        },
        {
          "output_type": "stream",
          "name": "stderr",
          "text": [
            " 29%|██▉       | 550/1884 [19:04<46:17,  2.08s/it]"
          ]
        },
        {
          "output_type": "stream",
          "name": "stdout",
          "text": [
            "Epoch 0003 #550 -- loss: 0.00003, acc: 1.0000\n"
          ]
        },
        {
          "output_type": "stream",
          "name": "stderr",
          "text": [
            " 32%|███▏      | 600/1884 [20:48<44:31,  2.08s/it]"
          ]
        },
        {
          "output_type": "stream",
          "name": "stdout",
          "text": [
            "Epoch 0003 #600 -- loss: 0.00002, acc: 1.0000\n"
          ]
        },
        {
          "output_type": "stream",
          "name": "stderr",
          "text": [
            " 35%|███▍      | 650/1884 [22:32<42:54,  2.09s/it]"
          ]
        },
        {
          "output_type": "stream",
          "name": "stdout",
          "text": [
            "Epoch 0003 #650 -- loss: 0.00002, acc: 1.0000\n"
          ]
        },
        {
          "output_type": "stream",
          "name": "stderr",
          "text": [
            " 37%|███▋      | 700/1884 [24:16<41:03,  2.08s/it]"
          ]
        },
        {
          "output_type": "stream",
          "name": "stdout",
          "text": [
            "Epoch 0003 #700 -- loss: 0.00003, acc: 1.0000\n"
          ]
        },
        {
          "output_type": "stream",
          "name": "stderr",
          "text": [
            " 40%|███▉      | 750/1884 [26:00<39:17,  2.08s/it]"
          ]
        },
        {
          "output_type": "stream",
          "name": "stdout",
          "text": [
            "Epoch 0003 #750 -- loss: 0.00001, acc: 1.0000\n"
          ]
        },
        {
          "output_type": "stream",
          "name": "stderr",
          "text": [
            " 42%|████▏     | 800/1884 [27:45<37:44,  2.09s/it]"
          ]
        },
        {
          "output_type": "stream",
          "name": "stdout",
          "text": [
            "Epoch 0003 #800 -- loss: 0.00002, acc: 1.0000\n"
          ]
        },
        {
          "output_type": "stream",
          "name": "stderr",
          "text": [
            " 45%|████▌     | 850/1884 [29:29<35:47,  2.08s/it]"
          ]
        },
        {
          "output_type": "stream",
          "name": "stdout",
          "text": [
            "Epoch 0003 #850 -- loss: 0.00001, acc: 1.0000\n"
          ]
        },
        {
          "output_type": "stream",
          "name": "stderr",
          "text": [
            " 48%|████▊     | 900/1884 [31:13<34:13,  2.09s/it]"
          ]
        },
        {
          "output_type": "stream",
          "name": "stdout",
          "text": [
            "Epoch 0003 #900 -- loss: 0.00002, acc: 1.0000\n"
          ]
        },
        {
          "output_type": "stream",
          "name": "stderr",
          "text": [
            " 50%|█████     | 950/1884 [32:57<32:22,  2.08s/it]"
          ]
        },
        {
          "output_type": "stream",
          "name": "stdout",
          "text": [
            "Epoch 0003 #950 -- loss: 0.00003, acc: 1.0000\n"
          ]
        },
        {
          "output_type": "stream",
          "name": "stderr",
          "text": [
            " 53%|█████▎    | 1000/1884 [34:41<30:33,  2.07s/it]"
          ]
        },
        {
          "output_type": "stream",
          "name": "stdout",
          "text": [
            "Epoch 0003 #1000 -- loss: 0.00002, acc: 1.0000\n"
          ]
        },
        {
          "output_type": "stream",
          "name": "stderr",
          "text": [
            " 56%|█████▌    | 1050/1884 [36:25<28:54,  2.08s/it]"
          ]
        },
        {
          "output_type": "stream",
          "name": "stdout",
          "text": [
            "Epoch 0003 #1050 -- loss: 0.00002, acc: 1.0000\n"
          ]
        },
        {
          "output_type": "stream",
          "name": "stderr",
          "text": [
            " 58%|█████▊    | 1100/1884 [38:09<27:15,  2.09s/it]"
          ]
        },
        {
          "output_type": "stream",
          "name": "stdout",
          "text": [
            "Epoch 0003 #1100 -- loss: 0.00004, acc: 1.0000\n"
          ]
        },
        {
          "output_type": "stream",
          "name": "stderr",
          "text": [
            " 61%|██████    | 1150/1884 [39:53<25:30,  2.08s/it]"
          ]
        },
        {
          "output_type": "stream",
          "name": "stdout",
          "text": [
            "Epoch 0003 #1150 -- loss: 0.00002, acc: 1.0000\n"
          ]
        },
        {
          "output_type": "stream",
          "name": "stderr",
          "text": [
            " 64%|██████▎   | 1200/1884 [41:37<23:43,  2.08s/it]"
          ]
        },
        {
          "output_type": "stream",
          "name": "stdout",
          "text": [
            "Epoch 0003 #1200 -- loss: 0.00001, acc: 1.0000\n"
          ]
        },
        {
          "output_type": "stream",
          "name": "stderr",
          "text": [
            " 66%|██████▋   | 1250/1884 [43:21<21:58,  2.08s/it]"
          ]
        },
        {
          "output_type": "stream",
          "name": "stdout",
          "text": [
            "Epoch 0003 #1250 -- loss: 0.00002, acc: 1.0000\n"
          ]
        },
        {
          "output_type": "stream",
          "name": "stderr",
          "text": [
            " 69%|██████▉   | 1300/1884 [45:06<20:15,  2.08s/it]"
          ]
        },
        {
          "output_type": "stream",
          "name": "stdout",
          "text": [
            "Epoch 0003 #1300 -- loss: 0.00001, acc: 1.0000\n"
          ]
        },
        {
          "output_type": "stream",
          "name": "stderr",
          "text": [
            " 72%|███████▏  | 1350/1884 [46:50<18:33,  2.09s/it]"
          ]
        },
        {
          "output_type": "stream",
          "name": "stdout",
          "text": [
            "Epoch 0003 #1350 -- loss: 0.00001, acc: 1.0000\n"
          ]
        },
        {
          "output_type": "stream",
          "name": "stderr",
          "text": [
            " 74%|███████▍  | 1400/1884 [48:34<16:46,  2.08s/it]"
          ]
        },
        {
          "output_type": "stream",
          "name": "stdout",
          "text": [
            "Epoch 0003 #1400 -- loss: 0.00001, acc: 1.0000\n"
          ]
        },
        {
          "output_type": "stream",
          "name": "stderr",
          "text": [
            " 77%|███████▋  | 1450/1884 [50:18<15:03,  2.08s/it]"
          ]
        },
        {
          "output_type": "stream",
          "name": "stdout",
          "text": [
            "Epoch 0003 #1450 -- loss: 0.00003, acc: 1.0000\n"
          ]
        },
        {
          "output_type": "stream",
          "name": "stderr",
          "text": [
            " 80%|███████▉  | 1500/1884 [52:02<13:17,  2.08s/it]"
          ]
        },
        {
          "output_type": "stream",
          "name": "stdout",
          "text": [
            "Epoch 0003 #1500 -- loss: 0.00001, acc: 1.0000\n"
          ]
        },
        {
          "output_type": "stream",
          "name": "stderr",
          "text": [
            " 82%|████████▏ | 1550/1884 [53:46<11:37,  2.09s/it]"
          ]
        },
        {
          "output_type": "stream",
          "name": "stdout",
          "text": [
            "Epoch 0003 #1550 -- loss: 0.00001, acc: 1.0000\n"
          ]
        },
        {
          "output_type": "stream",
          "name": "stderr",
          "text": [
            " 85%|████████▍ | 1600/1884 [55:30<09:49,  2.08s/it]"
          ]
        },
        {
          "output_type": "stream",
          "name": "stdout",
          "text": [
            "Epoch 0003 #1600 -- loss: 0.00001, acc: 1.0000\n"
          ]
        },
        {
          "output_type": "stream",
          "name": "stderr",
          "text": [
            " 88%|████████▊ | 1650/1884 [57:14<08:06,  2.08s/it]"
          ]
        },
        {
          "output_type": "stream",
          "name": "stdout",
          "text": [
            "Epoch 0003 #1650 -- loss: 0.00003, acc: 1.0000\n"
          ]
        },
        {
          "output_type": "stream",
          "name": "stderr",
          "text": [
            " 90%|█████████ | 1700/1884 [58:58<06:23,  2.08s/it]"
          ]
        },
        {
          "output_type": "stream",
          "name": "stdout",
          "text": [
            "Epoch 0003 #1700 -- loss: 0.00001, acc: 1.0000\n"
          ]
        },
        {
          "output_type": "stream",
          "name": "stderr",
          "text": [
            " 93%|█████████▎| 1750/1884 [1:00:42<04:38,  2.08s/it]"
          ]
        },
        {
          "output_type": "stream",
          "name": "stdout",
          "text": [
            "Epoch 0003 #1750 -- loss: 0.00001, acc: 1.0000\n"
          ]
        },
        {
          "output_type": "stream",
          "name": "stderr",
          "text": [
            " 96%|█████████▌| 1800/1884 [1:02:26<02:54,  2.08s/it]"
          ]
        },
        {
          "output_type": "stream",
          "name": "stdout",
          "text": [
            "Epoch 0003 #1800 -- loss: 0.00001, acc: 1.0000\n"
          ]
        },
        {
          "output_type": "stream",
          "name": "stderr",
          "text": [
            " 98%|█████████▊| 1850/1884 [1:04:11<01:10,  2.08s/it]"
          ]
        },
        {
          "output_type": "stream",
          "name": "stdout",
          "text": [
            "Epoch 0003 #1850 -- loss: 0.00001, acc: 1.0000\n"
          ]
        },
        {
          "output_type": "stream",
          "name": "stderr",
          "text": [
            "100%|██████████| 1884/1884 [1:05:20<00:00,  2.08s/it]"
          ]
        },
        {
          "output_type": "stream",
          "name": "stdout",
          "text": [
            "\n",
            "Epoch 0003 loss: 0.00003, acc: 1.00\n"
          ]
        },
        {
          "output_type": "stream",
          "name": "stderr",
          "text": [
            "\n"
          ]
        },
        {
          "output_type": "stream",
          "name": "stdout",
          "text": [
            "New best model for val accuracy : 1.0000! saving the best model..\n"
          ]
        },
        {
          "output_type": "stream",
          "name": "stderr",
          "text": [
            "\r 15%|█▌        | 3/20 [3:28:56<19:43:57, 4178.69s/it]"
          ]
        },
        {
          "output_type": "stream",
          "name": "stdout",
          "text": [
            "\n",
            ">>>> Validation loss: 0.00007, Acc: 1.0000\n",
            "\n"
          ]
        },
        {
          "output_type": "stream",
          "name": "stderr",
          "text": [
            "  3%|▎         | 50/1884 [01:44<1:03:31,  2.08s/it]"
          ]
        },
        {
          "output_type": "stream",
          "name": "stdout",
          "text": [
            "Epoch 0004 #050 -- loss: 0.00001, acc: 1.0000\n"
          ]
        },
        {
          "output_type": "stream",
          "name": "stderr",
          "text": [
            "  5%|▌         | 100/1884 [03:28<1:01:51,  2.08s/it]"
          ]
        },
        {
          "output_type": "stream",
          "name": "stdout",
          "text": [
            "Epoch 0004 #100 -- loss: 0.00001, acc: 1.0000\n"
          ]
        },
        {
          "output_type": "stream",
          "name": "stderr",
          "text": [
            "  8%|▊         | 150/1884 [05:12<1:00:05,  2.08s/it]"
          ]
        },
        {
          "output_type": "stream",
          "name": "stdout",
          "text": [
            "Epoch 0004 #150 -- loss: 0.00001, acc: 1.0000\n"
          ]
        },
        {
          "output_type": "stream",
          "name": "stderr",
          "text": [
            " 11%|█         | 200/1884 [06:56<58:22,  2.08s/it]"
          ]
        },
        {
          "output_type": "stream",
          "name": "stdout",
          "text": [
            "Epoch 0004 #200 -- loss: 0.00001, acc: 1.0000\n"
          ]
        },
        {
          "output_type": "stream",
          "name": "stderr",
          "text": [
            " 13%|█▎        | 250/1884 [08:40<56:45,  2.08s/it]"
          ]
        },
        {
          "output_type": "stream",
          "name": "stdout",
          "text": [
            "Epoch 0004 #250 -- loss: 0.00001, acc: 1.0000\n"
          ]
        },
        {
          "output_type": "stream",
          "name": "stderr",
          "text": [
            " 16%|█▌        | 300/1884 [10:25<55:00,  2.08s/it]"
          ]
        },
        {
          "output_type": "stream",
          "name": "stdout",
          "text": [
            "Epoch 0004 #300 -- loss: 0.00001, acc: 1.0000\n"
          ]
        },
        {
          "output_type": "stream",
          "name": "stderr",
          "text": [
            " 19%|█▊        | 350/1884 [12:08<53:08,  2.08s/it]"
          ]
        },
        {
          "output_type": "stream",
          "name": "stdout",
          "text": [
            "Epoch 0004 #350 -- loss: 0.00001, acc: 1.0000\n"
          ]
        },
        {
          "output_type": "stream",
          "name": "stderr",
          "text": [
            " 21%|██        | 400/1884 [13:52<51:13,  2.07s/it]"
          ]
        },
        {
          "output_type": "stream",
          "name": "stdout",
          "text": [
            "Epoch 0004 #400 -- loss: 0.00001, acc: 1.0000\n"
          ]
        },
        {
          "output_type": "stream",
          "name": "stderr",
          "text": [
            " 24%|██▍       | 450/1884 [15:36<49:39,  2.08s/it]"
          ]
        },
        {
          "output_type": "stream",
          "name": "stdout",
          "text": [
            "Epoch 0004 #450 -- loss: 0.00001, acc: 1.0000\n"
          ]
        },
        {
          "output_type": "stream",
          "name": "stderr",
          "text": [
            " 27%|██▋       | 500/1884 [17:20<47:51,  2.07s/it]"
          ]
        },
        {
          "output_type": "stream",
          "name": "stdout",
          "text": [
            "Epoch 0004 #500 -- loss: 0.00001, acc: 1.0000\n"
          ]
        },
        {
          "output_type": "stream",
          "name": "stderr",
          "text": [
            " 29%|██▉       | 550/1884 [19:04<46:15,  2.08s/it]"
          ]
        },
        {
          "output_type": "stream",
          "name": "stdout",
          "text": [
            "Epoch 0004 #550 -- loss: 0.00001, acc: 1.0000\n"
          ]
        },
        {
          "output_type": "stream",
          "name": "stderr",
          "text": [
            " 32%|███▏      | 600/1884 [20:48<44:37,  2.09s/it]"
          ]
        },
        {
          "output_type": "stream",
          "name": "stdout",
          "text": [
            "Epoch 0004 #600 -- loss: 0.00001, acc: 1.0000\n"
          ]
        },
        {
          "output_type": "stream",
          "name": "stderr",
          "text": [
            " 35%|███▍      | 650/1884 [22:32<42:54,  2.09s/it]"
          ]
        },
        {
          "output_type": "stream",
          "name": "stdout",
          "text": [
            "Epoch 0004 #650 -- loss: 0.00001, acc: 1.0000\n"
          ]
        },
        {
          "output_type": "stream",
          "name": "stderr",
          "text": [
            " 37%|███▋      | 700/1884 [24:16<41:01,  2.08s/it]"
          ]
        },
        {
          "output_type": "stream",
          "name": "stdout",
          "text": [
            "Epoch 0004 #700 -- loss: 0.00001, acc: 1.0000\n"
          ]
        },
        {
          "output_type": "stream",
          "name": "stderr",
          "text": [
            " 40%|███▉      | 750/1884 [26:00<39:20,  2.08s/it]"
          ]
        },
        {
          "output_type": "stream",
          "name": "stdout",
          "text": [
            "Epoch 0004 #750 -- loss: 0.00002, acc: 1.0000\n"
          ]
        },
        {
          "output_type": "stream",
          "name": "stderr",
          "text": [
            " 42%|████▏     | 800/1884 [27:45<37:41,  2.09s/it]"
          ]
        },
        {
          "output_type": "stream",
          "name": "stdout",
          "text": [
            "Epoch 0004 #800 -- loss: 0.00001, acc: 1.0000\n"
          ]
        },
        {
          "output_type": "stream",
          "name": "stderr",
          "text": [
            " 45%|████▌     | 850/1884 [29:29<35:47,  2.08s/it]"
          ]
        },
        {
          "output_type": "stream",
          "name": "stdout",
          "text": [
            "Epoch 0004 #850 -- loss: 0.00001, acc: 1.0000\n"
          ]
        },
        {
          "output_type": "stream",
          "name": "stderr",
          "text": [
            " 48%|████▊     | 900/1884 [31:13<34:07,  2.08s/it]"
          ]
        },
        {
          "output_type": "stream",
          "name": "stdout",
          "text": [
            "Epoch 0004 #900 -- loss: 0.00001, acc: 1.0000\n"
          ]
        },
        {
          "output_type": "stream",
          "name": "stderr",
          "text": [
            " 50%|█████     | 950/1884 [32:57<32:18,  2.08s/it]"
          ]
        },
        {
          "output_type": "stream",
          "name": "stdout",
          "text": [
            "Epoch 0004 #950 -- loss: 0.00002, acc: 1.0000\n"
          ]
        },
        {
          "output_type": "stream",
          "name": "stderr",
          "text": [
            " 53%|█████▎    | 1000/1884 [34:41<30:37,  2.08s/it]"
          ]
        },
        {
          "output_type": "stream",
          "name": "stdout",
          "text": [
            "Epoch 0004 #1000 -- loss: 0.00002, acc: 1.0000\n"
          ]
        },
        {
          "output_type": "stream",
          "name": "stderr",
          "text": [
            " 56%|█████▌    | 1050/1884 [36:25<28:56,  2.08s/it]"
          ]
        },
        {
          "output_type": "stream",
          "name": "stdout",
          "text": [
            "Epoch 0004 #1050 -- loss: 0.00001, acc: 1.0000\n"
          ]
        },
        {
          "output_type": "stream",
          "name": "stderr",
          "text": [
            " 58%|█████▊    | 1100/1884 [38:09<27:12,  2.08s/it]"
          ]
        },
        {
          "output_type": "stream",
          "name": "stdout",
          "text": [
            "Epoch 0004 #1100 -- loss: 0.00001, acc: 1.0000\n"
          ]
        },
        {
          "output_type": "stream",
          "name": "stderr",
          "text": [
            " 61%|██████    | 1150/1884 [39:53<25:26,  2.08s/it]"
          ]
        },
        {
          "output_type": "stream",
          "name": "stdout",
          "text": [
            "Epoch 0004 #1150 -- loss: 0.00001, acc: 1.0000\n"
          ]
        },
        {
          "output_type": "stream",
          "name": "stderr",
          "text": [
            " 64%|██████▎   | 1200/1884 [41:37<23:41,  2.08s/it]"
          ]
        },
        {
          "output_type": "stream",
          "name": "stdout",
          "text": [
            "Epoch 0004 #1200 -- loss: 0.00000, acc: 1.0000\n"
          ]
        },
        {
          "output_type": "stream",
          "name": "stderr",
          "text": [
            " 66%|██████▋   | 1250/1884 [43:21<21:57,  2.08s/it]"
          ]
        },
        {
          "output_type": "stream",
          "name": "stdout",
          "text": [
            "Epoch 0004 #1250 -- loss: 0.00000, acc: 1.0000\n"
          ]
        },
        {
          "output_type": "stream",
          "name": "stderr",
          "text": [
            " 69%|██████▉   | 1300/1884 [45:05<20:18,  2.09s/it]"
          ]
        },
        {
          "output_type": "stream",
          "name": "stdout",
          "text": [
            "Epoch 0004 #1300 -- loss: 0.00000, acc: 1.0000\n"
          ]
        },
        {
          "output_type": "stream",
          "name": "stderr",
          "text": [
            " 72%|███████▏  | 1350/1884 [46:49<18:28,  2.08s/it]"
          ]
        },
        {
          "output_type": "stream",
          "name": "stdout",
          "text": [
            "Epoch 0004 #1350 -- loss: 0.00001, acc: 1.0000\n"
          ]
        },
        {
          "output_type": "stream",
          "name": "stderr",
          "text": [
            " 74%|███████▍  | 1400/1884 [48:33<16:48,  2.08s/it]"
          ]
        },
        {
          "output_type": "stream",
          "name": "stdout",
          "text": [
            "Epoch 0004 #1400 -- loss: 0.00001, acc: 1.0000\n"
          ]
        },
        {
          "output_type": "stream",
          "name": "stderr",
          "text": [
            " 77%|███████▋  | 1450/1884 [50:17<15:01,  2.08s/it]"
          ]
        },
        {
          "output_type": "stream",
          "name": "stdout",
          "text": [
            "Epoch 0004 #1450 -- loss: 0.00001, acc: 1.0000\n"
          ]
        },
        {
          "output_type": "stream",
          "name": "stderr",
          "text": [
            " 80%|███████▉  | 1500/1884 [52:01<13:18,  2.08s/it]"
          ]
        },
        {
          "output_type": "stream",
          "name": "stdout",
          "text": [
            "Epoch 0004 #1500 -- loss: 0.00000, acc: 1.0000\n"
          ]
        },
        {
          "output_type": "stream",
          "name": "stderr",
          "text": [
            " 82%|████████▏ | 1550/1884 [53:45<11:35,  2.08s/it]"
          ]
        },
        {
          "output_type": "stream",
          "name": "stdout",
          "text": [
            "Epoch 0004 #1550 -- loss: 0.00001, acc: 1.0000\n"
          ]
        },
        {
          "output_type": "stream",
          "name": "stderr",
          "text": [
            " 85%|████████▍ | 1600/1884 [55:29<09:50,  2.08s/it]"
          ]
        },
        {
          "output_type": "stream",
          "name": "stdout",
          "text": [
            "Epoch 0004 #1600 -- loss: 0.00001, acc: 1.0000\n"
          ]
        },
        {
          "output_type": "stream",
          "name": "stderr",
          "text": [
            " 88%|████████▊ | 1650/1884 [57:13<08:06,  2.08s/it]"
          ]
        },
        {
          "output_type": "stream",
          "name": "stdout",
          "text": [
            "Epoch 0004 #1650 -- loss: 0.00000, acc: 1.0000\n"
          ]
        },
        {
          "output_type": "stream",
          "name": "stderr",
          "text": [
            " 90%|█████████ | 1700/1884 [58:57<06:23,  2.08s/it]"
          ]
        },
        {
          "output_type": "stream",
          "name": "stdout",
          "text": [
            "Epoch 0004 #1700 -- loss: 0.00001, acc: 1.0000\n"
          ]
        },
        {
          "output_type": "stream",
          "name": "stderr",
          "text": [
            " 93%|█████████▎| 1750/1884 [1:00:41<04:39,  2.09s/it]"
          ]
        },
        {
          "output_type": "stream",
          "name": "stdout",
          "text": [
            "Epoch 0004 #1750 -- loss: 0.00001, acc: 1.0000\n"
          ]
        },
        {
          "output_type": "stream",
          "name": "stderr",
          "text": [
            " 96%|█████████▌| 1800/1884 [1:02:25<02:54,  2.08s/it]"
          ]
        },
        {
          "output_type": "stream",
          "name": "stdout",
          "text": [
            "Epoch 0004 #1800 -- loss: 0.00000, acc: 1.0000\n"
          ]
        },
        {
          "output_type": "stream",
          "name": "stderr",
          "text": [
            " 98%|█████████▊| 1850/1884 [1:04:09<01:10,  2.08s/it]"
          ]
        },
        {
          "output_type": "stream",
          "name": "stdout",
          "text": [
            "Epoch 0004 #1850 -- loss: 0.00001, acc: 1.0000\n"
          ]
        },
        {
          "output_type": "stream",
          "name": "stderr",
          "text": [
            "100%|██████████| 1884/1884 [1:05:19<00:00,  2.08s/it]"
          ]
        },
        {
          "output_type": "stream",
          "name": "stdout",
          "text": [
            "\n",
            "Epoch 0004 loss: 0.00001, acc: 1.00\n"
          ]
        },
        {
          "output_type": "stream",
          "name": "stderr",
          "text": [
            "\n",
            " 20%|██        | 4/20 [4:38:33<18:34:05, 4177.81s/it]"
          ]
        },
        {
          "output_type": "stream",
          "name": "stdout",
          "text": [
            "\n",
            ">>>> Validation loss: 0.00003, Acc: 1.0000\n",
            "\n"
          ]
        },
        {
          "output_type": "stream",
          "name": "stderr",
          "text": [
            "  3%|▎         | 50/1884 [01:44<1:03:45,  2.09s/it]"
          ]
        },
        {
          "output_type": "stream",
          "name": "stdout",
          "text": [
            "Epoch 0005 #050 -- loss: 0.00000, acc: 1.0000\n"
          ]
        },
        {
          "output_type": "stream",
          "name": "stderr",
          "text": [
            "  5%|▌         | 100/1884 [03:28<1:01:51,  2.08s/it]"
          ]
        },
        {
          "output_type": "stream",
          "name": "stdout",
          "text": [
            "Epoch 0005 #100 -- loss: 0.00000, acc: 1.0000\n"
          ]
        },
        {
          "output_type": "stream",
          "name": "stderr",
          "text": [
            "  8%|▊         | 150/1884 [05:12<59:56,  2.07s/it]  "
          ]
        },
        {
          "output_type": "stream",
          "name": "stdout",
          "text": [
            "Epoch 0005 #150 -- loss: 0.00000, acc: 1.0000\n"
          ]
        },
        {
          "output_type": "stream",
          "name": "stderr",
          "text": [
            " 11%|█         | 200/1884 [06:56<58:25,  2.08s/it]"
          ]
        },
        {
          "output_type": "stream",
          "name": "stdout",
          "text": [
            "Epoch 0005 #200 -- loss: 0.00001, acc: 1.0000\n"
          ]
        },
        {
          "output_type": "stream",
          "name": "stderr",
          "text": [
            " 13%|█▎        | 250/1884 [08:40<56:49,  2.09s/it]"
          ]
        },
        {
          "output_type": "stream",
          "name": "stdout",
          "text": [
            "Epoch 0005 #250 -- loss: 0.00000, acc: 1.0000\n"
          ]
        },
        {
          "output_type": "stream",
          "name": "stderr",
          "text": [
            " 16%|█▌        | 300/1884 [10:24<54:48,  2.08s/it]"
          ]
        },
        {
          "output_type": "stream",
          "name": "stdout",
          "text": [
            "Epoch 0005 #300 -- loss: 0.00000, acc: 1.0000\n"
          ]
        },
        {
          "output_type": "stream",
          "name": "stderr",
          "text": [
            " 19%|█▊        | 350/1884 [12:08<53:15,  2.08s/it]"
          ]
        },
        {
          "output_type": "stream",
          "name": "stdout",
          "text": [
            "Epoch 0005 #350 -- loss: 0.00000, acc: 1.0000\n"
          ]
        },
        {
          "output_type": "stream",
          "name": "stderr",
          "text": [
            " 21%|██        | 400/1884 [13:52<51:30,  2.08s/it]"
          ]
        },
        {
          "output_type": "stream",
          "name": "stdout",
          "text": [
            "Epoch 0005 #400 -- loss: 0.00001, acc: 1.0000\n"
          ]
        },
        {
          "output_type": "stream",
          "name": "stderr",
          "text": [
            " 24%|██▍       | 450/1884 [15:36<49:50,  2.09s/it]"
          ]
        },
        {
          "output_type": "stream",
          "name": "stdout",
          "text": [
            "Epoch 0005 #450 -- loss: 0.00001, acc: 1.0000\n"
          ]
        },
        {
          "output_type": "stream",
          "name": "stderr",
          "text": [
            " 27%|██▋       | 500/1884 [17:20<47:56,  2.08s/it]"
          ]
        },
        {
          "output_type": "stream",
          "name": "stdout",
          "text": [
            "Epoch 0005 #500 -- loss: 0.00000, acc: 1.0000\n"
          ]
        },
        {
          "output_type": "stream",
          "name": "stderr",
          "text": [
            " 29%|██▉       | 550/1884 [19:04<46:12,  2.08s/it]"
          ]
        },
        {
          "output_type": "stream",
          "name": "stdout",
          "text": [
            "Epoch 0005 #550 -- loss: 0.00000, acc: 1.0000\n"
          ]
        },
        {
          "output_type": "stream",
          "name": "stderr",
          "text": [
            " 32%|███▏      | 600/1884 [20:48<44:33,  2.08s/it]"
          ]
        },
        {
          "output_type": "stream",
          "name": "stdout",
          "text": [
            "Epoch 0005 #600 -- loss: 0.00000, acc: 1.0000\n"
          ]
        },
        {
          "output_type": "stream",
          "name": "stderr",
          "text": [
            " 35%|███▍      | 650/1884 [22:32<42:44,  2.08s/it]"
          ]
        },
        {
          "output_type": "stream",
          "name": "stdout",
          "text": [
            "Epoch 0005 #650 -- loss: 0.00000, acc: 1.0000\n"
          ]
        },
        {
          "output_type": "stream",
          "name": "stderr",
          "text": [
            " 37%|███▋      | 700/1884 [24:16<41:04,  2.08s/it]"
          ]
        },
        {
          "output_type": "stream",
          "name": "stdout",
          "text": [
            "Epoch 0005 #700 -- loss: 0.00000, acc: 1.0000\n"
          ]
        },
        {
          "output_type": "stream",
          "name": "stderr",
          "text": [
            " 40%|███▉      | 750/1884 [26:00<39:19,  2.08s/it]"
          ]
        },
        {
          "output_type": "stream",
          "name": "stdout",
          "text": [
            "Epoch 0005 #750 -- loss: 0.00000, acc: 1.0000\n"
          ]
        },
        {
          "output_type": "stream",
          "name": "stderr",
          "text": [
            " 42%|████▏     | 800/1884 [27:44<37:35,  2.08s/it]"
          ]
        },
        {
          "output_type": "stream",
          "name": "stdout",
          "text": [
            "Epoch 0005 #800 -- loss: 0.00000, acc: 1.0000\n"
          ]
        },
        {
          "output_type": "stream",
          "name": "stderr",
          "text": [
            " 45%|████▌     | 850/1884 [29:28<35:45,  2.08s/it]"
          ]
        },
        {
          "output_type": "stream",
          "name": "stdout",
          "text": [
            "Epoch 0005 #850 -- loss: 0.00000, acc: 1.0000\n"
          ]
        },
        {
          "output_type": "stream",
          "name": "stderr",
          "text": [
            " 48%|████▊     | 900/1884 [31:13<34:02,  2.08s/it]"
          ]
        },
        {
          "output_type": "stream",
          "name": "stdout",
          "text": [
            "Epoch 0005 #900 -- loss: 0.00001, acc: 1.0000\n"
          ]
        },
        {
          "output_type": "stream",
          "name": "stderr",
          "text": [
            " 50%|█████     | 950/1884 [32:57<32:26,  2.08s/it]"
          ]
        },
        {
          "output_type": "stream",
          "name": "stdout",
          "text": [
            "Epoch 0005 #950 -- loss: 0.00001, acc: 1.0000\n"
          ]
        },
        {
          "output_type": "stream",
          "name": "stderr",
          "text": [
            " 53%|█████▎    | 1000/1884 [34:41<30:42,  2.08s/it]"
          ]
        },
        {
          "output_type": "stream",
          "name": "stdout",
          "text": [
            "Epoch 0005 #1000 -- loss: 0.00000, acc: 1.0000\n"
          ]
        },
        {
          "output_type": "stream",
          "name": "stderr",
          "text": [
            " 56%|█████▌    | 1050/1884 [36:25<28:58,  2.08s/it]"
          ]
        },
        {
          "output_type": "stream",
          "name": "stdout",
          "text": [
            "Epoch 0005 #1050 -- loss: 0.00000, acc: 1.0000\n"
          ]
        },
        {
          "output_type": "stream",
          "name": "stderr",
          "text": [
            " 58%|█████▊    | 1100/1884 [38:09<27:13,  2.08s/it]"
          ]
        },
        {
          "output_type": "stream",
          "name": "stdout",
          "text": [
            "Epoch 0005 #1100 -- loss: 0.00000, acc: 1.0000\n"
          ]
        },
        {
          "output_type": "stream",
          "name": "stderr",
          "text": [
            " 61%|██████    | 1150/1884 [39:53<25:27,  2.08s/it]"
          ]
        },
        {
          "output_type": "stream",
          "name": "stdout",
          "text": [
            "Epoch 0005 #1150 -- loss: 0.00000, acc: 1.0000\n"
          ]
        },
        {
          "output_type": "stream",
          "name": "stderr",
          "text": [
            " 64%|██████▎   | 1200/1884 [41:37<23:41,  2.08s/it]"
          ]
        },
        {
          "output_type": "stream",
          "name": "stdout",
          "text": [
            "Epoch 0005 #1200 -- loss: 0.00000, acc: 1.0000\n"
          ]
        },
        {
          "output_type": "stream",
          "name": "stderr",
          "text": [
            " 66%|██████▋   | 1250/1884 [43:21<21:55,  2.08s/it]"
          ]
        },
        {
          "output_type": "stream",
          "name": "stdout",
          "text": [
            "Epoch 0005 #1250 -- loss: 0.00000, acc: 1.0000\n"
          ]
        },
        {
          "output_type": "stream",
          "name": "stderr",
          "text": [
            " 69%|██████▉   | 1300/1884 [45:05<20:15,  2.08s/it]"
          ]
        },
        {
          "output_type": "stream",
          "name": "stdout",
          "text": [
            "Epoch 0005 #1300 -- loss: 0.00001, acc: 1.0000\n"
          ]
        },
        {
          "output_type": "stream",
          "name": "stderr",
          "text": [
            " 72%|███████▏  | 1350/1884 [46:49<18:30,  2.08s/it]"
          ]
        },
        {
          "output_type": "stream",
          "name": "stdout",
          "text": [
            "Epoch 0005 #1350 -- loss: 0.00000, acc: 1.0000\n"
          ]
        },
        {
          "output_type": "stream",
          "name": "stderr",
          "text": [
            " 74%|███████▍  | 1400/1884 [48:33<16:46,  2.08s/it]"
          ]
        },
        {
          "output_type": "stream",
          "name": "stdout",
          "text": [
            "Epoch 0005 #1400 -- loss: 0.00000, acc: 1.0000\n"
          ]
        },
        {
          "output_type": "stream",
          "name": "stderr",
          "text": [
            " 77%|███████▋  | 1450/1884 [50:17<15:00,  2.08s/it]"
          ]
        },
        {
          "output_type": "stream",
          "name": "stdout",
          "text": [
            "Epoch 0005 #1450 -- loss: 0.00000, acc: 1.0000\n"
          ]
        },
        {
          "output_type": "stream",
          "name": "stderr",
          "text": [
            " 80%|███████▉  | 1500/1884 [52:01<13:16,  2.08s/it]"
          ]
        },
        {
          "output_type": "stream",
          "name": "stdout",
          "text": [
            "Epoch 0005 #1500 -- loss: 0.00000, acc: 1.0000\n"
          ]
        },
        {
          "output_type": "stream",
          "name": "stderr",
          "text": [
            " 82%|████████▏ | 1550/1884 [53:45<11:36,  2.09s/it]"
          ]
        },
        {
          "output_type": "stream",
          "name": "stdout",
          "text": [
            "Epoch 0005 #1550 -- loss: 0.00000, acc: 1.0000\n"
          ]
        },
        {
          "output_type": "stream",
          "name": "stderr",
          "text": [
            " 85%|████████▍ | 1600/1884 [55:29<09:49,  2.08s/it]"
          ]
        },
        {
          "output_type": "stream",
          "name": "stdout",
          "text": [
            "Epoch 0005 #1600 -- loss: 0.00000, acc: 1.0000\n"
          ]
        },
        {
          "output_type": "stream",
          "name": "stderr",
          "text": [
            " 88%|████████▊ | 1650/1884 [57:13<08:06,  2.08s/it]"
          ]
        },
        {
          "output_type": "stream",
          "name": "stdout",
          "text": [
            "Epoch 0005 #1650 -- loss: 0.00000, acc: 1.0000\n"
          ]
        },
        {
          "output_type": "stream",
          "name": "stderr",
          "text": [
            " 90%|█████████ | 1700/1884 [58:57<06:22,  2.08s/it]"
          ]
        },
        {
          "output_type": "stream",
          "name": "stdout",
          "text": [
            "Epoch 0005 #1700 -- loss: 0.00000, acc: 1.0000\n"
          ]
        },
        {
          "output_type": "stream",
          "name": "stderr",
          "text": [
            " 93%|█████████▎| 1750/1884 [1:00:41<04:39,  2.08s/it]"
          ]
        },
        {
          "output_type": "stream",
          "name": "stdout",
          "text": [
            "Epoch 0005 #1750 -- loss: 0.00000, acc: 1.0000\n"
          ]
        },
        {
          "output_type": "stream",
          "name": "stderr",
          "text": [
            " 96%|█████████▌| 1800/1884 [1:02:25<02:54,  2.07s/it]"
          ]
        },
        {
          "output_type": "stream",
          "name": "stdout",
          "text": [
            "Epoch 0005 #1800 -- loss: 0.00000, acc: 1.0000\n"
          ]
        },
        {
          "output_type": "stream",
          "name": "stderr",
          "text": [
            " 98%|█████████▊| 1850/1884 [1:04:09<01:10,  2.08s/it]"
          ]
        },
        {
          "output_type": "stream",
          "name": "stdout",
          "text": [
            "Epoch 0005 #1850 -- loss: 0.00000, acc: 1.0000\n"
          ]
        },
        {
          "output_type": "stream",
          "name": "stderr",
          "text": [
            "100%|██████████| 1884/1884 [1:05:18<00:00,  2.08s/it]"
          ]
        },
        {
          "output_type": "stream",
          "name": "stdout",
          "text": [
            "\n",
            "Epoch 0005 loss: 0.00000, acc: 1.00\n"
          ]
        },
        {
          "output_type": "stream",
          "name": "stderr",
          "text": [
            "\n",
            " 25%|██▌       | 5/20 [5:48:09<17:24:16, 4177.09s/it]"
          ]
        },
        {
          "output_type": "stream",
          "name": "stdout",
          "text": [
            "\n",
            ">>>> Validation loss: 0.00003, Acc: 1.0000\n",
            "\n"
          ]
        },
        {
          "output_type": "stream",
          "name": "stderr",
          "text": [
            "  3%|▎         | 50/1884 [01:44<1:03:41,  2.08s/it]"
          ]
        },
        {
          "output_type": "stream",
          "name": "stdout",
          "text": [
            "Epoch 0006 #050 -- loss: 0.00000, acc: 1.0000\n"
          ]
        },
        {
          "output_type": "stream",
          "name": "stderr",
          "text": [
            "  5%|▌         | 100/1884 [03:28<1:01:52,  2.08s/it]"
          ]
        },
        {
          "output_type": "stream",
          "name": "stdout",
          "text": [
            "Epoch 0006 #100 -- loss: 0.00000, acc: 1.0000\n"
          ]
        },
        {
          "output_type": "stream",
          "name": "stderr",
          "text": [
            "  8%|▊         | 150/1884 [05:12<1:00:04,  2.08s/it]"
          ]
        },
        {
          "output_type": "stream",
          "name": "stdout",
          "text": [
            "Epoch 0006 #150 -- loss: 0.00000, acc: 1.0000\n"
          ]
        },
        {
          "output_type": "stream",
          "name": "stderr",
          "text": [
            " 11%|█         | 200/1884 [06:56<58:28,  2.08s/it]"
          ]
        },
        {
          "output_type": "stream",
          "name": "stdout",
          "text": [
            "Epoch 0006 #200 -- loss: 0.00000, acc: 1.0000\n"
          ]
        },
        {
          "output_type": "stream",
          "name": "stderr",
          "text": [
            " 13%|█▎        | 250/1884 [08:40<56:41,  2.08s/it]"
          ]
        },
        {
          "output_type": "stream",
          "name": "stdout",
          "text": [
            "Epoch 0006 #250 -- loss: 0.00000, acc: 1.0000\n"
          ]
        },
        {
          "output_type": "stream",
          "name": "stderr",
          "text": [
            " 16%|█▌        | 300/1884 [10:24<55:01,  2.08s/it]"
          ]
        },
        {
          "output_type": "stream",
          "name": "stdout",
          "text": [
            "Epoch 0006 #300 -- loss: 0.00000, acc: 1.0000\n"
          ]
        },
        {
          "output_type": "stream",
          "name": "stderr",
          "text": [
            " 19%|█▊        | 350/1884 [12:08<53:06,  2.08s/it]"
          ]
        },
        {
          "output_type": "stream",
          "name": "stdout",
          "text": [
            "Epoch 0006 #350 -- loss: 0.00000, acc: 1.0000\n"
          ]
        },
        {
          "output_type": "stream",
          "name": "stderr",
          "text": [
            " 21%|██        | 400/1884 [13:52<51:28,  2.08s/it]"
          ]
        },
        {
          "output_type": "stream",
          "name": "stdout",
          "text": [
            "Epoch 0006 #400 -- loss: 0.00000, acc: 1.0000\n"
          ]
        },
        {
          "output_type": "stream",
          "name": "stderr",
          "text": [
            " 24%|██▍       | 450/1884 [15:36<49:48,  2.08s/it]"
          ]
        },
        {
          "output_type": "stream",
          "name": "stdout",
          "text": [
            "Epoch 0006 #450 -- loss: 0.00000, acc: 1.0000\n"
          ]
        },
        {
          "output_type": "stream",
          "name": "stderr",
          "text": [
            " 27%|██▋       | 500/1884 [17:20<47:58,  2.08s/it]"
          ]
        },
        {
          "output_type": "stream",
          "name": "stdout",
          "text": [
            "Epoch 0006 #500 -- loss: 0.00000, acc: 1.0000\n"
          ]
        },
        {
          "output_type": "stream",
          "name": "stderr",
          "text": [
            " 29%|██▉       | 550/1884 [19:04<46:11,  2.08s/it]"
          ]
        },
        {
          "output_type": "stream",
          "name": "stdout",
          "text": [
            "Epoch 0006 #550 -- loss: 0.00000, acc: 1.0000\n"
          ]
        },
        {
          "output_type": "stream",
          "name": "stderr",
          "text": [
            " 32%|███▏      | 600/1884 [20:48<44:32,  2.08s/it]"
          ]
        },
        {
          "output_type": "stream",
          "name": "stdout",
          "text": [
            "Epoch 0006 #600 -- loss: 0.00000, acc: 1.0000\n"
          ]
        },
        {
          "output_type": "stream",
          "name": "stderr",
          "text": [
            " 35%|███▍      | 650/1884 [22:32<42:43,  2.08s/it]"
          ]
        },
        {
          "output_type": "stream",
          "name": "stdout",
          "text": [
            "Epoch 0006 #650 -- loss: 0.00000, acc: 1.0000\n"
          ]
        },
        {
          "output_type": "stream",
          "name": "stderr",
          "text": [
            " 37%|███▋      | 700/1884 [24:16<40:59,  2.08s/it]"
          ]
        },
        {
          "output_type": "stream",
          "name": "stdout",
          "text": [
            "Epoch 0006 #700 -- loss: 0.00000, acc: 1.0000\n"
          ]
        },
        {
          "output_type": "stream",
          "name": "stderr",
          "text": [
            " 40%|███▉      | 750/1884 [26:00<39:26,  2.09s/it]"
          ]
        },
        {
          "output_type": "stream",
          "name": "stdout",
          "text": [
            "Epoch 0006 #750 -- loss: 0.00000, acc: 1.0000\n"
          ]
        },
        {
          "output_type": "stream",
          "name": "stderr",
          "text": [
            " 42%|████▏     | 800/1884 [27:44<37:40,  2.09s/it]"
          ]
        },
        {
          "output_type": "stream",
          "name": "stdout",
          "text": [
            "Epoch 0006 #800 -- loss: 0.00000, acc: 1.0000\n"
          ]
        },
        {
          "output_type": "stream",
          "name": "stderr",
          "text": [
            " 45%|████▌     | 850/1884 [29:29<35:54,  2.08s/it]"
          ]
        },
        {
          "output_type": "stream",
          "name": "stdout",
          "text": [
            "Epoch 0006 #850 -- loss: 0.00000, acc: 1.0000\n"
          ]
        },
        {
          "output_type": "stream",
          "name": "stderr",
          "text": [
            " 48%|████▊     | 900/1884 [31:13<34:08,  2.08s/it]"
          ]
        },
        {
          "output_type": "stream",
          "name": "stdout",
          "text": [
            "Epoch 0006 #900 -- loss: 0.00000, acc: 1.0000\n"
          ]
        },
        {
          "output_type": "stream",
          "name": "stderr",
          "text": [
            " 50%|█████     | 950/1884 [32:57<32:26,  2.08s/it]"
          ]
        },
        {
          "output_type": "stream",
          "name": "stdout",
          "text": [
            "Epoch 0006 #950 -- loss: 0.00000, acc: 1.0000\n"
          ]
        },
        {
          "output_type": "stream",
          "name": "stderr",
          "text": [
            " 53%|█████▎    | 1000/1884 [34:41<30:37,  2.08s/it]"
          ]
        },
        {
          "output_type": "stream",
          "name": "stdout",
          "text": [
            "Epoch 0006 #1000 -- loss: 0.00000, acc: 1.0000\n"
          ]
        },
        {
          "output_type": "stream",
          "name": "stderr",
          "text": [
            " 56%|█████▌    | 1050/1884 [36:25<28:55,  2.08s/it]"
          ]
        },
        {
          "output_type": "stream",
          "name": "stdout",
          "text": [
            "Epoch 0006 #1050 -- loss: 0.00000, acc: 1.0000\n"
          ]
        },
        {
          "output_type": "stream",
          "name": "stderr",
          "text": [
            " 58%|█████▊    | 1100/1884 [38:09<27:10,  2.08s/it]"
          ]
        },
        {
          "output_type": "stream",
          "name": "stdout",
          "text": [
            "Epoch 0006 #1100 -- loss: 0.00000, acc: 1.0000\n"
          ]
        },
        {
          "output_type": "stream",
          "name": "stderr",
          "text": [
            " 61%|██████    | 1150/1884 [39:53<25:23,  2.08s/it]"
          ]
        },
        {
          "output_type": "stream",
          "name": "stdout",
          "text": [
            "Epoch 0006 #1150 -- loss: 0.00000, acc: 1.0000\n"
          ]
        },
        {
          "output_type": "stream",
          "name": "stderr",
          "text": [
            " 64%|██████▎   | 1200/1884 [41:37<23:41,  2.08s/it]"
          ]
        },
        {
          "output_type": "stream",
          "name": "stdout",
          "text": [
            "Epoch 0006 #1200 -- loss: 0.00001, acc: 1.0000\n"
          ]
        },
        {
          "output_type": "stream",
          "name": "stderr",
          "text": [
            " 66%|██████▋   | 1250/1884 [43:21<22:02,  2.09s/it]"
          ]
        },
        {
          "output_type": "stream",
          "name": "stdout",
          "text": [
            "Epoch 0006 #1250 -- loss: 0.00000, acc: 1.0000\n"
          ]
        },
        {
          "output_type": "stream",
          "name": "stderr",
          "text": [
            " 69%|██████▉   | 1300/1884 [45:05<20:15,  2.08s/it]"
          ]
        },
        {
          "output_type": "stream",
          "name": "stdout",
          "text": [
            "Epoch 0006 #1300 -- loss: 0.00000, acc: 1.0000\n"
          ]
        },
        {
          "output_type": "stream",
          "name": "stderr",
          "text": [
            " 72%|███████▏  | 1350/1884 [46:49<18:31,  2.08s/it]"
          ]
        },
        {
          "output_type": "stream",
          "name": "stdout",
          "text": [
            "Epoch 0006 #1350 -- loss: 0.00000, acc: 1.0000\n"
          ]
        },
        {
          "output_type": "stream",
          "name": "stderr",
          "text": [
            " 74%|███████▍  | 1400/1884 [48:33<16:49,  2.09s/it]"
          ]
        },
        {
          "output_type": "stream",
          "name": "stdout",
          "text": [
            "Epoch 0006 #1400 -- loss: 0.00000, acc: 1.0000\n"
          ]
        },
        {
          "output_type": "stream",
          "name": "stderr",
          "text": [
            " 77%|███████▋  | 1450/1884 [50:17<15:03,  2.08s/it]"
          ]
        },
        {
          "output_type": "stream",
          "name": "stdout",
          "text": [
            "Epoch 0006 #1450 -- loss: 0.00000, acc: 1.0000\n"
          ]
        },
        {
          "output_type": "stream",
          "name": "stderr",
          "text": [
            " 80%|███████▉  | 1500/1884 [52:01<13:20,  2.09s/it]"
          ]
        },
        {
          "output_type": "stream",
          "name": "stdout",
          "text": [
            "Epoch 0006 #1500 -- loss: 0.00000, acc: 1.0000\n"
          ]
        },
        {
          "output_type": "stream",
          "name": "stderr",
          "text": [
            " 82%|████████▏ | 1550/1884 [53:45<11:34,  2.08s/it]"
          ]
        },
        {
          "output_type": "stream",
          "name": "stdout",
          "text": [
            "Epoch 0006 #1550 -- loss: 0.00000, acc: 1.0000\n"
          ]
        },
        {
          "output_type": "stream",
          "name": "stderr",
          "text": [
            " 85%|████████▍ | 1600/1884 [55:29<09:48,  2.07s/it]"
          ]
        },
        {
          "output_type": "stream",
          "name": "stdout",
          "text": [
            "Epoch 0006 #1600 -- loss: 0.00000, acc: 1.0000\n"
          ]
        },
        {
          "output_type": "stream",
          "name": "stderr",
          "text": [
            " 88%|████████▊ | 1650/1884 [57:13<08:05,  2.08s/it]"
          ]
        },
        {
          "output_type": "stream",
          "name": "stdout",
          "text": [
            "Epoch 0006 #1650 -- loss: 0.00000, acc: 1.0000\n"
          ]
        },
        {
          "output_type": "stream",
          "name": "stderr",
          "text": [
            " 90%|█████████ | 1700/1884 [58:57<06:22,  2.08s/it]"
          ]
        },
        {
          "output_type": "stream",
          "name": "stdout",
          "text": [
            "Epoch 0006 #1700 -- loss: 0.00000, acc: 1.0000\n"
          ]
        },
        {
          "output_type": "stream",
          "name": "stderr",
          "text": [
            " 93%|█████████▎| 1750/1884 [1:00:41<04:38,  2.08s/it]"
          ]
        },
        {
          "output_type": "stream",
          "name": "stdout",
          "text": [
            "Epoch 0006 #1750 -- loss: 0.00000, acc: 1.0000\n"
          ]
        },
        {
          "output_type": "stream",
          "name": "stderr",
          "text": [
            " 96%|█████████▌| 1800/1884 [1:02:25<02:54,  2.08s/it]"
          ]
        },
        {
          "output_type": "stream",
          "name": "stdout",
          "text": [
            "Epoch 0006 #1800 -- loss: 0.00000, acc: 1.0000\n"
          ]
        },
        {
          "output_type": "stream",
          "name": "stderr",
          "text": [
            " 98%|█████████▊| 1850/1884 [1:04:09<01:10,  2.08s/it]"
          ]
        },
        {
          "output_type": "stream",
          "name": "stdout",
          "text": [
            "Epoch 0006 #1850 -- loss: 0.00000, acc: 1.0000\n"
          ]
        },
        {
          "output_type": "stream",
          "name": "stderr",
          "text": [
            "100%|██████████| 1884/1884 [1:05:19<00:00,  2.08s/it]"
          ]
        },
        {
          "output_type": "stream",
          "name": "stdout",
          "text": [
            "\n",
            "Epoch 0006 loss: 0.00000, acc: 1.00\n"
          ]
        },
        {
          "output_type": "stream",
          "name": "stderr",
          "text": [
            "\n",
            " 30%|███       | 6/20 [6:57:44<16:14:32, 4176.64s/it]"
          ]
        },
        {
          "output_type": "stream",
          "name": "stdout",
          "text": [
            "\n",
            ">>>> Validation loss: 0.00002, Acc: 1.0000\n",
            "\n"
          ]
        },
        {
          "output_type": "stream",
          "name": "stderr",
          "text": [
            "  3%|▎         | 50/1884 [01:43<1:03:33,  2.08s/it]"
          ]
        },
        {
          "output_type": "stream",
          "name": "stdout",
          "text": [
            "Epoch 0007 #050 -- loss: 0.00000, acc: 1.0000\n"
          ]
        },
        {
          "output_type": "stream",
          "name": "stderr",
          "text": [
            "  5%|▌         | 100/1884 [03:28<1:01:48,  2.08s/it]"
          ]
        },
        {
          "output_type": "stream",
          "name": "stdout",
          "text": [
            "Epoch 0007 #100 -- loss: 0.00000, acc: 1.0000\n"
          ]
        },
        {
          "output_type": "stream",
          "name": "stderr",
          "text": [
            "  8%|▊         | 150/1884 [05:12<1:00:07,  2.08s/it]"
          ]
        },
        {
          "output_type": "stream",
          "name": "stdout",
          "text": [
            "Epoch 0007 #150 -- loss: 0.00000, acc: 1.0000\n"
          ]
        },
        {
          "output_type": "stream",
          "name": "stderr",
          "text": [
            " 11%|█         | 200/1884 [06:56<58:30,  2.08s/it]"
          ]
        },
        {
          "output_type": "stream",
          "name": "stdout",
          "text": [
            "Epoch 0007 #200 -- loss: 0.00000, acc: 1.0000\n"
          ]
        },
        {
          "output_type": "stream",
          "name": "stderr",
          "text": [
            " 13%|█▎        | 250/1884 [08:40<56:33,  2.08s/it]"
          ]
        },
        {
          "output_type": "stream",
          "name": "stdout",
          "text": [
            "Epoch 0007 #250 -- loss: 0.00000, acc: 1.0000\n"
          ]
        },
        {
          "output_type": "stream",
          "name": "stderr",
          "text": [
            " 16%|█▌        | 300/1884 [10:24<54:49,  2.08s/it]"
          ]
        },
        {
          "output_type": "stream",
          "name": "stdout",
          "text": [
            "Epoch 0007 #300 -- loss: 0.00000, acc: 1.0000\n"
          ]
        },
        {
          "output_type": "stream",
          "name": "stderr",
          "text": [
            " 19%|█▊        | 350/1884 [12:08<53:13,  2.08s/it]"
          ]
        },
        {
          "output_type": "stream",
          "name": "stdout",
          "text": [
            "Epoch 0007 #350 -- loss: 0.00000, acc: 1.0000\n"
          ]
        },
        {
          "output_type": "stream",
          "name": "stderr",
          "text": [
            " 21%|██        | 400/1884 [13:52<51:27,  2.08s/it]"
          ]
        },
        {
          "output_type": "stream",
          "name": "stdout",
          "text": [
            "Epoch 0007 #400 -- loss: 0.00000, acc: 1.0000\n"
          ]
        },
        {
          "output_type": "stream",
          "name": "stderr",
          "text": [
            " 24%|██▍       | 450/1884 [15:36<49:43,  2.08s/it]"
          ]
        },
        {
          "output_type": "stream",
          "name": "stdout",
          "text": [
            "Epoch 0007 #450 -- loss: 0.00000, acc: 1.0000\n"
          ]
        },
        {
          "output_type": "stream",
          "name": "stderr",
          "text": [
            " 27%|██▋       | 500/1884 [17:20<47:52,  2.08s/it]"
          ]
        },
        {
          "output_type": "stream",
          "name": "stdout",
          "text": [
            "Epoch 0007 #500 -- loss: 0.00000, acc: 1.0000\n"
          ]
        },
        {
          "output_type": "stream",
          "name": "stderr",
          "text": [
            " 29%|██▉       | 550/1884 [19:04<46:17,  2.08s/it]"
          ]
        },
        {
          "output_type": "stream",
          "name": "stdout",
          "text": [
            "Epoch 0007 #550 -- loss: 0.00000, acc: 1.0000\n"
          ]
        },
        {
          "output_type": "stream",
          "name": "stderr",
          "text": [
            " 32%|███▏      | 600/1884 [20:48<44:37,  2.08s/it]"
          ]
        },
        {
          "output_type": "stream",
          "name": "stdout",
          "text": [
            "Epoch 0007 #600 -- loss: 0.00000, acc: 1.0000\n"
          ]
        },
        {
          "output_type": "stream",
          "name": "stderr",
          "text": [
            " 35%|███▍      | 650/1884 [22:32<42:45,  2.08s/it]"
          ]
        },
        {
          "output_type": "stream",
          "name": "stdout",
          "text": [
            "Epoch 0007 #650 -- loss: 0.00000, acc: 1.0000\n"
          ]
        },
        {
          "output_type": "stream",
          "name": "stderr",
          "text": [
            " 37%|███▋      | 700/1884 [24:16<40:57,  2.08s/it]"
          ]
        },
        {
          "output_type": "stream",
          "name": "stdout",
          "text": [
            "Epoch 0007 #700 -- loss: 0.00000, acc: 1.0000\n"
          ]
        },
        {
          "output_type": "stream",
          "name": "stderr",
          "text": [
            " 40%|███▉      | 750/1884 [26:00<39:12,  2.07s/it]"
          ]
        },
        {
          "output_type": "stream",
          "name": "stdout",
          "text": [
            "Epoch 0007 #750 -- loss: 0.00000, acc: 1.0000\n"
          ]
        },
        {
          "output_type": "stream",
          "name": "stderr",
          "text": [
            " 42%|████▏     | 800/1884 [27:44<37:40,  2.09s/it]"
          ]
        },
        {
          "output_type": "stream",
          "name": "stdout",
          "text": [
            "Epoch 0007 #800 -- loss: 0.00000, acc: 1.0000\n"
          ]
        },
        {
          "output_type": "stream",
          "name": "stderr",
          "text": [
            " 45%|████▌     | 850/1884 [29:28<35:44,  2.07s/it]"
          ]
        },
        {
          "output_type": "stream",
          "name": "stdout",
          "text": [
            "Epoch 0007 #850 -- loss: 0.00000, acc: 1.0000\n"
          ]
        },
        {
          "output_type": "stream",
          "name": "stderr",
          "text": [
            " 48%|████▊     | 900/1884 [31:12<34:12,  2.09s/it]"
          ]
        },
        {
          "output_type": "stream",
          "name": "stdout",
          "text": [
            "Epoch 0007 #900 -- loss: 0.00000, acc: 1.0000\n"
          ]
        },
        {
          "output_type": "stream",
          "name": "stderr",
          "text": [
            " 50%|█████     | 950/1884 [32:56<32:24,  2.08s/it]"
          ]
        },
        {
          "output_type": "stream",
          "name": "stdout",
          "text": [
            "Epoch 0007 #950 -- loss: 0.00000, acc: 1.0000\n"
          ]
        },
        {
          "output_type": "stream",
          "name": "stderr",
          "text": [
            " 53%|█████▎    | 1000/1884 [34:40<30:37,  2.08s/it]"
          ]
        },
        {
          "output_type": "stream",
          "name": "stdout",
          "text": [
            "Epoch 0007 #1000 -- loss: 0.00000, acc: 1.0000\n"
          ]
        },
        {
          "output_type": "stream",
          "name": "stderr",
          "text": [
            " 56%|█████▌    | 1050/1884 [36:24<28:56,  2.08s/it]"
          ]
        },
        {
          "output_type": "stream",
          "name": "stdout",
          "text": [
            "Epoch 0007 #1050 -- loss: 0.00000, acc: 1.0000\n"
          ]
        },
        {
          "output_type": "stream",
          "name": "stderr",
          "text": [
            " 58%|█████▊    | 1100/1884 [38:08<27:09,  2.08s/it]"
          ]
        },
        {
          "output_type": "stream",
          "name": "stdout",
          "text": [
            "Epoch 0007 #1100 -- loss: 0.00000, acc: 1.0000\n"
          ]
        },
        {
          "output_type": "stream",
          "name": "stderr",
          "text": [
            " 61%|██████    | 1150/1884 [39:52<25:23,  2.08s/it]"
          ]
        },
        {
          "output_type": "stream",
          "name": "stdout",
          "text": [
            "Epoch 0007 #1150 -- loss: 0.00000, acc: 1.0000\n"
          ]
        },
        {
          "output_type": "stream",
          "name": "stderr",
          "text": [
            " 64%|██████▎   | 1200/1884 [41:36<23:41,  2.08s/it]"
          ]
        },
        {
          "output_type": "stream",
          "name": "stdout",
          "text": [
            "Epoch 0007 #1200 -- loss: 0.00000, acc: 1.0000\n"
          ]
        },
        {
          "output_type": "stream",
          "name": "stderr",
          "text": [
            " 66%|██████▋   | 1250/1884 [43:20<22:00,  2.08s/it]"
          ]
        },
        {
          "output_type": "stream",
          "name": "stdout",
          "text": [
            "Epoch 0007 #1250 -- loss: 0.00000, acc: 1.0000\n"
          ]
        },
        {
          "output_type": "stream",
          "name": "stderr",
          "text": [
            " 69%|██████▉   | 1300/1884 [45:05<20:15,  2.08s/it]"
          ]
        },
        {
          "output_type": "stream",
          "name": "stdout",
          "text": [
            "Epoch 0007 #1300 -- loss: 0.00000, acc: 1.0000\n"
          ]
        },
        {
          "output_type": "stream",
          "name": "stderr",
          "text": [
            " 72%|███████▏  | 1350/1884 [46:49<18:30,  2.08s/it]"
          ]
        },
        {
          "output_type": "stream",
          "name": "stdout",
          "text": [
            "Epoch 0007 #1350 -- loss: 0.00000, acc: 1.0000\n"
          ]
        },
        {
          "output_type": "stream",
          "name": "stderr",
          "text": [
            " 74%|███████▍  | 1400/1884 [48:33<16:45,  2.08s/it]"
          ]
        },
        {
          "output_type": "stream",
          "name": "stdout",
          "text": [
            "Epoch 0007 #1400 -- loss: 0.00000, acc: 1.0000\n"
          ]
        },
        {
          "output_type": "stream",
          "name": "stderr",
          "text": [
            " 77%|███████▋  | 1450/1884 [50:17<15:05,  2.09s/it]"
          ]
        },
        {
          "output_type": "stream",
          "name": "stdout",
          "text": [
            "Epoch 0007 #1450 -- loss: 0.00000, acc: 1.0000\n"
          ]
        },
        {
          "output_type": "stream",
          "name": "stderr",
          "text": [
            " 80%|███████▉  | 1500/1884 [52:01<13:19,  2.08s/it]"
          ]
        },
        {
          "output_type": "stream",
          "name": "stdout",
          "text": [
            "Epoch 0007 #1500 -- loss: 0.00000, acc: 1.0000\n"
          ]
        },
        {
          "output_type": "stream",
          "name": "stderr",
          "text": [
            " 82%|████████▏ | 1550/1884 [53:45<11:34,  2.08s/it]"
          ]
        },
        {
          "output_type": "stream",
          "name": "stdout",
          "text": [
            "Epoch 0007 #1550 -- loss: 0.00000, acc: 1.0000\n"
          ]
        },
        {
          "output_type": "stream",
          "name": "stderr",
          "text": [
            " 85%|████████▍ | 1600/1884 [55:29<09:52,  2.09s/it]"
          ]
        },
        {
          "output_type": "stream",
          "name": "stdout",
          "text": [
            "Epoch 0007 #1600 -- loss: 0.00000, acc: 1.0000\n"
          ]
        },
        {
          "output_type": "stream",
          "name": "stderr",
          "text": [
            " 88%|████████▊ | 1650/1884 [57:13<08:04,  2.07s/it]"
          ]
        },
        {
          "output_type": "stream",
          "name": "stdout",
          "text": [
            "Epoch 0007 #1650 -- loss: 0.00000, acc: 1.0000\n"
          ]
        },
        {
          "output_type": "stream",
          "name": "stderr",
          "text": [
            " 90%|█████████ | 1700/1884 [58:57<06:22,  2.08s/it]"
          ]
        },
        {
          "output_type": "stream",
          "name": "stdout",
          "text": [
            "Epoch 0007 #1700 -- loss: 0.00000, acc: 1.0000\n"
          ]
        },
        {
          "output_type": "stream",
          "name": "stderr",
          "text": [
            " 93%|█████████▎| 1750/1884 [1:00:41<04:38,  2.08s/it]"
          ]
        },
        {
          "output_type": "stream",
          "name": "stdout",
          "text": [
            "Epoch 0007 #1750 -- loss: 0.00000, acc: 1.0000\n"
          ]
        },
        {
          "output_type": "stream",
          "name": "stderr",
          "text": [
            " 96%|█████████▌| 1800/1884 [1:02:25<02:54,  2.08s/it]"
          ]
        },
        {
          "output_type": "stream",
          "name": "stdout",
          "text": [
            "Epoch 0007 #1800 -- loss: 0.00000, acc: 1.0000\n"
          ]
        },
        {
          "output_type": "stream",
          "name": "stderr",
          "text": [
            " 98%|█████████▊| 1850/1884 [1:04:09<01:10,  2.08s/it]"
          ]
        },
        {
          "output_type": "stream",
          "name": "stdout",
          "text": [
            "Epoch 0007 #1850 -- loss: 0.00000, acc: 1.0000\n"
          ]
        },
        {
          "output_type": "stream",
          "name": "stderr",
          "text": [
            "100%|██████████| 1884/1884 [1:05:19<00:00,  2.08s/it]"
          ]
        },
        {
          "output_type": "stream",
          "name": "stdout",
          "text": [
            "\n",
            "Epoch 0007 loss: 0.00000, acc: 1.00\n"
          ]
        },
        {
          "output_type": "stream",
          "name": "stderr",
          "text": [
            "\n",
            " 35%|███▌      | 7/20 [8:07:20<15:04:52, 4176.35s/it]"
          ]
        },
        {
          "output_type": "stream",
          "name": "stdout",
          "text": [
            "\n",
            ">>>> Validation loss: 0.00001, Acc: 1.0000\n",
            "\n"
          ]
        },
        {
          "output_type": "stream",
          "name": "stderr",
          "text": [
            "  3%|▎         | 50/1884 [01:44<1:03:32,  2.08s/it]"
          ]
        },
        {
          "output_type": "stream",
          "name": "stdout",
          "text": [
            "Epoch 0008 #050 -- loss: 0.00000, acc: 1.0000\n"
          ]
        },
        {
          "output_type": "stream",
          "name": "stderr",
          "text": [
            "  5%|▌         | 100/1884 [03:28<1:01:48,  2.08s/it]"
          ]
        },
        {
          "output_type": "stream",
          "name": "stdout",
          "text": [
            "Epoch 0008 #100 -- loss: 0.00000, acc: 1.0000\n"
          ]
        },
        {
          "output_type": "stream",
          "name": "stderr",
          "text": [
            "  8%|▊         | 150/1884 [05:12<1:00:03,  2.08s/it]"
          ]
        },
        {
          "output_type": "stream",
          "name": "stdout",
          "text": [
            "Epoch 0008 #150 -- loss: 0.00000, acc: 1.0000\n"
          ]
        },
        {
          "output_type": "stream",
          "name": "stderr",
          "text": [
            " 11%|█         | 200/1884 [06:56<58:48,  2.10s/it]"
          ]
        },
        {
          "output_type": "stream",
          "name": "stdout",
          "text": [
            "Epoch 0008 #200 -- loss: 0.00000, acc: 1.0000\n"
          ]
        },
        {
          "output_type": "stream",
          "name": "stderr",
          "text": [
            " 13%|█▎        | 250/1884 [08:40<56:45,  2.08s/it]"
          ]
        },
        {
          "output_type": "stream",
          "name": "stdout",
          "text": [
            "Epoch 0008 #250 -- loss: 0.00000, acc: 1.0000\n"
          ]
        },
        {
          "output_type": "stream",
          "name": "stderr",
          "text": [
            " 16%|█▌        | 300/1884 [10:24<55:03,  2.09s/it]"
          ]
        },
        {
          "output_type": "stream",
          "name": "stdout",
          "text": [
            "Epoch 0008 #300 -- loss: 0.00000, acc: 1.0000\n"
          ]
        },
        {
          "output_type": "stream",
          "name": "stderr",
          "text": [
            " 19%|█▊        | 350/1884 [12:08<53:12,  2.08s/it]"
          ]
        },
        {
          "output_type": "stream",
          "name": "stdout",
          "text": [
            "Epoch 0008 #350 -- loss: 0.00000, acc: 1.0000\n"
          ]
        },
        {
          "output_type": "stream",
          "name": "stderr",
          "text": [
            " 21%|██        | 400/1884 [13:52<51:32,  2.08s/it]"
          ]
        },
        {
          "output_type": "stream",
          "name": "stdout",
          "text": [
            "Epoch 0008 #400 -- loss: 0.00000, acc: 1.0000\n"
          ]
        },
        {
          "output_type": "stream",
          "name": "stderr",
          "text": [
            " 24%|██▍       | 450/1884 [15:36<49:40,  2.08s/it]"
          ]
        },
        {
          "output_type": "stream",
          "name": "stdout",
          "text": [
            "Epoch 0008 #450 -- loss: 0.00000, acc: 1.0000\n"
          ]
        },
        {
          "output_type": "stream",
          "name": "stderr",
          "text": [
            " 27%|██▋       | 500/1884 [17:20<47:54,  2.08s/it]"
          ]
        },
        {
          "output_type": "stream",
          "name": "stdout",
          "text": [
            "Epoch 0008 #500 -- loss: 0.00000, acc: 1.0000\n"
          ]
        },
        {
          "output_type": "stream",
          "name": "stderr",
          "text": [
            " 29%|██▉       | 550/1884 [19:04<46:17,  2.08s/it]"
          ]
        },
        {
          "output_type": "stream",
          "name": "stdout",
          "text": [
            "Epoch 0008 #550 -- loss: 0.00000, acc: 1.0000\n"
          ]
        },
        {
          "output_type": "stream",
          "name": "stderr",
          "text": [
            " 32%|███▏      | 600/1884 [20:49<44:34,  2.08s/it]"
          ]
        },
        {
          "output_type": "stream",
          "name": "stdout",
          "text": [
            "Epoch 0008 #600 -- loss: 0.00000, acc: 1.0000\n"
          ]
        },
        {
          "output_type": "stream",
          "name": "stderr",
          "text": [
            " 35%|███▍      | 650/1884 [22:32<42:46,  2.08s/it]"
          ]
        },
        {
          "output_type": "stream",
          "name": "stdout",
          "text": [
            "Epoch 0008 #650 -- loss: 0.00000, acc: 1.0000\n"
          ]
        },
        {
          "output_type": "stream",
          "name": "stderr",
          "text": [
            " 37%|███▋      | 700/1884 [24:17<41:02,  2.08s/it]"
          ]
        },
        {
          "output_type": "stream",
          "name": "stdout",
          "text": [
            "Epoch 0008 #700 -- loss: 0.00000, acc: 1.0000\n"
          ]
        },
        {
          "output_type": "stream",
          "name": "stderr",
          "text": [
            " 40%|███▉      | 750/1884 [26:00<39:21,  2.08s/it]"
          ]
        },
        {
          "output_type": "stream",
          "name": "stdout",
          "text": [
            "Epoch 0008 #750 -- loss: 0.00000, acc: 1.0000\n"
          ]
        },
        {
          "output_type": "stream",
          "name": "stderr",
          "text": [
            " 42%|████▏     | 800/1884 [27:44<37:33,  2.08s/it]"
          ]
        },
        {
          "output_type": "stream",
          "name": "stdout",
          "text": [
            "Epoch 0008 #800 -- loss: 0.00000, acc: 1.0000\n"
          ]
        },
        {
          "output_type": "stream",
          "name": "stderr",
          "text": [
            " 45%|████▌     | 850/1884 [29:28<35:44,  2.07s/it]"
          ]
        },
        {
          "output_type": "stream",
          "name": "stdout",
          "text": [
            "Epoch 0008 #850 -- loss: 0.00000, acc: 1.0000\n"
          ]
        },
        {
          "output_type": "stream",
          "name": "stderr",
          "text": [
            " 48%|████▊     | 900/1884 [31:12<34:08,  2.08s/it]"
          ]
        },
        {
          "output_type": "stream",
          "name": "stdout",
          "text": [
            "Epoch 0008 #900 -- loss: 0.00000, acc: 1.0000\n"
          ]
        },
        {
          "output_type": "stream",
          "name": "stderr",
          "text": [
            " 50%|█████     | 950/1884 [32:57<32:22,  2.08s/it]"
          ]
        },
        {
          "output_type": "stream",
          "name": "stdout",
          "text": [
            "Epoch 0008 #950 -- loss: 0.00000, acc: 1.0000\n"
          ]
        },
        {
          "output_type": "stream",
          "name": "stderr",
          "text": [
            " 53%|█████▎    | 1000/1884 [34:41<30:37,  2.08s/it]"
          ]
        },
        {
          "output_type": "stream",
          "name": "stdout",
          "text": [
            "Epoch 0008 #1000 -- loss: 0.00000, acc: 1.0000\n"
          ]
        },
        {
          "output_type": "stream",
          "name": "stderr",
          "text": [
            " 56%|█████▌    | 1050/1884 [36:25<28:53,  2.08s/it]"
          ]
        },
        {
          "output_type": "stream",
          "name": "stdout",
          "text": [
            "Epoch 0008 #1050 -- loss: 0.00000, acc: 1.0000\n"
          ]
        },
        {
          "output_type": "stream",
          "name": "stderr",
          "text": [
            " 58%|█████▊    | 1100/1884 [38:09<27:14,  2.08s/it]"
          ]
        },
        {
          "output_type": "stream",
          "name": "stdout",
          "text": [
            "Epoch 0008 #1100 -- loss: 0.00000, acc: 1.0000\n"
          ]
        },
        {
          "output_type": "stream",
          "name": "stderr",
          "text": [
            " 61%|██████    | 1150/1884 [39:53<25:22,  2.07s/it]"
          ]
        },
        {
          "output_type": "stream",
          "name": "stdout",
          "text": [
            "Epoch 0008 #1150 -- loss: 0.00000, acc: 1.0000\n"
          ]
        },
        {
          "output_type": "stream",
          "name": "stderr",
          "text": [
            " 64%|██████▎   | 1200/1884 [41:37<23:45,  2.08s/it]"
          ]
        },
        {
          "output_type": "stream",
          "name": "stdout",
          "text": [
            "Epoch 0008 #1200 -- loss: 0.00000, acc: 1.0000\n"
          ]
        },
        {
          "output_type": "stream",
          "name": "stderr",
          "text": [
            " 66%|██████▋   | 1250/1884 [43:21<21:59,  2.08s/it]"
          ]
        },
        {
          "output_type": "stream",
          "name": "stdout",
          "text": [
            "Epoch 0008 #1250 -- loss: 0.00000, acc: 1.0000\n"
          ]
        },
        {
          "output_type": "stream",
          "name": "stderr",
          "text": [
            " 69%|██████▉   | 1300/1884 [45:05<20:14,  2.08s/it]"
          ]
        },
        {
          "output_type": "stream",
          "name": "stdout",
          "text": [
            "Epoch 0008 #1300 -- loss: 0.00000, acc: 1.0000\n"
          ]
        },
        {
          "output_type": "stream",
          "name": "stderr",
          "text": [
            " 72%|███████▏  | 1350/1884 [46:48<18:29,  2.08s/it]"
          ]
        },
        {
          "output_type": "stream",
          "name": "stdout",
          "text": [
            "Epoch 0008 #1350 -- loss: 0.00000, acc: 1.0000\n"
          ]
        },
        {
          "output_type": "stream",
          "name": "stderr",
          "text": [
            " 74%|███████▍  | 1400/1884 [48:32<16:43,  2.07s/it]"
          ]
        },
        {
          "output_type": "stream",
          "name": "stdout",
          "text": [
            "Epoch 0008 #1400 -- loss: 0.00000, acc: 1.0000\n"
          ]
        },
        {
          "output_type": "stream",
          "name": "stderr",
          "text": [
            " 77%|███████▋  | 1450/1884 [50:16<15:00,  2.07s/it]"
          ]
        },
        {
          "output_type": "stream",
          "name": "stdout",
          "text": [
            "Epoch 0008 #1450 -- loss: 0.00000, acc: 1.0000\n"
          ]
        },
        {
          "output_type": "stream",
          "name": "stderr",
          "text": [
            " 80%|███████▉  | 1500/1884 [52:00<13:17,  2.08s/it]"
          ]
        },
        {
          "output_type": "stream",
          "name": "stdout",
          "text": [
            "Epoch 0008 #1500 -- loss: 0.00000, acc: 1.0000\n"
          ]
        },
        {
          "output_type": "stream",
          "name": "stderr",
          "text": [
            " 82%|████████▏ | 1550/1884 [53:44<11:36,  2.09s/it]"
          ]
        },
        {
          "output_type": "stream",
          "name": "stdout",
          "text": [
            "Epoch 0008 #1550 -- loss: 0.00000, acc: 1.0000\n"
          ]
        },
        {
          "output_type": "stream",
          "name": "stderr",
          "text": [
            " 85%|████████▍ | 1600/1884 [55:28<09:50,  2.08s/it]"
          ]
        },
        {
          "output_type": "stream",
          "name": "stdout",
          "text": [
            "Epoch 0008 #1600 -- loss: 0.00000, acc: 1.0000\n"
          ]
        },
        {
          "output_type": "stream",
          "name": "stderr",
          "text": [
            " 88%|████████▊ | 1650/1884 [57:12<08:07,  2.08s/it]"
          ]
        },
        {
          "output_type": "stream",
          "name": "stdout",
          "text": [
            "Epoch 0008 #1650 -- loss: 0.00000, acc: 1.0000\n"
          ]
        },
        {
          "output_type": "stream",
          "name": "stderr",
          "text": [
            " 90%|█████████ | 1700/1884 [58:56<06:22,  2.08s/it]"
          ]
        },
        {
          "output_type": "stream",
          "name": "stdout",
          "text": [
            "Epoch 0008 #1700 -- loss: 0.00000, acc: 1.0000\n"
          ]
        },
        {
          "output_type": "stream",
          "name": "stderr",
          "text": [
            " 93%|█████████▎| 1750/1884 [1:00:40<04:38,  2.08s/it]"
          ]
        },
        {
          "output_type": "stream",
          "name": "stdout",
          "text": [
            "Epoch 0008 #1750 -- loss: 0.00000, acc: 1.0000\n"
          ]
        },
        {
          "output_type": "stream",
          "name": "stderr",
          "text": [
            " 96%|█████████▌| 1800/1884 [1:02:24<02:54,  2.08s/it]"
          ]
        },
        {
          "output_type": "stream",
          "name": "stdout",
          "text": [
            "Epoch 0008 #1800 -- loss: 0.00000, acc: 1.0000\n"
          ]
        },
        {
          "output_type": "stream",
          "name": "stderr",
          "text": [
            " 98%|█████████▊| 1850/1884 [1:04:08<01:10,  2.08s/it]"
          ]
        },
        {
          "output_type": "stream",
          "name": "stdout",
          "text": [
            "Epoch 0008 #1850 -- loss: 0.00000, acc: 1.0000\n"
          ]
        },
        {
          "output_type": "stream",
          "name": "stderr",
          "text": [
            "100%|██████████| 1884/1884 [1:05:18<00:00,  2.08s/it]"
          ]
        },
        {
          "output_type": "stream",
          "name": "stdout",
          "text": [
            "\n",
            "Epoch 0008 loss: 0.00000, acc: 1.00\n"
          ]
        },
        {
          "output_type": "stream",
          "name": "stderr",
          "text": [
            "\n",
            " 35%|███▌      | 7/20 [9:16:55<17:14:17, 4773.66s/it]"
          ]
        },
        {
          "output_type": "stream",
          "name": "stdout",
          "text": [
            "EarlyStopping counter: 5 out of 5\n",
            "==================================================\n",
            "5-fold best_val_acc_list : [1.0]\n",
            "=============== 5-fold Final Score(ACC) : 1.0 ===============\n"
          ]
        },
        {
          "output_type": "stream",
          "name": "stderr",
          "text": [
            "\n"
          ]
        }
      ]
    },
    {
      "cell_type": "markdown",
      "metadata": {
        "id": "m0IgDRCYD2Eh"
      },
      "source": [
        "# Test Set Prediction"
      ]
    },
    {
      "cell_type": "code",
      "source": [
        "def load_test_dataset(args, tokenizer):\n",
        "    test_dataset = load_data(args, dataset_dir = f\"./data/{args.test_file}\")\n",
        "    test_label = test_dataset['label'].values\n",
        "\n",
        "    # # tokenizing dataset\n",
        "    # entity_between = '</s></s>' if 'roberta' in args.model else '[SEP]'\n",
        "\n",
        "    tokenized_test = tokenized_dataset(args, test_dataset, tokenizer)\n",
        "    return tokenized_test, test_label\n",
        "\n",
        "def test_single_main(args, idx):\n",
        "    model = get_model(args)\n",
        "    tokenizer = get_tokenizer(args)\n",
        "    # load test datset\n",
        "    test_dataset, test_label = load_test_dataset(args, tokenizer)\n",
        "    test_dataset = NLI_Dataset(test_dataset, test_label)\n",
        "    testloader = DataLoader(test_dataset,\n",
        "                    shuffle=False,\n",
        "                    batch_size=args.batch_size,\n",
        "                    num_workers=args.num_workers,\n",
        "                    )\n",
        "\n",
        "    load_path = f'./models/{args.model_name}/{idx}-fold/best.pt'\n",
        "    model.load_state_dict(torch.load(load_path,map_location=device))\n",
        "    model.to(device)\n",
        "    model.eval()\n",
        "    progress_bar = tqdm(enumerate(testloader), total=len(testloader), leave=True, position=0,)\n",
        "    for i, data in progress_bar:\n",
        "        with torch.no_grad():\n",
        "            logits = model(\n",
        "                data['input_ids'].to(device),\n",
        "                data['attention_mask'].to(device),\n",
        "                data['token_type_ids'].to(device)\n",
        "            )\n",
        "        if i==0:\n",
        "            one_fold_logits = logits\n",
        "        else:\n",
        "            one_fold_logits = torch.cat([one_fold_logits,logits],dim=0) # (batchsize,3) + (batchsize,3) -> (batchsize+batchsize,3)\n",
        "\n",
        "    # torch tensor를 저장하기 위한 numpy 변환\n",
        "    one_fold_logits = one_fold_logits.squeeze(0).detach().cpu().numpy()\n",
        "    # numpy array 저장\n",
        "    np.save(f'./models/{args.model_name}/{idx}-fold/numpy_logits', one_fold_logits)\n",
        "    # np_load = np.load(f'./models/{args.model_name}/{idx}-fold/numpy_logits.npy')\n",
        "\n",
        "    return np.argmax(one_fold_logits, axis=1)"
      ],
      "metadata": {
        "id": "SMrb1VQhtjW4"
      },
      "execution_count": 26,
      "outputs": []
    },
    {
      "cell_type": "code",
      "source": [
        "idx = 4\n",
        "single_pred = test_single_main(args, idx)\n",
        "\n",
        "label_to_num_dict = {'Normal':0,'Phising':1}\n",
        "num_to_label_dict = {v:k for k,v in label_to_num_dict.items()}\n",
        "print(f\"len(single_pred) : {len(single_pred)}\")\n",
        "print('='*50)\n",
        "test['preds'] = single_pred\n",
        "# test['label'] = hard_output\n",
        "test['preds'] = test['preds'].map(num_to_label_dict)\n",
        "test['preds'].value_counts()"
      ],
      "metadata": {
        "colab": {
          "base_uri": "https://localhost:8080/",
          "height": 1000,
          "referenced_widgets": [
            "66cf3d3846244fe8952b2ba234ca75ff",
            "c1eea33550bd49d28fcd77579b89cf4c",
            "9cc68d4e7624472eb401b36e7a294121",
            "25cac29e56a4456480d82c309acdc56d",
            "79c71b6150d24b2cbcaa2b0335abb140",
            "09e1355beab74550b1d84be59a409231",
            "5a59e71351a24493a091ef07ab1c535d",
            "05f4eecd402f42c3b94d45183c19c6e8",
            "a115816f6a6e49bb958a30cf92129b35",
            "56846bac7cdb47d3b0bd0a1c908dc5b0",
            "2874dc8ecb4a43338e42dab6fc2499cf"
          ]
        },
        "id": "a_Mm5klntty3",
        "outputId": "9ed8547c-1a07-492b-fe41-2d2089af9dd1"
      },
      "execution_count": null,
      "outputs": [
        {
          "output_type": "display_data",
          "data": {
            "text/plain": [
              "Downloading model.safetensors:   0%|          | 0.00/458M [00:00<?, ?B/s]"
            ],
            "application/vnd.jupyter.widget-view+json": {
              "version_major": 2,
              "version_minor": 0,
              "model_id": "66cf3d3846244fe8952b2ba234ca75ff"
            }
          },
          "metadata": {}
        },
        {
          "output_type": "stream",
          "name": "stdout",
          "text": [
            "===================loading data=====================\n"
          ]
        },
        {
          "output_type": "stream",
          "name": "stderr",
          "text": [
            "100%|██████████| 589/589 [5:58:25<00:00, 36.51s/it]\n",
            "ERROR:root:Internal Python error in the inspect module.\n",
            "Below is the traceback from this internal error.\n",
            "\n",
            "ERROR:root:Internal Python error in the inspect module.\n",
            "Below is the traceback from this internal error.\n",
            "\n",
            "ERROR:root:Internal Python error in the inspect module.\n",
            "Below is the traceback from this internal error.\n",
            "\n"
          ]
        },
        {
          "output_type": "stream",
          "name": "stdout",
          "text": [
            "Traceback (most recent call last):\n",
            "  File \"/usr/local/lib/python3.10/dist-packages/IPython/core/interactiveshell.py\", line 3553, in run_code\n",
            "    exec(code_obj, self.user_global_ns, self.user_ns)\n",
            "  File \"<ipython-input-27-4062dff44ee3>\", line 2, in <cell line: 2>\n",
            "    single_pred = test_single_main(args, idx)\n",
            "  File \"<ipython-input-26-31b496661970>\", line 43, in test_single_main\n",
            "    np.save(f'./models/{args.model_name}/{idx}-fold/numpy_logits', one_fold_logits)\n",
            "  File \"<__array_function__ internals>\", line 180, in save\n",
            "  File \"/usr/local/lib/python3.10/dist-packages/numpy/lib/npyio.py\", line 518, in save\n",
            "    file_ctx = open(file, \"wb\")\n",
            "OSError: [Errno 107] Transport endpoint is not connected: './models/[comment+(pos+keywords)]_r_kobigbird_Scdulinear_Dp0.0_add_klue_dataFalse_5Fd_Sm0.0_Bs8_Lr1e-05_Ep20_Cy1.2/4-fold/numpy_logits.npy'\n",
            "\n",
            "During handling of the above exception, another exception occurred:\n",
            "\n",
            "Traceback (most recent call last):\n",
            "  File \"/usr/local/lib/python3.10/dist-packages/IPython/core/interactiveshell.py\", line 2099, in showtraceback\n",
            "    stb = value._render_traceback_()\n",
            "AttributeError: 'OSError' object has no attribute '_render_traceback_'\n",
            "\n",
            "During handling of the above exception, another exception occurred:\n",
            "\n",
            "Traceback (most recent call last):\n",
            "  File \"/usr/local/lib/python3.10/dist-packages/IPython/core/ultratb.py\", line 1101, in get_records\n",
            "    return _fixed_getinnerframes(etb, number_of_lines_of_context, tb_offset)\n",
            "  File \"/usr/local/lib/python3.10/dist-packages/IPython/core/ultratb.py\", line 248, in wrapped\n",
            "    return f(*args, **kwargs)\n",
            "  File \"/usr/local/lib/python3.10/dist-packages/IPython/core/ultratb.py\", line 281, in _fixed_getinnerframes\n",
            "    records = fix_frame_records_filenames(inspect.getinnerframes(etb, context))\n",
            "  File \"/usr/lib/python3.10/inspect.py\", line 1662, in getinnerframes\n",
            "    frameinfo = (tb.tb_frame,) + getframeinfo(tb, context)\n",
            "  File \"/usr/lib/python3.10/inspect.py\", line 1620, in getframeinfo\n",
            "    filename = getsourcefile(frame) or getfile(frame)\n",
            "  File \"/usr/lib/python3.10/inspect.py\", line 829, in getsourcefile\n",
            "    module = getmodule(object, filename)\n",
            "  File \"/usr/lib/python3.10/inspect.py\", line 861, in getmodule\n",
            "    file = getabsfile(object, _filename)\n",
            "  File \"/usr/lib/python3.10/inspect.py\", line 845, in getabsfile\n",
            "    return os.path.normcase(os.path.abspath(_filename))\n",
            "  File \"/usr/lib/python3.10/posixpath.py\", line 384, in abspath\n",
            "    cwd = os.getcwd()\n",
            "OSError: [Errno 107] Transport endpoint is not connected\n",
            "Traceback (most recent call last):\n",
            "  File \"/usr/local/lib/python3.10/dist-packages/IPython/core/interactiveshell.py\", line 3553, in run_code\n",
            "    exec(code_obj, self.user_global_ns, self.user_ns)\n",
            "  File \"<ipython-input-27-4062dff44ee3>\", line 2, in <cell line: 2>\n",
            "    single_pred = test_single_main(args, idx)\n",
            "  File \"<ipython-input-26-31b496661970>\", line 43, in test_single_main\n",
            "    np.save(f'./models/{args.model_name}/{idx}-fold/numpy_logits', one_fold_logits)\n",
            "  File \"<__array_function__ internals>\", line 180, in save\n",
            "  File \"/usr/local/lib/python3.10/dist-packages/numpy/lib/npyio.py\", line 518, in save\n",
            "    file_ctx = open(file, \"wb\")\n",
            "OSError: [Errno 107] Transport endpoint is not connected: './models/[comment+(pos+keywords)]_r_kobigbird_Scdulinear_Dp0.0_add_klue_dataFalse_5Fd_Sm0.0_Bs8_Lr1e-05_Ep20_Cy1.2/4-fold/numpy_logits.npy'\n",
            "\n",
            "During handling of the above exception, another exception occurred:\n",
            "\n",
            "Traceback (most recent call last):\n",
            "  File \"/usr/local/lib/python3.10/dist-packages/IPython/core/interactiveshell.py\", line 2099, in showtraceback\n",
            "    stb = value._render_traceback_()\n",
            "AttributeError: 'OSError' object has no attribute '_render_traceback_'\n",
            "\n",
            "During handling of the above exception, another exception occurred:\n",
            "\n",
            "Traceback (most recent call last):\n",
            "  File \"/usr/local/lib/python3.10/dist-packages/IPython/core/interactiveshell.py\", line 3473, in run_ast_nodes\n",
            "    if (await self.run_code(code, result,  async_=asy)):\n",
            "  File \"/usr/local/lib/python3.10/dist-packages/IPython/core/interactiveshell.py\", line 3575, in run_code\n",
            "    self.showtraceback(running_compiled_code=True)\n",
            "  File \"/usr/local/lib/python3.10/dist-packages/IPython/core/interactiveshell.py\", line 2101, in showtraceback\n",
            "    stb = self.InteractiveTB.structured_traceback(etype,\n",
            "  File \"/usr/local/lib/python3.10/dist-packages/IPython/core/ultratb.py\", line 1367, in structured_traceback\n",
            "    return FormattedTB.structured_traceback(\n",
            "  File \"/usr/local/lib/python3.10/dist-packages/IPython/core/ultratb.py\", line 1267, in structured_traceback\n",
            "    return VerboseTB.structured_traceback(\n",
            "  File \"/usr/local/lib/python3.10/dist-packages/IPython/core/ultratb.py\", line 1124, in structured_traceback\n",
            "    formatted_exception = self.format_exception_as_a_whole(etype, evalue, etb, number_of_lines_of_context,\n",
            "  File \"/usr/local/lib/python3.10/dist-packages/IPython/core/ultratb.py\", line 1082, in format_exception_as_a_whole\n",
            "    last_unique, recursion_repeat = find_recursion(orig_etype, evalue, records)\n",
            "  File \"/usr/local/lib/python3.10/dist-packages/IPython/core/ultratb.py\", line 382, in find_recursion\n",
            "    return len(records), 0\n",
            "TypeError: object of type 'NoneType' has no len()\n",
            "\n",
            "During handling of the above exception, another exception occurred:\n",
            "\n",
            "Traceback (most recent call last):\n",
            "  File \"/usr/local/lib/python3.10/dist-packages/IPython/core/interactiveshell.py\", line 2099, in showtraceback\n",
            "    stb = value._render_traceback_()\n",
            "AttributeError: 'TypeError' object has no attribute '_render_traceback_'\n",
            "\n",
            "During handling of the above exception, another exception occurred:\n",
            "\n",
            "Traceback (most recent call last):\n",
            "  File \"/usr/local/lib/python3.10/dist-packages/IPython/core/ultratb.py\", line 1101, in get_records\n",
            "    return _fixed_getinnerframes(etb, number_of_lines_of_context, tb_offset)\n",
            "  File \"/usr/local/lib/python3.10/dist-packages/IPython/core/ultratb.py\", line 248, in wrapped\n",
            "    return f(*args, **kwargs)\n",
            "  File \"/usr/local/lib/python3.10/dist-packages/IPython/core/ultratb.py\", line 281, in _fixed_getinnerframes\n",
            "    records = fix_frame_records_filenames(inspect.getinnerframes(etb, context))\n",
            "  File \"/usr/lib/python3.10/inspect.py\", line 1662, in getinnerframes\n",
            "    frameinfo = (tb.tb_frame,) + getframeinfo(tb, context)\n",
            "  File \"/usr/lib/python3.10/inspect.py\", line 1620, in getframeinfo\n",
            "    filename = getsourcefile(frame) or getfile(frame)\n",
            "  File \"/usr/lib/python3.10/inspect.py\", line 829, in getsourcefile\n",
            "    module = getmodule(object, filename)\n",
            "  File \"/usr/lib/python3.10/inspect.py\", line 861, in getmodule\n",
            "    file = getabsfile(object, _filename)\n",
            "  File \"/usr/lib/python3.10/inspect.py\", line 845, in getabsfile\n",
            "    return os.path.normcase(os.path.abspath(_filename))\n",
            "  File \"/usr/lib/python3.10/posixpath.py\", line 384, in abspath\n",
            "    cwd = os.getcwd()\n",
            "OSError: [Errno 107] Transport endpoint is not connected\n",
            "Traceback (most recent call last):\n",
            "  File \"/usr/local/lib/python3.10/dist-packages/IPython/core/interactiveshell.py\", line 3553, in run_code\n",
            "    exec(code_obj, self.user_global_ns, self.user_ns)\n",
            "  File \"<ipython-input-27-4062dff44ee3>\", line 2, in <cell line: 2>\n",
            "    single_pred = test_single_main(args, idx)\n",
            "  File \"<ipython-input-26-31b496661970>\", line 43, in test_single_main\n",
            "    np.save(f'./models/{args.model_name}/{idx}-fold/numpy_logits', one_fold_logits)\n",
            "  File \"<__array_function__ internals>\", line 180, in save\n",
            "  File \"/usr/local/lib/python3.10/dist-packages/numpy/lib/npyio.py\", line 518, in save\n",
            "    file_ctx = open(file, \"wb\")\n",
            "OSError: [Errno 107] Transport endpoint is not connected: './models/[comment+(pos+keywords)]_r_kobigbird_Scdulinear_Dp0.0_add_klue_dataFalse_5Fd_Sm0.0_Bs8_Lr1e-05_Ep20_Cy1.2/4-fold/numpy_logits.npy'\n",
            "\n",
            "During handling of the above exception, another exception occurred:\n",
            "\n",
            "Traceback (most recent call last):\n",
            "  File \"/usr/local/lib/python3.10/dist-packages/IPython/core/interactiveshell.py\", line 2099, in showtraceback\n",
            "    stb = value._render_traceback_()\n",
            "AttributeError: 'OSError' object has no attribute '_render_traceback_'\n",
            "\n",
            "During handling of the above exception, another exception occurred:\n",
            "\n",
            "Traceback (most recent call last):\n",
            "  File \"/usr/local/lib/python3.10/dist-packages/IPython/core/interactiveshell.py\", line 3473, in run_ast_nodes\n",
            "    if (await self.run_code(code, result,  async_=asy)):\n",
            "  File \"/usr/local/lib/python3.10/dist-packages/IPython/core/interactiveshell.py\", line 3575, in run_code\n",
            "    self.showtraceback(running_compiled_code=True)\n",
            "  File \"/usr/local/lib/python3.10/dist-packages/IPython/core/interactiveshell.py\", line 2101, in showtraceback\n",
            "    stb = self.InteractiveTB.structured_traceback(etype,\n",
            "  File \"/usr/local/lib/python3.10/dist-packages/IPython/core/ultratb.py\", line 1367, in structured_traceback\n",
            "    return FormattedTB.structured_traceback(\n",
            "  File \"/usr/local/lib/python3.10/dist-packages/IPython/core/ultratb.py\", line 1267, in structured_traceback\n",
            "    return VerboseTB.structured_traceback(\n",
            "  File \"/usr/local/lib/python3.10/dist-packages/IPython/core/ultratb.py\", line 1124, in structured_traceback\n",
            "    formatted_exception = self.format_exception_as_a_whole(etype, evalue, etb, number_of_lines_of_context,\n",
            "  File \"/usr/local/lib/python3.10/dist-packages/IPython/core/ultratb.py\", line 1082, in format_exception_as_a_whole\n",
            "    last_unique, recursion_repeat = find_recursion(orig_etype, evalue, records)\n",
            "  File \"/usr/local/lib/python3.10/dist-packages/IPython/core/ultratb.py\", line 382, in find_recursion\n",
            "    return len(records), 0\n",
            "TypeError: object of type 'NoneType' has no len()\n",
            "\n",
            "During handling of the above exception, another exception occurred:\n",
            "\n",
            "Traceback (most recent call last):\n",
            "  File \"/usr/local/lib/python3.10/dist-packages/IPython/core/interactiveshell.py\", line 2099, in showtraceback\n",
            "    stb = value._render_traceback_()\n",
            "AttributeError: 'TypeError' object has no attribute '_render_traceback_'\n",
            "\n",
            "During handling of the above exception, another exception occurred:\n",
            "\n",
            "Traceback (most recent call last):\n",
            "  File \"/usr/local/lib/python3.10/dist-packages/IPython/core/interactiveshell.py\", line 3030, in _run_cell\n",
            "    return runner(coro)\n",
            "  File \"/usr/local/lib/python3.10/dist-packages/IPython/core/async_helpers.py\", line 78, in _pseudo_sync_runner\n",
            "    coro.send(None)\n",
            "  File \"/usr/local/lib/python3.10/dist-packages/IPython/core/interactiveshell.py\", line 3257, in run_cell_async\n",
            "    has_raised = await self.run_ast_nodes(code_ast.body, cell_name,\n",
            "  File \"/usr/local/lib/python3.10/dist-packages/IPython/core/interactiveshell.py\", line 3492, in run_ast_nodes\n",
            "    self.showtraceback()\n",
            "  File \"/usr/local/lib/python3.10/dist-packages/IPython/core/interactiveshell.py\", line 2101, in showtraceback\n",
            "    stb = self.InteractiveTB.structured_traceback(etype,\n",
            "  File \"/usr/local/lib/python3.10/dist-packages/IPython/core/ultratb.py\", line 1367, in structured_traceback\n",
            "    return FormattedTB.structured_traceback(\n",
            "  File \"/usr/local/lib/python3.10/dist-packages/IPython/core/ultratb.py\", line 1267, in structured_traceback\n",
            "    return VerboseTB.structured_traceback(\n",
            "  File \"/usr/local/lib/python3.10/dist-packages/IPython/core/ultratb.py\", line 1142, in structured_traceback\n",
            "    formatted_exceptions += self.format_exception_as_a_whole(etype, evalue, etb, lines_of_context,\n",
            "  File \"/usr/local/lib/python3.10/dist-packages/IPython/core/ultratb.py\", line 1082, in format_exception_as_a_whole\n",
            "    last_unique, recursion_repeat = find_recursion(orig_etype, evalue, records)\n",
            "  File \"/usr/local/lib/python3.10/dist-packages/IPython/core/ultratb.py\", line 382, in find_recursion\n",
            "    return len(records), 0\n",
            "TypeError: object of type 'NoneType' has no len()\n",
            "\n",
            "During handling of the above exception, another exception occurred:\n",
            "\n",
            "Traceback (most recent call last):\n",
            "  File \"/usr/local/lib/python3.10/dist-packages/IPython/core/interactiveshell.py\", line 2099, in showtraceback\n",
            "    stb = value._render_traceback_()\n",
            "AttributeError: 'TypeError' object has no attribute '_render_traceback_'\n",
            "\n",
            "During handling of the above exception, another exception occurred:\n",
            "\n",
            "Traceback (most recent call last):\n",
            "  File \"/usr/local/lib/python3.10/dist-packages/IPython/core/ultratb.py\", line 1101, in get_records\n",
            "    return _fixed_getinnerframes(etb, number_of_lines_of_context, tb_offset)\n",
            "  File \"/usr/local/lib/python3.10/dist-packages/IPython/core/ultratb.py\", line 248, in wrapped\n",
            "    return f(*args, **kwargs)\n",
            "  File \"/usr/local/lib/python3.10/dist-packages/IPython/core/ultratb.py\", line 281, in _fixed_getinnerframes\n",
            "    records = fix_frame_records_filenames(inspect.getinnerframes(etb, context))\n",
            "  File \"/usr/lib/python3.10/inspect.py\", line 1662, in getinnerframes\n",
            "    frameinfo = (tb.tb_frame,) + getframeinfo(tb, context)\n",
            "  File \"/usr/lib/python3.10/inspect.py\", line 1620, in getframeinfo\n",
            "    filename = getsourcefile(frame) or getfile(frame)\n",
            "  File \"/usr/lib/python3.10/inspect.py\", line 829, in getsourcefile\n",
            "    module = getmodule(object, filename)\n",
            "  File \"/usr/lib/python3.10/inspect.py\", line 861, in getmodule\n",
            "    file = getabsfile(object, _filename)\n",
            "  File \"/usr/lib/python3.10/inspect.py\", line 845, in getabsfile\n",
            "    return os.path.normcase(os.path.abspath(_filename))\n",
            "  File \"/usr/lib/python3.10/posixpath.py\", line 384, in abspath\n",
            "    cwd = os.getcwd()\n",
            "OSError: [Errno 107] Transport endpoint is not connected\n"
          ]
        }
      ]
    },
    {
      "cell_type": "code",
      "source": [
        "test['preds']=test['preds'].map({'Normal':0, 'Phising':1})\n",
        "test.head()"
      ],
      "metadata": {
        "colab": {
          "base_uri": "https://localhost:8080/"
        },
        "id": "Z-KE5HDfXqR9",
        "outputId": "06a57a31-d6ee-4707-d2ad-f9964590a002"
      },
      "execution_count": null,
      "outputs": [
        {
          "output_type": "stream",
          "name": "stderr",
          "text": [
            "ERROR:root:Internal Python error in the inspect module.\n",
            "Below is the traceback from this internal error.\n",
            "\n",
            "ERROR:root:Internal Python error in the inspect module.\n",
            "Below is the traceback from this internal error.\n",
            "\n",
            "ERROR:root:Internal Python error in the inspect module.\n",
            "Below is the traceback from this internal error.\n",
            "\n"
          ]
        },
        {
          "output_type": "stream",
          "name": "stdout",
          "text": [
            "Traceback (most recent call last):\n",
            "  File \"/usr/local/lib/python3.10/dist-packages/pandas/core/indexes/base.py\", line 3802, in get_loc\n",
            "    return self._engine.get_loc(casted_key)\n",
            "  File \"pandas/_libs/index.pyx\", line 138, in pandas._libs.index.IndexEngine.get_loc\n",
            "  File \"pandas/_libs/index.pyx\", line 165, in pandas._libs.index.IndexEngine.get_loc\n",
            "  File \"pandas/_libs/hashtable_class_helper.pxi\", line 5745, in pandas._libs.hashtable.PyObjectHashTable.get_item\n",
            "  File \"pandas/_libs/hashtable_class_helper.pxi\", line 5753, in pandas._libs.hashtable.PyObjectHashTable.get_item\n",
            "KeyError: 'preds'\n",
            "\n",
            "The above exception was the direct cause of the following exception:\n",
            "\n",
            "Traceback (most recent call last):\n",
            "  File \"/usr/local/lib/python3.10/dist-packages/IPython/core/interactiveshell.py\", line 3553, in run_code\n",
            "    exec(code_obj, self.user_global_ns, self.user_ns)\n",
            "  File \"<ipython-input-27-6635fbb54120>\", line 1, in <cell line: 1>\n",
            "    test['preds']=test['preds'].map({'Normal':0, 'Phising':1})\n",
            "  File \"/usr/local/lib/python3.10/dist-packages/pandas/core/frame.py\", line 3807, in __getitem__\n",
            "    indexer = self.columns.get_loc(key)\n",
            "  File \"/usr/local/lib/python3.10/dist-packages/pandas/core/indexes/base.py\", line 3804, in get_loc\n",
            "    raise KeyError(key) from err\n",
            "KeyError: 'preds'\n",
            "\n",
            "During handling of the above exception, another exception occurred:\n",
            "\n",
            "Traceback (most recent call last):\n",
            "  File \"/usr/local/lib/python3.10/dist-packages/IPython/core/interactiveshell.py\", line 2099, in showtraceback\n",
            "    stb = value._render_traceback_()\n",
            "AttributeError: 'KeyError' object has no attribute '_render_traceback_'\n",
            "\n",
            "During handling of the above exception, another exception occurred:\n",
            "\n",
            "Traceback (most recent call last):\n",
            "  File \"/usr/local/lib/python3.10/dist-packages/IPython/core/ultratb.py\", line 1101, in get_records\n",
            "    return _fixed_getinnerframes(etb, number_of_lines_of_context, tb_offset)\n",
            "  File \"/usr/local/lib/python3.10/dist-packages/IPython/core/ultratb.py\", line 248, in wrapped\n",
            "    return f(*args, **kwargs)\n",
            "  File \"/usr/local/lib/python3.10/dist-packages/IPython/core/ultratb.py\", line 281, in _fixed_getinnerframes\n",
            "    records = fix_frame_records_filenames(inspect.getinnerframes(etb, context))\n",
            "  File \"/usr/lib/python3.10/inspect.py\", line 1662, in getinnerframes\n",
            "    frameinfo = (tb.tb_frame,) + getframeinfo(tb, context)\n",
            "  File \"/usr/lib/python3.10/inspect.py\", line 1620, in getframeinfo\n",
            "    filename = getsourcefile(frame) or getfile(frame)\n",
            "  File \"/usr/lib/python3.10/inspect.py\", line 829, in getsourcefile\n",
            "    module = getmodule(object, filename)\n",
            "  File \"/usr/lib/python3.10/inspect.py\", line 861, in getmodule\n",
            "    file = getabsfile(object, _filename)\n",
            "  File \"/usr/lib/python3.10/inspect.py\", line 845, in getabsfile\n",
            "    return os.path.normcase(os.path.abspath(_filename))\n",
            "  File \"/usr/lib/python3.10/posixpath.py\", line 384, in abspath\n",
            "    cwd = os.getcwd()\n",
            "OSError: [Errno 107] Transport endpoint is not connected\n",
            "Traceback (most recent call last):\n",
            "  File \"/usr/local/lib/python3.10/dist-packages/pandas/core/indexes/base.py\", line 3802, in get_loc\n",
            "    return self._engine.get_loc(casted_key)\n",
            "  File \"pandas/_libs/index.pyx\", line 138, in pandas._libs.index.IndexEngine.get_loc\n",
            "  File \"pandas/_libs/index.pyx\", line 165, in pandas._libs.index.IndexEngine.get_loc\n",
            "  File \"pandas/_libs/hashtable_class_helper.pxi\", line 5745, in pandas._libs.hashtable.PyObjectHashTable.get_item\n",
            "  File \"pandas/_libs/hashtable_class_helper.pxi\", line 5753, in pandas._libs.hashtable.PyObjectHashTable.get_item\n",
            "KeyError: 'preds'\n",
            "\n",
            "The above exception was the direct cause of the following exception:\n",
            "\n",
            "Traceback (most recent call last):\n",
            "  File \"/usr/local/lib/python3.10/dist-packages/IPython/core/interactiveshell.py\", line 3553, in run_code\n",
            "    exec(code_obj, self.user_global_ns, self.user_ns)\n",
            "  File \"<ipython-input-27-6635fbb54120>\", line 1, in <cell line: 1>\n",
            "    test['preds']=test['preds'].map({'Normal':0, 'Phising':1})\n",
            "  File \"/usr/local/lib/python3.10/dist-packages/pandas/core/frame.py\", line 3807, in __getitem__\n",
            "    indexer = self.columns.get_loc(key)\n",
            "  File \"/usr/local/lib/python3.10/dist-packages/pandas/core/indexes/base.py\", line 3804, in get_loc\n",
            "    raise KeyError(key) from err\n",
            "KeyError: 'preds'\n",
            "\n",
            "During handling of the above exception, another exception occurred:\n",
            "\n",
            "Traceback (most recent call last):\n",
            "  File \"/usr/local/lib/python3.10/dist-packages/IPython/core/interactiveshell.py\", line 2099, in showtraceback\n",
            "    stb = value._render_traceback_()\n",
            "AttributeError: 'KeyError' object has no attribute '_render_traceback_'\n",
            "\n",
            "During handling of the above exception, another exception occurred:\n",
            "\n",
            "Traceback (most recent call last):\n",
            "  File \"/usr/local/lib/python3.10/dist-packages/IPython/core/interactiveshell.py\", line 3473, in run_ast_nodes\n",
            "    if (await self.run_code(code, result,  async_=asy)):\n",
            "  File \"/usr/local/lib/python3.10/dist-packages/IPython/core/interactiveshell.py\", line 3575, in run_code\n",
            "    self.showtraceback(running_compiled_code=True)\n",
            "  File \"/usr/local/lib/python3.10/dist-packages/IPython/core/interactiveshell.py\", line 2101, in showtraceback\n",
            "    stb = self.InteractiveTB.structured_traceback(etype,\n",
            "  File \"/usr/local/lib/python3.10/dist-packages/IPython/core/ultratb.py\", line 1367, in structured_traceback\n",
            "    return FormattedTB.structured_traceback(\n",
            "  File \"/usr/local/lib/python3.10/dist-packages/IPython/core/ultratb.py\", line 1267, in structured_traceback\n",
            "    return VerboseTB.structured_traceback(\n",
            "  File \"/usr/local/lib/python3.10/dist-packages/IPython/core/ultratb.py\", line 1124, in structured_traceback\n",
            "    formatted_exception = self.format_exception_as_a_whole(etype, evalue, etb, number_of_lines_of_context,\n",
            "  File \"/usr/local/lib/python3.10/dist-packages/IPython/core/ultratb.py\", line 1082, in format_exception_as_a_whole\n",
            "    last_unique, recursion_repeat = find_recursion(orig_etype, evalue, records)\n",
            "  File \"/usr/local/lib/python3.10/dist-packages/IPython/core/ultratb.py\", line 382, in find_recursion\n",
            "    return len(records), 0\n",
            "TypeError: object of type 'NoneType' has no len()\n",
            "\n",
            "During handling of the above exception, another exception occurred:\n",
            "\n",
            "Traceback (most recent call last):\n",
            "  File \"/usr/local/lib/python3.10/dist-packages/IPython/core/interactiveshell.py\", line 2099, in showtraceback\n",
            "    stb = value._render_traceback_()\n",
            "AttributeError: 'TypeError' object has no attribute '_render_traceback_'\n",
            "\n",
            "During handling of the above exception, another exception occurred:\n",
            "\n",
            "Traceback (most recent call last):\n",
            "  File \"/usr/local/lib/python3.10/dist-packages/IPython/core/ultratb.py\", line 1101, in get_records\n",
            "    return _fixed_getinnerframes(etb, number_of_lines_of_context, tb_offset)\n",
            "  File \"/usr/local/lib/python3.10/dist-packages/IPython/core/ultratb.py\", line 248, in wrapped\n",
            "    return f(*args, **kwargs)\n",
            "  File \"/usr/local/lib/python3.10/dist-packages/IPython/core/ultratb.py\", line 281, in _fixed_getinnerframes\n",
            "    records = fix_frame_records_filenames(inspect.getinnerframes(etb, context))\n",
            "  File \"/usr/lib/python3.10/inspect.py\", line 1662, in getinnerframes\n",
            "    frameinfo = (tb.tb_frame,) + getframeinfo(tb, context)\n",
            "  File \"/usr/lib/python3.10/inspect.py\", line 1620, in getframeinfo\n",
            "    filename = getsourcefile(frame) or getfile(frame)\n",
            "  File \"/usr/lib/python3.10/inspect.py\", line 829, in getsourcefile\n",
            "    module = getmodule(object, filename)\n",
            "  File \"/usr/lib/python3.10/inspect.py\", line 861, in getmodule\n",
            "    file = getabsfile(object, _filename)\n",
            "  File \"/usr/lib/python3.10/inspect.py\", line 845, in getabsfile\n",
            "    return os.path.normcase(os.path.abspath(_filename))\n",
            "  File \"/usr/lib/python3.10/posixpath.py\", line 384, in abspath\n",
            "    cwd = os.getcwd()\n",
            "OSError: [Errno 107] Transport endpoint is not connected\n",
            "Traceback (most recent call last):\n",
            "  File \"/usr/local/lib/python3.10/dist-packages/pandas/core/indexes/base.py\", line 3802, in get_loc\n",
            "    return self._engine.get_loc(casted_key)\n",
            "  File \"pandas/_libs/index.pyx\", line 138, in pandas._libs.index.IndexEngine.get_loc\n",
            "  File \"pandas/_libs/index.pyx\", line 165, in pandas._libs.index.IndexEngine.get_loc\n",
            "  File \"pandas/_libs/hashtable_class_helper.pxi\", line 5745, in pandas._libs.hashtable.PyObjectHashTable.get_item\n",
            "  File \"pandas/_libs/hashtable_class_helper.pxi\", line 5753, in pandas._libs.hashtable.PyObjectHashTable.get_item\n",
            "KeyError: 'preds'\n",
            "\n",
            "The above exception was the direct cause of the following exception:\n",
            "\n",
            "Traceback (most recent call last):\n",
            "  File \"/usr/local/lib/python3.10/dist-packages/IPython/core/interactiveshell.py\", line 3553, in run_code\n",
            "    exec(code_obj, self.user_global_ns, self.user_ns)\n",
            "  File \"<ipython-input-27-6635fbb54120>\", line 1, in <cell line: 1>\n",
            "    test['preds']=test['preds'].map({'Normal':0, 'Phising':1})\n",
            "  File \"/usr/local/lib/python3.10/dist-packages/pandas/core/frame.py\", line 3807, in __getitem__\n",
            "    indexer = self.columns.get_loc(key)\n",
            "  File \"/usr/local/lib/python3.10/dist-packages/pandas/core/indexes/base.py\", line 3804, in get_loc\n",
            "    raise KeyError(key) from err\n",
            "KeyError: 'preds'\n",
            "\n",
            "During handling of the above exception, another exception occurred:\n",
            "\n",
            "Traceback (most recent call last):\n",
            "  File \"/usr/local/lib/python3.10/dist-packages/IPython/core/interactiveshell.py\", line 2099, in showtraceback\n",
            "    stb = value._render_traceback_()\n",
            "AttributeError: 'KeyError' object has no attribute '_render_traceback_'\n",
            "\n",
            "During handling of the above exception, another exception occurred:\n",
            "\n",
            "Traceback (most recent call last):\n",
            "  File \"/usr/local/lib/python3.10/dist-packages/IPython/core/interactiveshell.py\", line 3473, in run_ast_nodes\n",
            "    if (await self.run_code(code, result,  async_=asy)):\n",
            "  File \"/usr/local/lib/python3.10/dist-packages/IPython/core/interactiveshell.py\", line 3575, in run_code\n",
            "    self.showtraceback(running_compiled_code=True)\n",
            "  File \"/usr/local/lib/python3.10/dist-packages/IPython/core/interactiveshell.py\", line 2101, in showtraceback\n",
            "    stb = self.InteractiveTB.structured_traceback(etype,\n",
            "  File \"/usr/local/lib/python3.10/dist-packages/IPython/core/ultratb.py\", line 1367, in structured_traceback\n",
            "    return FormattedTB.structured_traceback(\n",
            "  File \"/usr/local/lib/python3.10/dist-packages/IPython/core/ultratb.py\", line 1267, in structured_traceback\n",
            "    return VerboseTB.structured_traceback(\n",
            "  File \"/usr/local/lib/python3.10/dist-packages/IPython/core/ultratb.py\", line 1124, in structured_traceback\n",
            "    formatted_exception = self.format_exception_as_a_whole(etype, evalue, etb, number_of_lines_of_context,\n",
            "  File \"/usr/local/lib/python3.10/dist-packages/IPython/core/ultratb.py\", line 1082, in format_exception_as_a_whole\n",
            "    last_unique, recursion_repeat = find_recursion(orig_etype, evalue, records)\n",
            "  File \"/usr/local/lib/python3.10/dist-packages/IPython/core/ultratb.py\", line 382, in find_recursion\n",
            "    return len(records), 0\n",
            "TypeError: object of type 'NoneType' has no len()\n",
            "\n",
            "During handling of the above exception, another exception occurred:\n",
            "\n",
            "Traceback (most recent call last):\n",
            "  File \"/usr/local/lib/python3.10/dist-packages/IPython/core/interactiveshell.py\", line 2099, in showtraceback\n",
            "    stb = value._render_traceback_()\n",
            "AttributeError: 'TypeError' object has no attribute '_render_traceback_'\n",
            "\n",
            "During handling of the above exception, another exception occurred:\n",
            "\n",
            "Traceback (most recent call last):\n",
            "  File \"/usr/local/lib/python3.10/dist-packages/IPython/core/interactiveshell.py\", line 3030, in _run_cell\n",
            "    return runner(coro)\n",
            "  File \"/usr/local/lib/python3.10/dist-packages/IPython/core/async_helpers.py\", line 78, in _pseudo_sync_runner\n",
            "    coro.send(None)\n",
            "  File \"/usr/local/lib/python3.10/dist-packages/IPython/core/interactiveshell.py\", line 3257, in run_cell_async\n",
            "    has_raised = await self.run_ast_nodes(code_ast.body, cell_name,\n",
            "  File \"/usr/local/lib/python3.10/dist-packages/IPython/core/interactiveshell.py\", line 3492, in run_ast_nodes\n",
            "    self.showtraceback()\n",
            "  File \"/usr/local/lib/python3.10/dist-packages/IPython/core/interactiveshell.py\", line 2101, in showtraceback\n",
            "    stb = self.InteractiveTB.structured_traceback(etype,\n",
            "  File \"/usr/local/lib/python3.10/dist-packages/IPython/core/ultratb.py\", line 1367, in structured_traceback\n",
            "    return FormattedTB.structured_traceback(\n",
            "  File \"/usr/local/lib/python3.10/dist-packages/IPython/core/ultratb.py\", line 1267, in structured_traceback\n",
            "    return VerboseTB.structured_traceback(\n",
            "  File \"/usr/local/lib/python3.10/dist-packages/IPython/core/ultratb.py\", line 1142, in structured_traceback\n",
            "    formatted_exceptions += self.format_exception_as_a_whole(etype, evalue, etb, lines_of_context,\n",
            "  File \"/usr/local/lib/python3.10/dist-packages/IPython/core/ultratb.py\", line 1082, in format_exception_as_a_whole\n",
            "    last_unique, recursion_repeat = find_recursion(orig_etype, evalue, records)\n",
            "  File \"/usr/local/lib/python3.10/dist-packages/IPython/core/ultratb.py\", line 382, in find_recursion\n",
            "    return len(records), 0\n",
            "TypeError: object of type 'NoneType' has no len()\n",
            "\n",
            "During handling of the above exception, another exception occurred:\n",
            "\n",
            "Traceback (most recent call last):\n",
            "  File \"/usr/local/lib/python3.10/dist-packages/IPython/core/interactiveshell.py\", line 2099, in showtraceback\n",
            "    stb = value._render_traceback_()\n",
            "AttributeError: 'TypeError' object has no attribute '_render_traceback_'\n",
            "\n",
            "During handling of the above exception, another exception occurred:\n",
            "\n",
            "Traceback (most recent call last):\n",
            "  File \"/usr/local/lib/python3.10/dist-packages/IPython/core/ultratb.py\", line 1101, in get_records\n",
            "    return _fixed_getinnerframes(etb, number_of_lines_of_context, tb_offset)\n",
            "  File \"/usr/local/lib/python3.10/dist-packages/IPython/core/ultratb.py\", line 248, in wrapped\n",
            "    return f(*args, **kwargs)\n",
            "  File \"/usr/local/lib/python3.10/dist-packages/IPython/core/ultratb.py\", line 281, in _fixed_getinnerframes\n",
            "    records = fix_frame_records_filenames(inspect.getinnerframes(etb, context))\n",
            "  File \"/usr/lib/python3.10/inspect.py\", line 1662, in getinnerframes\n",
            "    frameinfo = (tb.tb_frame,) + getframeinfo(tb, context)\n",
            "  File \"/usr/lib/python3.10/inspect.py\", line 1620, in getframeinfo\n",
            "    filename = getsourcefile(frame) or getfile(frame)\n",
            "  File \"/usr/lib/python3.10/inspect.py\", line 829, in getsourcefile\n",
            "    module = getmodule(object, filename)\n",
            "  File \"/usr/lib/python3.10/inspect.py\", line 861, in getmodule\n",
            "    file = getabsfile(object, _filename)\n",
            "  File \"/usr/lib/python3.10/inspect.py\", line 845, in getabsfile\n",
            "    return os.path.normcase(os.path.abspath(_filename))\n",
            "  File \"/usr/lib/python3.10/posixpath.py\", line 384, in abspath\n",
            "    cwd = os.getcwd()\n",
            "OSError: [Errno 107] Transport endpoint is not connected\n"
          ]
        }
      ]
    },
    {
      "cell_type": "code",
      "source": [
        "print('ACC:', accuracy_score(test['label'],test['preds']))\n",
        "print('F1:', f1_score(test['label'], test['preds'],average='weighted'))"
      ],
      "metadata": {
        "colab": {
          "base_uri": "https://localhost:8080/"
        },
        "id": "EcPGndHCX8nN",
        "outputId": "25caab46-6bfa-4e62-d687-05b0ef1a1225"
      },
      "execution_count": null,
      "outputs": [
        {
          "output_type": "stream",
          "name": "stderr",
          "text": [
            "ERROR:root:Internal Python error in the inspect module.\n",
            "Below is the traceback from this internal error.\n",
            "\n",
            "ERROR:root:Internal Python error in the inspect module.\n",
            "Below is the traceback from this internal error.\n",
            "\n",
            "ERROR:root:Internal Python error in the inspect module.\n",
            "Below is the traceback from this internal error.\n",
            "\n"
          ]
        },
        {
          "output_type": "stream",
          "name": "stdout",
          "text": [
            "Traceback (most recent call last):\n",
            "  File \"/usr/local/lib/python3.10/dist-packages/pandas/core/indexes/base.py\", line 3802, in get_loc\n",
            "    return self._engine.get_loc(casted_key)\n",
            "  File \"pandas/_libs/index.pyx\", line 138, in pandas._libs.index.IndexEngine.get_loc\n",
            "  File \"pandas/_libs/index.pyx\", line 165, in pandas._libs.index.IndexEngine.get_loc\n",
            "  File \"pandas/_libs/hashtable_class_helper.pxi\", line 5745, in pandas._libs.hashtable.PyObjectHashTable.get_item\n",
            "  File \"pandas/_libs/hashtable_class_helper.pxi\", line 5753, in pandas._libs.hashtable.PyObjectHashTable.get_item\n",
            "KeyError: 'preds'\n",
            "\n",
            "The above exception was the direct cause of the following exception:\n",
            "\n",
            "Traceback (most recent call last):\n",
            "  File \"/usr/local/lib/python3.10/dist-packages/IPython/core/interactiveshell.py\", line 3553, in run_code\n",
            "    exec(code_obj, self.user_global_ns, self.user_ns)\n",
            "  File \"<ipython-input-27-4ca25a233ae8>\", line 1, in <cell line: 1>\n",
            "    print('ACC:', accuracy_score(test['label'],test['preds']))\n",
            "  File \"/usr/local/lib/python3.10/dist-packages/pandas/core/frame.py\", line 3807, in __getitem__\n",
            "    indexer = self.columns.get_loc(key)\n",
            "  File \"/usr/local/lib/python3.10/dist-packages/pandas/core/indexes/base.py\", line 3804, in get_loc\n",
            "    raise KeyError(key) from err\n",
            "KeyError: 'preds'\n",
            "\n",
            "During handling of the above exception, another exception occurred:\n",
            "\n",
            "Traceback (most recent call last):\n",
            "  File \"/usr/local/lib/python3.10/dist-packages/IPython/core/interactiveshell.py\", line 2099, in showtraceback\n",
            "    stb = value._render_traceback_()\n",
            "AttributeError: 'KeyError' object has no attribute '_render_traceback_'\n",
            "\n",
            "During handling of the above exception, another exception occurred:\n",
            "\n",
            "Traceback (most recent call last):\n",
            "  File \"/usr/local/lib/python3.10/dist-packages/IPython/core/ultratb.py\", line 1101, in get_records\n",
            "    return _fixed_getinnerframes(etb, number_of_lines_of_context, tb_offset)\n",
            "  File \"/usr/local/lib/python3.10/dist-packages/IPython/core/ultratb.py\", line 248, in wrapped\n",
            "    return f(*args, **kwargs)\n",
            "  File \"/usr/local/lib/python3.10/dist-packages/IPython/core/ultratb.py\", line 281, in _fixed_getinnerframes\n",
            "    records = fix_frame_records_filenames(inspect.getinnerframes(etb, context))\n",
            "  File \"/usr/lib/python3.10/inspect.py\", line 1662, in getinnerframes\n",
            "    frameinfo = (tb.tb_frame,) + getframeinfo(tb, context)\n",
            "  File \"/usr/lib/python3.10/inspect.py\", line 1620, in getframeinfo\n",
            "    filename = getsourcefile(frame) or getfile(frame)\n",
            "  File \"/usr/lib/python3.10/inspect.py\", line 829, in getsourcefile\n",
            "    module = getmodule(object, filename)\n",
            "  File \"/usr/lib/python3.10/inspect.py\", line 861, in getmodule\n",
            "    file = getabsfile(object, _filename)\n",
            "  File \"/usr/lib/python3.10/inspect.py\", line 845, in getabsfile\n",
            "    return os.path.normcase(os.path.abspath(_filename))\n",
            "  File \"/usr/lib/python3.10/posixpath.py\", line 384, in abspath\n",
            "    cwd = os.getcwd()\n",
            "OSError: [Errno 107] Transport endpoint is not connected\n",
            "Traceback (most recent call last):\n",
            "  File \"/usr/local/lib/python3.10/dist-packages/pandas/core/indexes/base.py\", line 3802, in get_loc\n",
            "    return self._engine.get_loc(casted_key)\n",
            "  File \"pandas/_libs/index.pyx\", line 138, in pandas._libs.index.IndexEngine.get_loc\n",
            "  File \"pandas/_libs/index.pyx\", line 165, in pandas._libs.index.IndexEngine.get_loc\n",
            "  File \"pandas/_libs/hashtable_class_helper.pxi\", line 5745, in pandas._libs.hashtable.PyObjectHashTable.get_item\n",
            "  File \"pandas/_libs/hashtable_class_helper.pxi\", line 5753, in pandas._libs.hashtable.PyObjectHashTable.get_item\n",
            "KeyError: 'preds'\n",
            "\n",
            "The above exception was the direct cause of the following exception:\n",
            "\n",
            "Traceback (most recent call last):\n",
            "  File \"/usr/local/lib/python3.10/dist-packages/IPython/core/interactiveshell.py\", line 3553, in run_code\n",
            "    exec(code_obj, self.user_global_ns, self.user_ns)\n",
            "  File \"<ipython-input-27-4ca25a233ae8>\", line 1, in <cell line: 1>\n",
            "    print('ACC:', accuracy_score(test['label'],test['preds']))\n",
            "  File \"/usr/local/lib/python3.10/dist-packages/pandas/core/frame.py\", line 3807, in __getitem__\n",
            "    indexer = self.columns.get_loc(key)\n",
            "  File \"/usr/local/lib/python3.10/dist-packages/pandas/core/indexes/base.py\", line 3804, in get_loc\n",
            "    raise KeyError(key) from err\n",
            "KeyError: 'preds'\n",
            "\n",
            "During handling of the above exception, another exception occurred:\n",
            "\n",
            "Traceback (most recent call last):\n",
            "  File \"/usr/local/lib/python3.10/dist-packages/IPython/core/interactiveshell.py\", line 2099, in showtraceback\n",
            "    stb = value._render_traceback_()\n",
            "AttributeError: 'KeyError' object has no attribute '_render_traceback_'\n",
            "\n",
            "During handling of the above exception, another exception occurred:\n",
            "\n",
            "Traceback (most recent call last):\n",
            "  File \"/usr/local/lib/python3.10/dist-packages/IPython/core/interactiveshell.py\", line 3473, in run_ast_nodes\n",
            "    if (await self.run_code(code, result,  async_=asy)):\n",
            "  File \"/usr/local/lib/python3.10/dist-packages/IPython/core/interactiveshell.py\", line 3575, in run_code\n",
            "    self.showtraceback(running_compiled_code=True)\n",
            "  File \"/usr/local/lib/python3.10/dist-packages/IPython/core/interactiveshell.py\", line 2101, in showtraceback\n",
            "    stb = self.InteractiveTB.structured_traceback(etype,\n",
            "  File \"/usr/local/lib/python3.10/dist-packages/IPython/core/ultratb.py\", line 1367, in structured_traceback\n",
            "    return FormattedTB.structured_traceback(\n",
            "  File \"/usr/local/lib/python3.10/dist-packages/IPython/core/ultratb.py\", line 1267, in structured_traceback\n",
            "    return VerboseTB.structured_traceback(\n",
            "  File \"/usr/local/lib/python3.10/dist-packages/IPython/core/ultratb.py\", line 1124, in structured_traceback\n",
            "    formatted_exception = self.format_exception_as_a_whole(etype, evalue, etb, number_of_lines_of_context,\n",
            "  File \"/usr/local/lib/python3.10/dist-packages/IPython/core/ultratb.py\", line 1082, in format_exception_as_a_whole\n",
            "    last_unique, recursion_repeat = find_recursion(orig_etype, evalue, records)\n",
            "  File \"/usr/local/lib/python3.10/dist-packages/IPython/core/ultratb.py\", line 382, in find_recursion\n",
            "    return len(records), 0\n",
            "TypeError: object of type 'NoneType' has no len()\n",
            "\n",
            "During handling of the above exception, another exception occurred:\n",
            "\n",
            "Traceback (most recent call last):\n",
            "  File \"/usr/local/lib/python3.10/dist-packages/IPython/core/interactiveshell.py\", line 2099, in showtraceback\n",
            "    stb = value._render_traceback_()\n",
            "AttributeError: 'TypeError' object has no attribute '_render_traceback_'\n",
            "\n",
            "During handling of the above exception, another exception occurred:\n",
            "\n",
            "Traceback (most recent call last):\n",
            "  File \"/usr/local/lib/python3.10/dist-packages/IPython/core/ultratb.py\", line 1101, in get_records\n",
            "    return _fixed_getinnerframes(etb, number_of_lines_of_context, tb_offset)\n",
            "  File \"/usr/local/lib/python3.10/dist-packages/IPython/core/ultratb.py\", line 248, in wrapped\n",
            "    return f(*args, **kwargs)\n",
            "  File \"/usr/local/lib/python3.10/dist-packages/IPython/core/ultratb.py\", line 281, in _fixed_getinnerframes\n",
            "    records = fix_frame_records_filenames(inspect.getinnerframes(etb, context))\n",
            "  File \"/usr/lib/python3.10/inspect.py\", line 1662, in getinnerframes\n",
            "    frameinfo = (tb.tb_frame,) + getframeinfo(tb, context)\n",
            "  File \"/usr/lib/python3.10/inspect.py\", line 1620, in getframeinfo\n",
            "    filename = getsourcefile(frame) or getfile(frame)\n",
            "  File \"/usr/lib/python3.10/inspect.py\", line 829, in getsourcefile\n",
            "    module = getmodule(object, filename)\n",
            "  File \"/usr/lib/python3.10/inspect.py\", line 861, in getmodule\n",
            "    file = getabsfile(object, _filename)\n",
            "  File \"/usr/lib/python3.10/inspect.py\", line 845, in getabsfile\n",
            "    return os.path.normcase(os.path.abspath(_filename))\n",
            "  File \"/usr/lib/python3.10/posixpath.py\", line 384, in abspath\n",
            "    cwd = os.getcwd()\n",
            "OSError: [Errno 107] Transport endpoint is not connected\n",
            "Traceback (most recent call last):\n",
            "  File \"/usr/local/lib/python3.10/dist-packages/pandas/core/indexes/base.py\", line 3802, in get_loc\n",
            "    return self._engine.get_loc(casted_key)\n",
            "  File \"pandas/_libs/index.pyx\", line 138, in pandas._libs.index.IndexEngine.get_loc\n",
            "  File \"pandas/_libs/index.pyx\", line 165, in pandas._libs.index.IndexEngine.get_loc\n",
            "  File \"pandas/_libs/hashtable_class_helper.pxi\", line 5745, in pandas._libs.hashtable.PyObjectHashTable.get_item\n",
            "  File \"pandas/_libs/hashtable_class_helper.pxi\", line 5753, in pandas._libs.hashtable.PyObjectHashTable.get_item\n",
            "KeyError: 'preds'\n",
            "\n",
            "The above exception was the direct cause of the following exception:\n",
            "\n",
            "Traceback (most recent call last):\n",
            "  File \"/usr/local/lib/python3.10/dist-packages/IPython/core/interactiveshell.py\", line 3553, in run_code\n",
            "    exec(code_obj, self.user_global_ns, self.user_ns)\n",
            "  File \"<ipython-input-27-4ca25a233ae8>\", line 1, in <cell line: 1>\n",
            "    print('ACC:', accuracy_score(test['label'],test['preds']))\n",
            "  File \"/usr/local/lib/python3.10/dist-packages/pandas/core/frame.py\", line 3807, in __getitem__\n",
            "    indexer = self.columns.get_loc(key)\n",
            "  File \"/usr/local/lib/python3.10/dist-packages/pandas/core/indexes/base.py\", line 3804, in get_loc\n",
            "    raise KeyError(key) from err\n",
            "KeyError: 'preds'\n",
            "\n",
            "During handling of the above exception, another exception occurred:\n",
            "\n",
            "Traceback (most recent call last):\n",
            "  File \"/usr/local/lib/python3.10/dist-packages/IPython/core/interactiveshell.py\", line 2099, in showtraceback\n",
            "    stb = value._render_traceback_()\n",
            "AttributeError: 'KeyError' object has no attribute '_render_traceback_'\n",
            "\n",
            "During handling of the above exception, another exception occurred:\n",
            "\n",
            "Traceback (most recent call last):\n",
            "  File \"/usr/local/lib/python3.10/dist-packages/IPython/core/interactiveshell.py\", line 3473, in run_ast_nodes\n",
            "    if (await self.run_code(code, result,  async_=asy)):\n",
            "  File \"/usr/local/lib/python3.10/dist-packages/IPython/core/interactiveshell.py\", line 3575, in run_code\n",
            "    self.showtraceback(running_compiled_code=True)\n",
            "  File \"/usr/local/lib/python3.10/dist-packages/IPython/core/interactiveshell.py\", line 2101, in showtraceback\n",
            "    stb = self.InteractiveTB.structured_traceback(etype,\n",
            "  File \"/usr/local/lib/python3.10/dist-packages/IPython/core/ultratb.py\", line 1367, in structured_traceback\n",
            "    return FormattedTB.structured_traceback(\n",
            "  File \"/usr/local/lib/python3.10/dist-packages/IPython/core/ultratb.py\", line 1267, in structured_traceback\n",
            "    return VerboseTB.structured_traceback(\n",
            "  File \"/usr/local/lib/python3.10/dist-packages/IPython/core/ultratb.py\", line 1124, in structured_traceback\n",
            "    formatted_exception = self.format_exception_as_a_whole(etype, evalue, etb, number_of_lines_of_context,\n",
            "  File \"/usr/local/lib/python3.10/dist-packages/IPython/core/ultratb.py\", line 1082, in format_exception_as_a_whole\n",
            "    last_unique, recursion_repeat = find_recursion(orig_etype, evalue, records)\n",
            "  File \"/usr/local/lib/python3.10/dist-packages/IPython/core/ultratb.py\", line 382, in find_recursion\n",
            "    return len(records), 0\n",
            "TypeError: object of type 'NoneType' has no len()\n",
            "\n",
            "During handling of the above exception, another exception occurred:\n",
            "\n",
            "Traceback (most recent call last):\n",
            "  File \"/usr/local/lib/python3.10/dist-packages/IPython/core/interactiveshell.py\", line 2099, in showtraceback\n",
            "    stb = value._render_traceback_()\n",
            "AttributeError: 'TypeError' object has no attribute '_render_traceback_'\n",
            "\n",
            "During handling of the above exception, another exception occurred:\n",
            "\n",
            "Traceback (most recent call last):\n",
            "  File \"/usr/local/lib/python3.10/dist-packages/IPython/core/interactiveshell.py\", line 3030, in _run_cell\n",
            "    return runner(coro)\n",
            "  File \"/usr/local/lib/python3.10/dist-packages/IPython/core/async_helpers.py\", line 78, in _pseudo_sync_runner\n",
            "    coro.send(None)\n",
            "  File \"/usr/local/lib/python3.10/dist-packages/IPython/core/interactiveshell.py\", line 3257, in run_cell_async\n",
            "    has_raised = await self.run_ast_nodes(code_ast.body, cell_name,\n",
            "  File \"/usr/local/lib/python3.10/dist-packages/IPython/core/interactiveshell.py\", line 3492, in run_ast_nodes\n",
            "    self.showtraceback()\n",
            "  File \"/usr/local/lib/python3.10/dist-packages/IPython/core/interactiveshell.py\", line 2101, in showtraceback\n",
            "    stb = self.InteractiveTB.structured_traceback(etype,\n",
            "  File \"/usr/local/lib/python3.10/dist-packages/IPython/core/ultratb.py\", line 1367, in structured_traceback\n",
            "    return FormattedTB.structured_traceback(\n",
            "  File \"/usr/local/lib/python3.10/dist-packages/IPython/core/ultratb.py\", line 1267, in structured_traceback\n",
            "    return VerboseTB.structured_traceback(\n",
            "  File \"/usr/local/lib/python3.10/dist-packages/IPython/core/ultratb.py\", line 1142, in structured_traceback\n",
            "    formatted_exceptions += self.format_exception_as_a_whole(etype, evalue, etb, lines_of_context,\n",
            "  File \"/usr/local/lib/python3.10/dist-packages/IPython/core/ultratb.py\", line 1082, in format_exception_as_a_whole\n",
            "    last_unique, recursion_repeat = find_recursion(orig_etype, evalue, records)\n",
            "  File \"/usr/local/lib/python3.10/dist-packages/IPython/core/ultratb.py\", line 382, in find_recursion\n",
            "    return len(records), 0\n",
            "TypeError: object of type 'NoneType' has no len()\n",
            "\n",
            "During handling of the above exception, another exception occurred:\n",
            "\n",
            "Traceback (most recent call last):\n",
            "  File \"/usr/local/lib/python3.10/dist-packages/IPython/core/interactiveshell.py\", line 2099, in showtraceback\n",
            "    stb = value._render_traceback_()\n",
            "AttributeError: 'TypeError' object has no attribute '_render_traceback_'\n",
            "\n",
            "During handling of the above exception, another exception occurred:\n",
            "\n",
            "Traceback (most recent call last):\n",
            "  File \"/usr/local/lib/python3.10/dist-packages/IPython/core/ultratb.py\", line 1101, in get_records\n",
            "    return _fixed_getinnerframes(etb, number_of_lines_of_context, tb_offset)\n",
            "  File \"/usr/local/lib/python3.10/dist-packages/IPython/core/ultratb.py\", line 248, in wrapped\n",
            "    return f(*args, **kwargs)\n",
            "  File \"/usr/local/lib/python3.10/dist-packages/IPython/core/ultratb.py\", line 281, in _fixed_getinnerframes\n",
            "    records = fix_frame_records_filenames(inspect.getinnerframes(etb, context))\n",
            "  File \"/usr/lib/python3.10/inspect.py\", line 1662, in getinnerframes\n",
            "    frameinfo = (tb.tb_frame,) + getframeinfo(tb, context)\n",
            "  File \"/usr/lib/python3.10/inspect.py\", line 1620, in getframeinfo\n",
            "    filename = getsourcefile(frame) or getfile(frame)\n",
            "  File \"/usr/lib/python3.10/inspect.py\", line 829, in getsourcefile\n",
            "    module = getmodule(object, filename)\n",
            "  File \"/usr/lib/python3.10/inspect.py\", line 861, in getmodule\n",
            "    file = getabsfile(object, _filename)\n",
            "  File \"/usr/lib/python3.10/inspect.py\", line 845, in getabsfile\n",
            "    return os.path.normcase(os.path.abspath(_filename))\n",
            "  File \"/usr/lib/python3.10/posixpath.py\", line 384, in abspath\n",
            "    cwd = os.getcwd()\n",
            "OSError: [Errno 107] Transport endpoint is not connected\n"
          ]
        }
      ]
    },
    {
      "cell_type": "code",
      "source": [
        "true_test=test[test['label']==1]\n",
        "print('TP-Phising:', ((true_test['label']==true_test['preds']).sum()/len(true_test)))"
      ],
      "metadata": {
        "colab": {
          "base_uri": "https://localhost:8080/"
        },
        "id": "HL8IXX42Xy7t",
        "outputId": "f008b4fa-8d4e-4e23-c9f7-9db8a80b179a"
      },
      "execution_count": null,
      "outputs": [
        {
          "output_type": "stream",
          "name": "stderr",
          "text": [
            "ERROR:root:Internal Python error in the inspect module.\n",
            "Below is the traceback from this internal error.\n",
            "\n",
            "ERROR:root:Internal Python error in the inspect module.\n",
            "Below is the traceback from this internal error.\n",
            "\n",
            "ERROR:root:Internal Python error in the inspect module.\n",
            "Below is the traceback from this internal error.\n",
            "\n"
          ]
        },
        {
          "output_type": "stream",
          "name": "stdout",
          "text": [
            "Traceback (most recent call last):\n",
            "  File \"/usr/local/lib/python3.10/dist-packages/pandas/core/indexes/base.py\", line 3802, in get_loc\n",
            "    return self._engine.get_loc(casted_key)\n",
            "  File \"pandas/_libs/index.pyx\", line 138, in pandas._libs.index.IndexEngine.get_loc\n",
            "  File \"pandas/_libs/index.pyx\", line 165, in pandas._libs.index.IndexEngine.get_loc\n",
            "  File \"pandas/_libs/hashtable_class_helper.pxi\", line 5745, in pandas._libs.hashtable.PyObjectHashTable.get_item\n",
            "  File \"pandas/_libs/hashtable_class_helper.pxi\", line 5753, in pandas._libs.hashtable.PyObjectHashTable.get_item\n",
            "KeyError: 'preds'\n",
            "\n",
            "The above exception was the direct cause of the following exception:\n",
            "\n",
            "Traceback (most recent call last):\n",
            "  File \"/usr/local/lib/python3.10/dist-packages/IPython/core/interactiveshell.py\", line 3553, in run_code\n",
            "    exec(code_obj, self.user_global_ns, self.user_ns)\n",
            "  File \"<ipython-input-27-4c2e53e422e3>\", line 2, in <cell line: 2>\n",
            "    print('TP-Phising:', ((true_test['label']==true_test['preds']).sum()/len(true_test)))\n",
            "  File \"/usr/local/lib/python3.10/dist-packages/pandas/core/frame.py\", line 3807, in __getitem__\n",
            "    indexer = self.columns.get_loc(key)\n",
            "  File \"/usr/local/lib/python3.10/dist-packages/pandas/core/indexes/base.py\", line 3804, in get_loc\n",
            "    raise KeyError(key) from err\n",
            "KeyError: 'preds'\n",
            "\n",
            "During handling of the above exception, another exception occurred:\n",
            "\n",
            "Traceback (most recent call last):\n",
            "  File \"/usr/local/lib/python3.10/dist-packages/IPython/core/interactiveshell.py\", line 2099, in showtraceback\n",
            "    stb = value._render_traceback_()\n",
            "AttributeError: 'KeyError' object has no attribute '_render_traceback_'\n",
            "\n",
            "During handling of the above exception, another exception occurred:\n",
            "\n",
            "Traceback (most recent call last):\n",
            "  File \"/usr/local/lib/python3.10/dist-packages/IPython/core/ultratb.py\", line 1101, in get_records\n",
            "    return _fixed_getinnerframes(etb, number_of_lines_of_context, tb_offset)\n",
            "  File \"/usr/local/lib/python3.10/dist-packages/IPython/core/ultratb.py\", line 248, in wrapped\n",
            "    return f(*args, **kwargs)\n",
            "  File \"/usr/local/lib/python3.10/dist-packages/IPython/core/ultratb.py\", line 281, in _fixed_getinnerframes\n",
            "    records = fix_frame_records_filenames(inspect.getinnerframes(etb, context))\n",
            "  File \"/usr/lib/python3.10/inspect.py\", line 1662, in getinnerframes\n",
            "    frameinfo = (tb.tb_frame,) + getframeinfo(tb, context)\n",
            "  File \"/usr/lib/python3.10/inspect.py\", line 1620, in getframeinfo\n",
            "    filename = getsourcefile(frame) or getfile(frame)\n",
            "  File \"/usr/lib/python3.10/inspect.py\", line 829, in getsourcefile\n",
            "    module = getmodule(object, filename)\n",
            "  File \"/usr/lib/python3.10/inspect.py\", line 861, in getmodule\n",
            "    file = getabsfile(object, _filename)\n",
            "  File \"/usr/lib/python3.10/inspect.py\", line 845, in getabsfile\n",
            "    return os.path.normcase(os.path.abspath(_filename))\n",
            "  File \"/usr/lib/python3.10/posixpath.py\", line 384, in abspath\n",
            "    cwd = os.getcwd()\n",
            "OSError: [Errno 107] Transport endpoint is not connected\n",
            "Traceback (most recent call last):\n",
            "  File \"/usr/local/lib/python3.10/dist-packages/pandas/core/indexes/base.py\", line 3802, in get_loc\n",
            "    return self._engine.get_loc(casted_key)\n",
            "  File \"pandas/_libs/index.pyx\", line 138, in pandas._libs.index.IndexEngine.get_loc\n",
            "  File \"pandas/_libs/index.pyx\", line 165, in pandas._libs.index.IndexEngine.get_loc\n",
            "  File \"pandas/_libs/hashtable_class_helper.pxi\", line 5745, in pandas._libs.hashtable.PyObjectHashTable.get_item\n",
            "  File \"pandas/_libs/hashtable_class_helper.pxi\", line 5753, in pandas._libs.hashtable.PyObjectHashTable.get_item\n",
            "KeyError: 'preds'\n",
            "\n",
            "The above exception was the direct cause of the following exception:\n",
            "\n",
            "Traceback (most recent call last):\n",
            "  File \"/usr/local/lib/python3.10/dist-packages/IPython/core/interactiveshell.py\", line 3553, in run_code\n",
            "    exec(code_obj, self.user_global_ns, self.user_ns)\n",
            "  File \"<ipython-input-27-4c2e53e422e3>\", line 2, in <cell line: 2>\n",
            "    print('TP-Phising:', ((true_test['label']==true_test['preds']).sum()/len(true_test)))\n",
            "  File \"/usr/local/lib/python3.10/dist-packages/pandas/core/frame.py\", line 3807, in __getitem__\n",
            "    indexer = self.columns.get_loc(key)\n",
            "  File \"/usr/local/lib/python3.10/dist-packages/pandas/core/indexes/base.py\", line 3804, in get_loc\n",
            "    raise KeyError(key) from err\n",
            "KeyError: 'preds'\n",
            "\n",
            "During handling of the above exception, another exception occurred:\n",
            "\n",
            "Traceback (most recent call last):\n",
            "  File \"/usr/local/lib/python3.10/dist-packages/IPython/core/interactiveshell.py\", line 2099, in showtraceback\n",
            "    stb = value._render_traceback_()\n",
            "AttributeError: 'KeyError' object has no attribute '_render_traceback_'\n",
            "\n",
            "During handling of the above exception, another exception occurred:\n",
            "\n",
            "Traceback (most recent call last):\n",
            "  File \"/usr/local/lib/python3.10/dist-packages/IPython/core/interactiveshell.py\", line 3473, in run_ast_nodes\n",
            "    if (await self.run_code(code, result,  async_=asy)):\n",
            "  File \"/usr/local/lib/python3.10/dist-packages/IPython/core/interactiveshell.py\", line 3575, in run_code\n",
            "    self.showtraceback(running_compiled_code=True)\n",
            "  File \"/usr/local/lib/python3.10/dist-packages/IPython/core/interactiveshell.py\", line 2101, in showtraceback\n",
            "    stb = self.InteractiveTB.structured_traceback(etype,\n",
            "  File \"/usr/local/lib/python3.10/dist-packages/IPython/core/ultratb.py\", line 1367, in structured_traceback\n",
            "    return FormattedTB.structured_traceback(\n",
            "  File \"/usr/local/lib/python3.10/dist-packages/IPython/core/ultratb.py\", line 1267, in structured_traceback\n",
            "    return VerboseTB.structured_traceback(\n",
            "  File \"/usr/local/lib/python3.10/dist-packages/IPython/core/ultratb.py\", line 1124, in structured_traceback\n",
            "    formatted_exception = self.format_exception_as_a_whole(etype, evalue, etb, number_of_lines_of_context,\n",
            "  File \"/usr/local/lib/python3.10/dist-packages/IPython/core/ultratb.py\", line 1082, in format_exception_as_a_whole\n",
            "    last_unique, recursion_repeat = find_recursion(orig_etype, evalue, records)\n",
            "  File \"/usr/local/lib/python3.10/dist-packages/IPython/core/ultratb.py\", line 382, in find_recursion\n",
            "    return len(records), 0\n",
            "TypeError: object of type 'NoneType' has no len()\n",
            "\n",
            "During handling of the above exception, another exception occurred:\n",
            "\n",
            "Traceback (most recent call last):\n",
            "  File \"/usr/local/lib/python3.10/dist-packages/IPython/core/interactiveshell.py\", line 2099, in showtraceback\n",
            "    stb = value._render_traceback_()\n",
            "AttributeError: 'TypeError' object has no attribute '_render_traceback_'\n",
            "\n",
            "During handling of the above exception, another exception occurred:\n",
            "\n",
            "Traceback (most recent call last):\n",
            "  File \"/usr/local/lib/python3.10/dist-packages/IPython/core/ultratb.py\", line 1101, in get_records\n",
            "    return _fixed_getinnerframes(etb, number_of_lines_of_context, tb_offset)\n",
            "  File \"/usr/local/lib/python3.10/dist-packages/IPython/core/ultratb.py\", line 248, in wrapped\n",
            "    return f(*args, **kwargs)\n",
            "  File \"/usr/local/lib/python3.10/dist-packages/IPython/core/ultratb.py\", line 281, in _fixed_getinnerframes\n",
            "    records = fix_frame_records_filenames(inspect.getinnerframes(etb, context))\n",
            "  File \"/usr/lib/python3.10/inspect.py\", line 1662, in getinnerframes\n",
            "    frameinfo = (tb.tb_frame,) + getframeinfo(tb, context)\n",
            "  File \"/usr/lib/python3.10/inspect.py\", line 1620, in getframeinfo\n",
            "    filename = getsourcefile(frame) or getfile(frame)\n",
            "  File \"/usr/lib/python3.10/inspect.py\", line 829, in getsourcefile\n",
            "    module = getmodule(object, filename)\n",
            "  File \"/usr/lib/python3.10/inspect.py\", line 861, in getmodule\n",
            "    file = getabsfile(object, _filename)\n",
            "  File \"/usr/lib/python3.10/inspect.py\", line 845, in getabsfile\n",
            "    return os.path.normcase(os.path.abspath(_filename))\n",
            "  File \"/usr/lib/python3.10/posixpath.py\", line 384, in abspath\n",
            "    cwd = os.getcwd()\n",
            "OSError: [Errno 107] Transport endpoint is not connected\n",
            "Traceback (most recent call last):\n",
            "  File \"/usr/local/lib/python3.10/dist-packages/pandas/core/indexes/base.py\", line 3802, in get_loc\n",
            "    return self._engine.get_loc(casted_key)\n",
            "  File \"pandas/_libs/index.pyx\", line 138, in pandas._libs.index.IndexEngine.get_loc\n",
            "  File \"pandas/_libs/index.pyx\", line 165, in pandas._libs.index.IndexEngine.get_loc\n",
            "  File \"pandas/_libs/hashtable_class_helper.pxi\", line 5745, in pandas._libs.hashtable.PyObjectHashTable.get_item\n",
            "  File \"pandas/_libs/hashtable_class_helper.pxi\", line 5753, in pandas._libs.hashtable.PyObjectHashTable.get_item\n",
            "KeyError: 'preds'\n",
            "\n",
            "The above exception was the direct cause of the following exception:\n",
            "\n",
            "Traceback (most recent call last):\n",
            "  File \"/usr/local/lib/python3.10/dist-packages/IPython/core/interactiveshell.py\", line 3553, in run_code\n",
            "    exec(code_obj, self.user_global_ns, self.user_ns)\n",
            "  File \"<ipython-input-27-4c2e53e422e3>\", line 2, in <cell line: 2>\n",
            "    print('TP-Phising:', ((true_test['label']==true_test['preds']).sum()/len(true_test)))\n",
            "  File \"/usr/local/lib/python3.10/dist-packages/pandas/core/frame.py\", line 3807, in __getitem__\n",
            "    indexer = self.columns.get_loc(key)\n",
            "  File \"/usr/local/lib/python3.10/dist-packages/pandas/core/indexes/base.py\", line 3804, in get_loc\n",
            "    raise KeyError(key) from err\n",
            "KeyError: 'preds'\n",
            "\n",
            "During handling of the above exception, another exception occurred:\n",
            "\n",
            "Traceback (most recent call last):\n",
            "  File \"/usr/local/lib/python3.10/dist-packages/IPython/core/interactiveshell.py\", line 2099, in showtraceback\n",
            "    stb = value._render_traceback_()\n",
            "AttributeError: 'KeyError' object has no attribute '_render_traceback_'\n",
            "\n",
            "During handling of the above exception, another exception occurred:\n",
            "\n",
            "Traceback (most recent call last):\n",
            "  File \"/usr/local/lib/python3.10/dist-packages/IPython/core/interactiveshell.py\", line 3473, in run_ast_nodes\n",
            "    if (await self.run_code(code, result,  async_=asy)):\n",
            "  File \"/usr/local/lib/python3.10/dist-packages/IPython/core/interactiveshell.py\", line 3575, in run_code\n",
            "    self.showtraceback(running_compiled_code=True)\n",
            "  File \"/usr/local/lib/python3.10/dist-packages/IPython/core/interactiveshell.py\", line 2101, in showtraceback\n",
            "    stb = self.InteractiveTB.structured_traceback(etype,\n",
            "  File \"/usr/local/lib/python3.10/dist-packages/IPython/core/ultratb.py\", line 1367, in structured_traceback\n",
            "    return FormattedTB.structured_traceback(\n",
            "  File \"/usr/local/lib/python3.10/dist-packages/IPython/core/ultratb.py\", line 1267, in structured_traceback\n",
            "    return VerboseTB.structured_traceback(\n",
            "  File \"/usr/local/lib/python3.10/dist-packages/IPython/core/ultratb.py\", line 1124, in structured_traceback\n",
            "    formatted_exception = self.format_exception_as_a_whole(etype, evalue, etb, number_of_lines_of_context,\n",
            "  File \"/usr/local/lib/python3.10/dist-packages/IPython/core/ultratb.py\", line 1082, in format_exception_as_a_whole\n",
            "    last_unique, recursion_repeat = find_recursion(orig_etype, evalue, records)\n",
            "  File \"/usr/local/lib/python3.10/dist-packages/IPython/core/ultratb.py\", line 382, in find_recursion\n",
            "    return len(records), 0\n",
            "TypeError: object of type 'NoneType' has no len()\n",
            "\n",
            "During handling of the above exception, another exception occurred:\n",
            "\n",
            "Traceback (most recent call last):\n",
            "  File \"/usr/local/lib/python3.10/dist-packages/IPython/core/interactiveshell.py\", line 2099, in showtraceback\n",
            "    stb = value._render_traceback_()\n",
            "AttributeError: 'TypeError' object has no attribute '_render_traceback_'\n",
            "\n",
            "During handling of the above exception, another exception occurred:\n",
            "\n",
            "Traceback (most recent call last):\n",
            "  File \"/usr/local/lib/python3.10/dist-packages/IPython/core/interactiveshell.py\", line 3030, in _run_cell\n",
            "    return runner(coro)\n",
            "  File \"/usr/local/lib/python3.10/dist-packages/IPython/core/async_helpers.py\", line 78, in _pseudo_sync_runner\n",
            "    coro.send(None)\n",
            "  File \"/usr/local/lib/python3.10/dist-packages/IPython/core/interactiveshell.py\", line 3257, in run_cell_async\n",
            "    has_raised = await self.run_ast_nodes(code_ast.body, cell_name,\n",
            "  File \"/usr/local/lib/python3.10/dist-packages/IPython/core/interactiveshell.py\", line 3492, in run_ast_nodes\n",
            "    self.showtraceback()\n",
            "  File \"/usr/local/lib/python3.10/dist-packages/IPython/core/interactiveshell.py\", line 2101, in showtraceback\n",
            "    stb = self.InteractiveTB.structured_traceback(etype,\n",
            "  File \"/usr/local/lib/python3.10/dist-packages/IPython/core/ultratb.py\", line 1367, in structured_traceback\n",
            "    return FormattedTB.structured_traceback(\n",
            "  File \"/usr/local/lib/python3.10/dist-packages/IPython/core/ultratb.py\", line 1267, in structured_traceback\n",
            "    return VerboseTB.structured_traceback(\n",
            "  File \"/usr/local/lib/python3.10/dist-packages/IPython/core/ultratb.py\", line 1142, in structured_traceback\n",
            "    formatted_exceptions += self.format_exception_as_a_whole(etype, evalue, etb, lines_of_context,\n",
            "  File \"/usr/local/lib/python3.10/dist-packages/IPython/core/ultratb.py\", line 1082, in format_exception_as_a_whole\n",
            "    last_unique, recursion_repeat = find_recursion(orig_etype, evalue, records)\n",
            "  File \"/usr/local/lib/python3.10/dist-packages/IPython/core/ultratb.py\", line 382, in find_recursion\n",
            "    return len(records), 0\n",
            "TypeError: object of type 'NoneType' has no len()\n",
            "\n",
            "During handling of the above exception, another exception occurred:\n",
            "\n",
            "Traceback (most recent call last):\n",
            "  File \"/usr/local/lib/python3.10/dist-packages/IPython/core/interactiveshell.py\", line 2099, in showtraceback\n",
            "    stb = value._render_traceback_()\n",
            "AttributeError: 'TypeError' object has no attribute '_render_traceback_'\n",
            "\n",
            "During handling of the above exception, another exception occurred:\n",
            "\n",
            "Traceback (most recent call last):\n",
            "  File \"/usr/local/lib/python3.10/dist-packages/IPython/core/ultratb.py\", line 1101, in get_records\n",
            "    return _fixed_getinnerframes(etb, number_of_lines_of_context, tb_offset)\n",
            "  File \"/usr/local/lib/python3.10/dist-packages/IPython/core/ultratb.py\", line 248, in wrapped\n",
            "    return f(*args, **kwargs)\n",
            "  File \"/usr/local/lib/python3.10/dist-packages/IPython/core/ultratb.py\", line 281, in _fixed_getinnerframes\n",
            "    records = fix_frame_records_filenames(inspect.getinnerframes(etb, context))\n",
            "  File \"/usr/lib/python3.10/inspect.py\", line 1662, in getinnerframes\n",
            "    frameinfo = (tb.tb_frame,) + getframeinfo(tb, context)\n",
            "  File \"/usr/lib/python3.10/inspect.py\", line 1620, in getframeinfo\n",
            "    filename = getsourcefile(frame) or getfile(frame)\n",
            "  File \"/usr/lib/python3.10/inspect.py\", line 829, in getsourcefile\n",
            "    module = getmodule(object, filename)\n",
            "  File \"/usr/lib/python3.10/inspect.py\", line 861, in getmodule\n",
            "    file = getabsfile(object, _filename)\n",
            "  File \"/usr/lib/python3.10/inspect.py\", line 845, in getabsfile\n",
            "    return os.path.normcase(os.path.abspath(_filename))\n",
            "  File \"/usr/lib/python3.10/posixpath.py\", line 384, in abspath\n",
            "    cwd = os.getcwd()\n",
            "OSError: [Errno 107] Transport endpoint is not connected\n"
          ]
        }
      ]
    },
    {
      "cell_type": "code",
      "source": [
        "true_test=test[test['label']==0]\n",
        "print('TP-Phising:', ((true_test['label']==true_test['preds']).sum()/len(true_test)))"
      ],
      "metadata": {
        "colab": {
          "base_uri": "https://localhost:8080/"
        },
        "id": "YF1NC5TTYsFD",
        "outputId": "921c7987-1737-4fd6-b3cc-761d060031f3"
      },
      "execution_count": null,
      "outputs": [
        {
          "output_type": "stream",
          "name": "stderr",
          "text": [
            "ERROR:root:Internal Python error in the inspect module.\n",
            "Below is the traceback from this internal error.\n",
            "\n",
            "ERROR:root:Internal Python error in the inspect module.\n",
            "Below is the traceback from this internal error.\n",
            "\n",
            "ERROR:root:Internal Python error in the inspect module.\n",
            "Below is the traceback from this internal error.\n",
            "\n"
          ]
        },
        {
          "output_type": "stream",
          "name": "stdout",
          "text": [
            "Traceback (most recent call last):\n",
            "  File \"/usr/local/lib/python3.10/dist-packages/pandas/core/indexes/base.py\", line 3802, in get_loc\n",
            "    return self._engine.get_loc(casted_key)\n",
            "  File \"pandas/_libs/index.pyx\", line 138, in pandas._libs.index.IndexEngine.get_loc\n",
            "  File \"pandas/_libs/index.pyx\", line 165, in pandas._libs.index.IndexEngine.get_loc\n",
            "  File \"pandas/_libs/hashtable_class_helper.pxi\", line 5745, in pandas._libs.hashtable.PyObjectHashTable.get_item\n",
            "  File \"pandas/_libs/hashtable_class_helper.pxi\", line 5753, in pandas._libs.hashtable.PyObjectHashTable.get_item\n",
            "KeyError: 'preds'\n",
            "\n",
            "The above exception was the direct cause of the following exception:\n",
            "\n",
            "Traceback (most recent call last):\n",
            "  File \"/usr/local/lib/python3.10/dist-packages/IPython/core/interactiveshell.py\", line 3553, in run_code\n",
            "    exec(code_obj, self.user_global_ns, self.user_ns)\n",
            "  File \"<ipython-input-27-8548a1ba8446>\", line 2, in <cell line: 2>\n",
            "    print('TP-Phising:', ((true_test['label']==true_test['preds']).sum()/len(true_test)))\n",
            "  File \"/usr/local/lib/python3.10/dist-packages/pandas/core/frame.py\", line 3807, in __getitem__\n",
            "    indexer = self.columns.get_loc(key)\n",
            "  File \"/usr/local/lib/python3.10/dist-packages/pandas/core/indexes/base.py\", line 3804, in get_loc\n",
            "    raise KeyError(key) from err\n",
            "KeyError: 'preds'\n",
            "\n",
            "During handling of the above exception, another exception occurred:\n",
            "\n",
            "Traceback (most recent call last):\n",
            "  File \"/usr/local/lib/python3.10/dist-packages/IPython/core/interactiveshell.py\", line 2099, in showtraceback\n",
            "    stb = value._render_traceback_()\n",
            "AttributeError: 'KeyError' object has no attribute '_render_traceback_'\n",
            "\n",
            "During handling of the above exception, another exception occurred:\n",
            "\n",
            "Traceback (most recent call last):\n",
            "  File \"/usr/local/lib/python3.10/dist-packages/IPython/core/ultratb.py\", line 1101, in get_records\n",
            "    return _fixed_getinnerframes(etb, number_of_lines_of_context, tb_offset)\n",
            "  File \"/usr/local/lib/python3.10/dist-packages/IPython/core/ultratb.py\", line 248, in wrapped\n",
            "    return f(*args, **kwargs)\n",
            "  File \"/usr/local/lib/python3.10/dist-packages/IPython/core/ultratb.py\", line 281, in _fixed_getinnerframes\n",
            "    records = fix_frame_records_filenames(inspect.getinnerframes(etb, context))\n",
            "  File \"/usr/lib/python3.10/inspect.py\", line 1662, in getinnerframes\n",
            "    frameinfo = (tb.tb_frame,) + getframeinfo(tb, context)\n",
            "  File \"/usr/lib/python3.10/inspect.py\", line 1620, in getframeinfo\n",
            "    filename = getsourcefile(frame) or getfile(frame)\n",
            "  File \"/usr/lib/python3.10/inspect.py\", line 829, in getsourcefile\n",
            "    module = getmodule(object, filename)\n",
            "  File \"/usr/lib/python3.10/inspect.py\", line 861, in getmodule\n",
            "    file = getabsfile(object, _filename)\n",
            "  File \"/usr/lib/python3.10/inspect.py\", line 845, in getabsfile\n",
            "    return os.path.normcase(os.path.abspath(_filename))\n",
            "  File \"/usr/lib/python3.10/posixpath.py\", line 384, in abspath\n",
            "    cwd = os.getcwd()\n",
            "OSError: [Errno 107] Transport endpoint is not connected\n",
            "Traceback (most recent call last):\n",
            "  File \"/usr/local/lib/python3.10/dist-packages/pandas/core/indexes/base.py\", line 3802, in get_loc\n",
            "    return self._engine.get_loc(casted_key)\n",
            "  File \"pandas/_libs/index.pyx\", line 138, in pandas._libs.index.IndexEngine.get_loc\n",
            "  File \"pandas/_libs/index.pyx\", line 165, in pandas._libs.index.IndexEngine.get_loc\n",
            "  File \"pandas/_libs/hashtable_class_helper.pxi\", line 5745, in pandas._libs.hashtable.PyObjectHashTable.get_item\n",
            "  File \"pandas/_libs/hashtable_class_helper.pxi\", line 5753, in pandas._libs.hashtable.PyObjectHashTable.get_item\n",
            "KeyError: 'preds'\n",
            "\n",
            "The above exception was the direct cause of the following exception:\n",
            "\n",
            "Traceback (most recent call last):\n",
            "  File \"/usr/local/lib/python3.10/dist-packages/IPython/core/interactiveshell.py\", line 3553, in run_code\n",
            "    exec(code_obj, self.user_global_ns, self.user_ns)\n",
            "  File \"<ipython-input-27-8548a1ba8446>\", line 2, in <cell line: 2>\n",
            "    print('TP-Phising:', ((true_test['label']==true_test['preds']).sum()/len(true_test)))\n",
            "  File \"/usr/local/lib/python3.10/dist-packages/pandas/core/frame.py\", line 3807, in __getitem__\n",
            "    indexer = self.columns.get_loc(key)\n",
            "  File \"/usr/local/lib/python3.10/dist-packages/pandas/core/indexes/base.py\", line 3804, in get_loc\n",
            "    raise KeyError(key) from err\n",
            "KeyError: 'preds'\n",
            "\n",
            "During handling of the above exception, another exception occurred:\n",
            "\n",
            "Traceback (most recent call last):\n",
            "  File \"/usr/local/lib/python3.10/dist-packages/IPython/core/interactiveshell.py\", line 2099, in showtraceback\n",
            "    stb = value._render_traceback_()\n",
            "AttributeError: 'KeyError' object has no attribute '_render_traceback_'\n",
            "\n",
            "During handling of the above exception, another exception occurred:\n",
            "\n",
            "Traceback (most recent call last):\n",
            "  File \"/usr/local/lib/python3.10/dist-packages/IPython/core/interactiveshell.py\", line 3473, in run_ast_nodes\n",
            "    if (await self.run_code(code, result,  async_=asy)):\n",
            "  File \"/usr/local/lib/python3.10/dist-packages/IPython/core/interactiveshell.py\", line 3575, in run_code\n",
            "    self.showtraceback(running_compiled_code=True)\n",
            "  File \"/usr/local/lib/python3.10/dist-packages/IPython/core/interactiveshell.py\", line 2101, in showtraceback\n",
            "    stb = self.InteractiveTB.structured_traceback(etype,\n",
            "  File \"/usr/local/lib/python3.10/dist-packages/IPython/core/ultratb.py\", line 1367, in structured_traceback\n",
            "    return FormattedTB.structured_traceback(\n",
            "  File \"/usr/local/lib/python3.10/dist-packages/IPython/core/ultratb.py\", line 1267, in structured_traceback\n",
            "    return VerboseTB.structured_traceback(\n",
            "  File \"/usr/local/lib/python3.10/dist-packages/IPython/core/ultratb.py\", line 1124, in structured_traceback\n",
            "    formatted_exception = self.format_exception_as_a_whole(etype, evalue, etb, number_of_lines_of_context,\n",
            "  File \"/usr/local/lib/python3.10/dist-packages/IPython/core/ultratb.py\", line 1082, in format_exception_as_a_whole\n",
            "    last_unique, recursion_repeat = find_recursion(orig_etype, evalue, records)\n",
            "  File \"/usr/local/lib/python3.10/dist-packages/IPython/core/ultratb.py\", line 382, in find_recursion\n",
            "    return len(records), 0\n",
            "TypeError: object of type 'NoneType' has no len()\n",
            "\n",
            "During handling of the above exception, another exception occurred:\n",
            "\n",
            "Traceback (most recent call last):\n",
            "  File \"/usr/local/lib/python3.10/dist-packages/IPython/core/interactiveshell.py\", line 2099, in showtraceback\n",
            "    stb = value._render_traceback_()\n",
            "AttributeError: 'TypeError' object has no attribute '_render_traceback_'\n",
            "\n",
            "During handling of the above exception, another exception occurred:\n",
            "\n",
            "Traceback (most recent call last):\n",
            "  File \"/usr/local/lib/python3.10/dist-packages/IPython/core/ultratb.py\", line 1101, in get_records\n",
            "    return _fixed_getinnerframes(etb, number_of_lines_of_context, tb_offset)\n",
            "  File \"/usr/local/lib/python3.10/dist-packages/IPython/core/ultratb.py\", line 248, in wrapped\n",
            "    return f(*args, **kwargs)\n",
            "  File \"/usr/local/lib/python3.10/dist-packages/IPython/core/ultratb.py\", line 281, in _fixed_getinnerframes\n",
            "    records = fix_frame_records_filenames(inspect.getinnerframes(etb, context))\n",
            "  File \"/usr/lib/python3.10/inspect.py\", line 1662, in getinnerframes\n",
            "    frameinfo = (tb.tb_frame,) + getframeinfo(tb, context)\n",
            "  File \"/usr/lib/python3.10/inspect.py\", line 1620, in getframeinfo\n",
            "    filename = getsourcefile(frame) or getfile(frame)\n",
            "  File \"/usr/lib/python3.10/inspect.py\", line 829, in getsourcefile\n",
            "    module = getmodule(object, filename)\n",
            "  File \"/usr/lib/python3.10/inspect.py\", line 861, in getmodule\n",
            "    file = getabsfile(object, _filename)\n",
            "  File \"/usr/lib/python3.10/inspect.py\", line 845, in getabsfile\n",
            "    return os.path.normcase(os.path.abspath(_filename))\n",
            "  File \"/usr/lib/python3.10/posixpath.py\", line 384, in abspath\n",
            "    cwd = os.getcwd()\n",
            "OSError: [Errno 107] Transport endpoint is not connected\n",
            "Traceback (most recent call last):\n",
            "  File \"/usr/local/lib/python3.10/dist-packages/pandas/core/indexes/base.py\", line 3802, in get_loc\n",
            "    return self._engine.get_loc(casted_key)\n",
            "  File \"pandas/_libs/index.pyx\", line 138, in pandas._libs.index.IndexEngine.get_loc\n",
            "  File \"pandas/_libs/index.pyx\", line 165, in pandas._libs.index.IndexEngine.get_loc\n",
            "  File \"pandas/_libs/hashtable_class_helper.pxi\", line 5745, in pandas._libs.hashtable.PyObjectHashTable.get_item\n",
            "  File \"pandas/_libs/hashtable_class_helper.pxi\", line 5753, in pandas._libs.hashtable.PyObjectHashTable.get_item\n",
            "KeyError: 'preds'\n",
            "\n",
            "The above exception was the direct cause of the following exception:\n",
            "\n",
            "Traceback (most recent call last):\n",
            "  File \"/usr/local/lib/python3.10/dist-packages/IPython/core/interactiveshell.py\", line 3553, in run_code\n",
            "    exec(code_obj, self.user_global_ns, self.user_ns)\n",
            "  File \"<ipython-input-27-8548a1ba8446>\", line 2, in <cell line: 2>\n",
            "    print('TP-Phising:', ((true_test['label']==true_test['preds']).sum()/len(true_test)))\n",
            "  File \"/usr/local/lib/python3.10/dist-packages/pandas/core/frame.py\", line 3807, in __getitem__\n",
            "    indexer = self.columns.get_loc(key)\n",
            "  File \"/usr/local/lib/python3.10/dist-packages/pandas/core/indexes/base.py\", line 3804, in get_loc\n",
            "    raise KeyError(key) from err\n",
            "KeyError: 'preds'\n",
            "\n",
            "During handling of the above exception, another exception occurred:\n",
            "\n",
            "Traceback (most recent call last):\n",
            "  File \"/usr/local/lib/python3.10/dist-packages/IPython/core/interactiveshell.py\", line 2099, in showtraceback\n",
            "    stb = value._render_traceback_()\n",
            "AttributeError: 'KeyError' object has no attribute '_render_traceback_'\n",
            "\n",
            "During handling of the above exception, another exception occurred:\n",
            "\n",
            "Traceback (most recent call last):\n",
            "  File \"/usr/local/lib/python3.10/dist-packages/IPython/core/interactiveshell.py\", line 3473, in run_ast_nodes\n",
            "    if (await self.run_code(code, result,  async_=asy)):\n",
            "  File \"/usr/local/lib/python3.10/dist-packages/IPython/core/interactiveshell.py\", line 3575, in run_code\n",
            "    self.showtraceback(running_compiled_code=True)\n",
            "  File \"/usr/local/lib/python3.10/dist-packages/IPython/core/interactiveshell.py\", line 2101, in showtraceback\n",
            "    stb = self.InteractiveTB.structured_traceback(etype,\n",
            "  File \"/usr/local/lib/python3.10/dist-packages/IPython/core/ultratb.py\", line 1367, in structured_traceback\n",
            "    return FormattedTB.structured_traceback(\n",
            "  File \"/usr/local/lib/python3.10/dist-packages/IPython/core/ultratb.py\", line 1267, in structured_traceback\n",
            "    return VerboseTB.structured_traceback(\n",
            "  File \"/usr/local/lib/python3.10/dist-packages/IPython/core/ultratb.py\", line 1124, in structured_traceback\n",
            "    formatted_exception = self.format_exception_as_a_whole(etype, evalue, etb, number_of_lines_of_context,\n",
            "  File \"/usr/local/lib/python3.10/dist-packages/IPython/core/ultratb.py\", line 1082, in format_exception_as_a_whole\n",
            "    last_unique, recursion_repeat = find_recursion(orig_etype, evalue, records)\n",
            "  File \"/usr/local/lib/python3.10/dist-packages/IPython/core/ultratb.py\", line 382, in find_recursion\n",
            "    return len(records), 0\n",
            "TypeError: object of type 'NoneType' has no len()\n",
            "\n",
            "During handling of the above exception, another exception occurred:\n",
            "\n",
            "Traceback (most recent call last):\n",
            "  File \"/usr/local/lib/python3.10/dist-packages/IPython/core/interactiveshell.py\", line 2099, in showtraceback\n",
            "    stb = value._render_traceback_()\n",
            "AttributeError: 'TypeError' object has no attribute '_render_traceback_'\n",
            "\n",
            "During handling of the above exception, another exception occurred:\n",
            "\n",
            "Traceback (most recent call last):\n",
            "  File \"/usr/local/lib/python3.10/dist-packages/IPython/core/interactiveshell.py\", line 3030, in _run_cell\n",
            "    return runner(coro)\n",
            "  File \"/usr/local/lib/python3.10/dist-packages/IPython/core/async_helpers.py\", line 78, in _pseudo_sync_runner\n",
            "    coro.send(None)\n",
            "  File \"/usr/local/lib/python3.10/dist-packages/IPython/core/interactiveshell.py\", line 3257, in run_cell_async\n",
            "    has_raised = await self.run_ast_nodes(code_ast.body, cell_name,\n",
            "  File \"/usr/local/lib/python3.10/dist-packages/IPython/core/interactiveshell.py\", line 3492, in run_ast_nodes\n",
            "    self.showtraceback()\n",
            "  File \"/usr/local/lib/python3.10/dist-packages/IPython/core/interactiveshell.py\", line 2101, in showtraceback\n",
            "    stb = self.InteractiveTB.structured_traceback(etype,\n",
            "  File \"/usr/local/lib/python3.10/dist-packages/IPython/core/ultratb.py\", line 1367, in structured_traceback\n",
            "    return FormattedTB.structured_traceback(\n",
            "  File \"/usr/local/lib/python3.10/dist-packages/IPython/core/ultratb.py\", line 1267, in structured_traceback\n",
            "    return VerboseTB.structured_traceback(\n",
            "  File \"/usr/local/lib/python3.10/dist-packages/IPython/core/ultratb.py\", line 1142, in structured_traceback\n",
            "    formatted_exceptions += self.format_exception_as_a_whole(etype, evalue, etb, lines_of_context,\n",
            "  File \"/usr/local/lib/python3.10/dist-packages/IPython/core/ultratb.py\", line 1082, in format_exception_as_a_whole\n",
            "    last_unique, recursion_repeat = find_recursion(orig_etype, evalue, records)\n",
            "  File \"/usr/local/lib/python3.10/dist-packages/IPython/core/ultratb.py\", line 382, in find_recursion\n",
            "    return len(records), 0\n",
            "TypeError: object of type 'NoneType' has no len()\n",
            "\n",
            "During handling of the above exception, another exception occurred:\n",
            "\n",
            "Traceback (most recent call last):\n",
            "  File \"/usr/local/lib/python3.10/dist-packages/IPython/core/interactiveshell.py\", line 2099, in showtraceback\n",
            "    stb = value._render_traceback_()\n",
            "AttributeError: 'TypeError' object has no attribute '_render_traceback_'\n",
            "\n",
            "During handling of the above exception, another exception occurred:\n",
            "\n",
            "Traceback (most recent call last):\n",
            "  File \"/usr/local/lib/python3.10/dist-packages/IPython/core/ultratb.py\", line 1101, in get_records\n",
            "    return _fixed_getinnerframes(etb, number_of_lines_of_context, tb_offset)\n",
            "  File \"/usr/local/lib/python3.10/dist-packages/IPython/core/ultratb.py\", line 248, in wrapped\n",
            "    return f(*args, **kwargs)\n",
            "  File \"/usr/local/lib/python3.10/dist-packages/IPython/core/ultratb.py\", line 281, in _fixed_getinnerframes\n",
            "    records = fix_frame_records_filenames(inspect.getinnerframes(etb, context))\n",
            "  File \"/usr/lib/python3.10/inspect.py\", line 1662, in getinnerframes\n",
            "    frameinfo = (tb.tb_frame,) + getframeinfo(tb, context)\n",
            "  File \"/usr/lib/python3.10/inspect.py\", line 1620, in getframeinfo\n",
            "    filename = getsourcefile(frame) or getfile(frame)\n",
            "  File \"/usr/lib/python3.10/inspect.py\", line 829, in getsourcefile\n",
            "    module = getmodule(object, filename)\n",
            "  File \"/usr/lib/python3.10/inspect.py\", line 861, in getmodule\n",
            "    file = getabsfile(object, _filename)\n",
            "  File \"/usr/lib/python3.10/inspect.py\", line 845, in getabsfile\n",
            "    return os.path.normcase(os.path.abspath(_filename))\n",
            "  File \"/usr/lib/python3.10/posixpath.py\", line 384, in abspath\n",
            "    cwd = os.getcwd()\n",
            "OSError: [Errno 107] Transport endpoint is not connected\n"
          ]
        }
      ]
    },
    {
      "cell_type": "code",
      "source": [],
      "metadata": {
        "id": "xawM27Mcc_de"
      },
      "execution_count": null,
      "outputs": []
    }
  ],
  "metadata": {
    "accelerator": "GPU",
    "colab": {
      "provenance": [],
      "gpuType": "T4",
      "machine_shape": "hm"
    },
    "kernelspec": {
      "display_name": "Python 3",
      "name": "python3"
    },
    "language_info": {
      "name": "python"
    },
    "widgets": {
      "application/vnd.jupyter.widget-state+json": {
        "735199437a4949e9a176669270f8f6e6": {
          "model_module": "@jupyter-widgets/controls",
          "model_name": "HBoxModel",
          "model_module_version": "1.5.0",
          "state": {
            "_dom_classes": [],
            "_model_module": "@jupyter-widgets/controls",
            "_model_module_version": "1.5.0",
            "_model_name": "HBoxModel",
            "_view_count": null,
            "_view_module": "@jupyter-widgets/controls",
            "_view_module_version": "1.5.0",
            "_view_name": "HBoxView",
            "box_style": "",
            "children": [
              "IPY_MODEL_cb1bc7ee52f14d429f9ce616ec06fb97",
              "IPY_MODEL_3499ee326f9d4481984f0978265b4bd1",
              "IPY_MODEL_b15b3602717b48e5819f1d176168398c"
            ],
            "layout": "IPY_MODEL_e7ba7beeefd54306b9ea43d4a7f6da57"
          }
        },
        "cb1bc7ee52f14d429f9ce616ec06fb97": {
          "model_module": "@jupyter-widgets/controls",
          "model_name": "HTMLModel",
          "model_module_version": "1.5.0",
          "state": {
            "_dom_classes": [],
            "_model_module": "@jupyter-widgets/controls",
            "_model_module_version": "1.5.0",
            "_model_name": "HTMLModel",
            "_view_count": null,
            "_view_module": "@jupyter-widgets/controls",
            "_view_module_version": "1.5.0",
            "_view_name": "HTMLView",
            "description": "",
            "description_tooltip": null,
            "layout": "IPY_MODEL_c06af2f9a4734aedb75995313d4d1cf8",
            "placeholder": "​",
            "style": "IPY_MODEL_a44f1fe5c34d491f9296c12d82410189",
            "value": "Downloading (…)lve/main/config.json: 100%"
          }
        },
        "3499ee326f9d4481984f0978265b4bd1": {
          "model_module": "@jupyter-widgets/controls",
          "model_name": "FloatProgressModel",
          "model_module_version": "1.5.0",
          "state": {
            "_dom_classes": [],
            "_model_module": "@jupyter-widgets/controls",
            "_model_module_version": "1.5.0",
            "_model_name": "FloatProgressModel",
            "_view_count": null,
            "_view_module": "@jupyter-widgets/controls",
            "_view_module_version": "1.5.0",
            "_view_name": "ProgressView",
            "bar_style": "success",
            "description": "",
            "description_tooltip": null,
            "layout": "IPY_MODEL_1a2331fdd8684469b12facb7acb12a51",
            "max": 870,
            "min": 0,
            "orientation": "horizontal",
            "style": "IPY_MODEL_42022f82139c402497ce61709fc2e5b9",
            "value": 870
          }
        },
        "b15b3602717b48e5819f1d176168398c": {
          "model_module": "@jupyter-widgets/controls",
          "model_name": "HTMLModel",
          "model_module_version": "1.5.0",
          "state": {
            "_dom_classes": [],
            "_model_module": "@jupyter-widgets/controls",
            "_model_module_version": "1.5.0",
            "_model_name": "HTMLModel",
            "_view_count": null,
            "_view_module": "@jupyter-widgets/controls",
            "_view_module_version": "1.5.0",
            "_view_name": "HTMLView",
            "description": "",
            "description_tooltip": null,
            "layout": "IPY_MODEL_6b110f8f0c12404b8733986b830d4602",
            "placeholder": "​",
            "style": "IPY_MODEL_0130108c9cdb450c87b1fc7e30a6d789",
            "value": " 870/870 [00:00&lt;00:00, 13.8kB/s]"
          }
        },
        "e7ba7beeefd54306b9ea43d4a7f6da57": {
          "model_module": "@jupyter-widgets/base",
          "model_name": "LayoutModel",
          "model_module_version": "1.2.0",
          "state": {
            "_model_module": "@jupyter-widgets/base",
            "_model_module_version": "1.2.0",
            "_model_name": "LayoutModel",
            "_view_count": null,
            "_view_module": "@jupyter-widgets/base",
            "_view_module_version": "1.2.0",
            "_view_name": "LayoutView",
            "align_content": null,
            "align_items": null,
            "align_self": null,
            "border": null,
            "bottom": null,
            "display": null,
            "flex": null,
            "flex_flow": null,
            "grid_area": null,
            "grid_auto_columns": null,
            "grid_auto_flow": null,
            "grid_auto_rows": null,
            "grid_column": null,
            "grid_gap": null,
            "grid_row": null,
            "grid_template_areas": null,
            "grid_template_columns": null,
            "grid_template_rows": null,
            "height": null,
            "justify_content": null,
            "justify_items": null,
            "left": null,
            "margin": null,
            "max_height": null,
            "max_width": null,
            "min_height": null,
            "min_width": null,
            "object_fit": null,
            "object_position": null,
            "order": null,
            "overflow": null,
            "overflow_x": null,
            "overflow_y": null,
            "padding": null,
            "right": null,
            "top": null,
            "visibility": null,
            "width": null
          }
        },
        "c06af2f9a4734aedb75995313d4d1cf8": {
          "model_module": "@jupyter-widgets/base",
          "model_name": "LayoutModel",
          "model_module_version": "1.2.0",
          "state": {
            "_model_module": "@jupyter-widgets/base",
            "_model_module_version": "1.2.0",
            "_model_name": "LayoutModel",
            "_view_count": null,
            "_view_module": "@jupyter-widgets/base",
            "_view_module_version": "1.2.0",
            "_view_name": "LayoutView",
            "align_content": null,
            "align_items": null,
            "align_self": null,
            "border": null,
            "bottom": null,
            "display": null,
            "flex": null,
            "flex_flow": null,
            "grid_area": null,
            "grid_auto_columns": null,
            "grid_auto_flow": null,
            "grid_auto_rows": null,
            "grid_column": null,
            "grid_gap": null,
            "grid_row": null,
            "grid_template_areas": null,
            "grid_template_columns": null,
            "grid_template_rows": null,
            "height": null,
            "justify_content": null,
            "justify_items": null,
            "left": null,
            "margin": null,
            "max_height": null,
            "max_width": null,
            "min_height": null,
            "min_width": null,
            "object_fit": null,
            "object_position": null,
            "order": null,
            "overflow": null,
            "overflow_x": null,
            "overflow_y": null,
            "padding": null,
            "right": null,
            "top": null,
            "visibility": null,
            "width": null
          }
        },
        "a44f1fe5c34d491f9296c12d82410189": {
          "model_module": "@jupyter-widgets/controls",
          "model_name": "DescriptionStyleModel",
          "model_module_version": "1.5.0",
          "state": {
            "_model_module": "@jupyter-widgets/controls",
            "_model_module_version": "1.5.0",
            "_model_name": "DescriptionStyleModel",
            "_view_count": null,
            "_view_module": "@jupyter-widgets/base",
            "_view_module_version": "1.2.0",
            "_view_name": "StyleView",
            "description_width": ""
          }
        },
        "1a2331fdd8684469b12facb7acb12a51": {
          "model_module": "@jupyter-widgets/base",
          "model_name": "LayoutModel",
          "model_module_version": "1.2.0",
          "state": {
            "_model_module": "@jupyter-widgets/base",
            "_model_module_version": "1.2.0",
            "_model_name": "LayoutModel",
            "_view_count": null,
            "_view_module": "@jupyter-widgets/base",
            "_view_module_version": "1.2.0",
            "_view_name": "LayoutView",
            "align_content": null,
            "align_items": null,
            "align_self": null,
            "border": null,
            "bottom": null,
            "display": null,
            "flex": null,
            "flex_flow": null,
            "grid_area": null,
            "grid_auto_columns": null,
            "grid_auto_flow": null,
            "grid_auto_rows": null,
            "grid_column": null,
            "grid_gap": null,
            "grid_row": null,
            "grid_template_areas": null,
            "grid_template_columns": null,
            "grid_template_rows": null,
            "height": null,
            "justify_content": null,
            "justify_items": null,
            "left": null,
            "margin": null,
            "max_height": null,
            "max_width": null,
            "min_height": null,
            "min_width": null,
            "object_fit": null,
            "object_position": null,
            "order": null,
            "overflow": null,
            "overflow_x": null,
            "overflow_y": null,
            "padding": null,
            "right": null,
            "top": null,
            "visibility": null,
            "width": null
          }
        },
        "42022f82139c402497ce61709fc2e5b9": {
          "model_module": "@jupyter-widgets/controls",
          "model_name": "ProgressStyleModel",
          "model_module_version": "1.5.0",
          "state": {
            "_model_module": "@jupyter-widgets/controls",
            "_model_module_version": "1.5.0",
            "_model_name": "ProgressStyleModel",
            "_view_count": null,
            "_view_module": "@jupyter-widgets/base",
            "_view_module_version": "1.2.0",
            "_view_name": "StyleView",
            "bar_color": null,
            "description_width": ""
          }
        },
        "6b110f8f0c12404b8733986b830d4602": {
          "model_module": "@jupyter-widgets/base",
          "model_name": "LayoutModel",
          "model_module_version": "1.2.0",
          "state": {
            "_model_module": "@jupyter-widgets/base",
            "_model_module_version": "1.2.0",
            "_model_name": "LayoutModel",
            "_view_count": null,
            "_view_module": "@jupyter-widgets/base",
            "_view_module_version": "1.2.0",
            "_view_name": "LayoutView",
            "align_content": null,
            "align_items": null,
            "align_self": null,
            "border": null,
            "bottom": null,
            "display": null,
            "flex": null,
            "flex_flow": null,
            "grid_area": null,
            "grid_auto_columns": null,
            "grid_auto_flow": null,
            "grid_auto_rows": null,
            "grid_column": null,
            "grid_gap": null,
            "grid_row": null,
            "grid_template_areas": null,
            "grid_template_columns": null,
            "grid_template_rows": null,
            "height": null,
            "justify_content": null,
            "justify_items": null,
            "left": null,
            "margin": null,
            "max_height": null,
            "max_width": null,
            "min_height": null,
            "min_width": null,
            "object_fit": null,
            "object_position": null,
            "order": null,
            "overflow": null,
            "overflow_x": null,
            "overflow_y": null,
            "padding": null,
            "right": null,
            "top": null,
            "visibility": null,
            "width": null
          }
        },
        "0130108c9cdb450c87b1fc7e30a6d789": {
          "model_module": "@jupyter-widgets/controls",
          "model_name": "DescriptionStyleModel",
          "model_module_version": "1.5.0",
          "state": {
            "_model_module": "@jupyter-widgets/controls",
            "_model_module_version": "1.5.0",
            "_model_name": "DescriptionStyleModel",
            "_view_count": null,
            "_view_module": "@jupyter-widgets/base",
            "_view_module_version": "1.2.0",
            "_view_name": "StyleView",
            "description_width": ""
          }
        },
        "3c558ecb338c4a148ea7dfe47880a030": {
          "model_module": "@jupyter-widgets/controls",
          "model_name": "HBoxModel",
          "model_module_version": "1.5.0",
          "state": {
            "_dom_classes": [],
            "_model_module": "@jupyter-widgets/controls",
            "_model_module_version": "1.5.0",
            "_model_name": "HBoxModel",
            "_view_count": null,
            "_view_module": "@jupyter-widgets/controls",
            "_view_module_version": "1.5.0",
            "_view_name": "HBoxView",
            "box_style": "",
            "children": [
              "IPY_MODEL_1d91ef0b86bc4f54b701db68afb836c8",
              "IPY_MODEL_8f06cc0053a641de99f603584b9a37ff",
              "IPY_MODEL_2d7a8040cbef42a2a1bca47f21ebed8e"
            ],
            "layout": "IPY_MODEL_69f49af0f4c34c4eb862f609a21f5892"
          }
        },
        "1d91ef0b86bc4f54b701db68afb836c8": {
          "model_module": "@jupyter-widgets/controls",
          "model_name": "HTMLModel",
          "model_module_version": "1.5.0",
          "state": {
            "_dom_classes": [],
            "_model_module": "@jupyter-widgets/controls",
            "_model_module_version": "1.5.0",
            "_model_name": "HTMLModel",
            "_view_count": null,
            "_view_module": "@jupyter-widgets/controls",
            "_view_module_version": "1.5.0",
            "_view_name": "HTMLView",
            "description": "",
            "description_tooltip": null,
            "layout": "IPY_MODEL_c83241a4315a4e478b63bbdffc89c354",
            "placeholder": "​",
            "style": "IPY_MODEL_61c9a7e465f34fe1aef7dcb95417870f",
            "value": "Downloading (…)okenizer_config.json: 100%"
          }
        },
        "8f06cc0053a641de99f603584b9a37ff": {
          "model_module": "@jupyter-widgets/controls",
          "model_name": "FloatProgressModel",
          "model_module_version": "1.5.0",
          "state": {
            "_dom_classes": [],
            "_model_module": "@jupyter-widgets/controls",
            "_model_module_version": "1.5.0",
            "_model_name": "FloatProgressModel",
            "_view_count": null,
            "_view_module": "@jupyter-widgets/controls",
            "_view_module_version": "1.5.0",
            "_view_name": "ProgressView",
            "bar_style": "success",
            "description": "",
            "description_tooltip": null,
            "layout": "IPY_MODEL_91c5e80d0d3e4e7b842d844db106cedc",
            "max": 373,
            "min": 0,
            "orientation": "horizontal",
            "style": "IPY_MODEL_f6f6095889b8439c91cf4a0f144df0a1",
            "value": 373
          }
        },
        "2d7a8040cbef42a2a1bca47f21ebed8e": {
          "model_module": "@jupyter-widgets/controls",
          "model_name": "HTMLModel",
          "model_module_version": "1.5.0",
          "state": {
            "_dom_classes": [],
            "_model_module": "@jupyter-widgets/controls",
            "_model_module_version": "1.5.0",
            "_model_name": "HTMLModel",
            "_view_count": null,
            "_view_module": "@jupyter-widgets/controls",
            "_view_module_version": "1.5.0",
            "_view_name": "HTMLView",
            "description": "",
            "description_tooltip": null,
            "layout": "IPY_MODEL_d39fae9673c940e496934e0875e60bc8",
            "placeholder": "​",
            "style": "IPY_MODEL_0df69726553b499681a8dda5e455940e",
            "value": " 373/373 [00:00&lt;00:00, 17.4kB/s]"
          }
        },
        "69f49af0f4c34c4eb862f609a21f5892": {
          "model_module": "@jupyter-widgets/base",
          "model_name": "LayoutModel",
          "model_module_version": "1.2.0",
          "state": {
            "_model_module": "@jupyter-widgets/base",
            "_model_module_version": "1.2.0",
            "_model_name": "LayoutModel",
            "_view_count": null,
            "_view_module": "@jupyter-widgets/base",
            "_view_module_version": "1.2.0",
            "_view_name": "LayoutView",
            "align_content": null,
            "align_items": null,
            "align_self": null,
            "border": null,
            "bottom": null,
            "display": null,
            "flex": null,
            "flex_flow": null,
            "grid_area": null,
            "grid_auto_columns": null,
            "grid_auto_flow": null,
            "grid_auto_rows": null,
            "grid_column": null,
            "grid_gap": null,
            "grid_row": null,
            "grid_template_areas": null,
            "grid_template_columns": null,
            "grid_template_rows": null,
            "height": null,
            "justify_content": null,
            "justify_items": null,
            "left": null,
            "margin": null,
            "max_height": null,
            "max_width": null,
            "min_height": null,
            "min_width": null,
            "object_fit": null,
            "object_position": null,
            "order": null,
            "overflow": null,
            "overflow_x": null,
            "overflow_y": null,
            "padding": null,
            "right": null,
            "top": null,
            "visibility": null,
            "width": null
          }
        },
        "c83241a4315a4e478b63bbdffc89c354": {
          "model_module": "@jupyter-widgets/base",
          "model_name": "LayoutModel",
          "model_module_version": "1.2.0",
          "state": {
            "_model_module": "@jupyter-widgets/base",
            "_model_module_version": "1.2.0",
            "_model_name": "LayoutModel",
            "_view_count": null,
            "_view_module": "@jupyter-widgets/base",
            "_view_module_version": "1.2.0",
            "_view_name": "LayoutView",
            "align_content": null,
            "align_items": null,
            "align_self": null,
            "border": null,
            "bottom": null,
            "display": null,
            "flex": null,
            "flex_flow": null,
            "grid_area": null,
            "grid_auto_columns": null,
            "grid_auto_flow": null,
            "grid_auto_rows": null,
            "grid_column": null,
            "grid_gap": null,
            "grid_row": null,
            "grid_template_areas": null,
            "grid_template_columns": null,
            "grid_template_rows": null,
            "height": null,
            "justify_content": null,
            "justify_items": null,
            "left": null,
            "margin": null,
            "max_height": null,
            "max_width": null,
            "min_height": null,
            "min_width": null,
            "object_fit": null,
            "object_position": null,
            "order": null,
            "overflow": null,
            "overflow_x": null,
            "overflow_y": null,
            "padding": null,
            "right": null,
            "top": null,
            "visibility": null,
            "width": null
          }
        },
        "61c9a7e465f34fe1aef7dcb95417870f": {
          "model_module": "@jupyter-widgets/controls",
          "model_name": "DescriptionStyleModel",
          "model_module_version": "1.5.0",
          "state": {
            "_model_module": "@jupyter-widgets/controls",
            "_model_module_version": "1.5.0",
            "_model_name": "DescriptionStyleModel",
            "_view_count": null,
            "_view_module": "@jupyter-widgets/base",
            "_view_module_version": "1.2.0",
            "_view_name": "StyleView",
            "description_width": ""
          }
        },
        "91c5e80d0d3e4e7b842d844db106cedc": {
          "model_module": "@jupyter-widgets/base",
          "model_name": "LayoutModel",
          "model_module_version": "1.2.0",
          "state": {
            "_model_module": "@jupyter-widgets/base",
            "_model_module_version": "1.2.0",
            "_model_name": "LayoutModel",
            "_view_count": null,
            "_view_module": "@jupyter-widgets/base",
            "_view_module_version": "1.2.0",
            "_view_name": "LayoutView",
            "align_content": null,
            "align_items": null,
            "align_self": null,
            "border": null,
            "bottom": null,
            "display": null,
            "flex": null,
            "flex_flow": null,
            "grid_area": null,
            "grid_auto_columns": null,
            "grid_auto_flow": null,
            "grid_auto_rows": null,
            "grid_column": null,
            "grid_gap": null,
            "grid_row": null,
            "grid_template_areas": null,
            "grid_template_columns": null,
            "grid_template_rows": null,
            "height": null,
            "justify_content": null,
            "justify_items": null,
            "left": null,
            "margin": null,
            "max_height": null,
            "max_width": null,
            "min_height": null,
            "min_width": null,
            "object_fit": null,
            "object_position": null,
            "order": null,
            "overflow": null,
            "overflow_x": null,
            "overflow_y": null,
            "padding": null,
            "right": null,
            "top": null,
            "visibility": null,
            "width": null
          }
        },
        "f6f6095889b8439c91cf4a0f144df0a1": {
          "model_module": "@jupyter-widgets/controls",
          "model_name": "ProgressStyleModel",
          "model_module_version": "1.5.0",
          "state": {
            "_model_module": "@jupyter-widgets/controls",
            "_model_module_version": "1.5.0",
            "_model_name": "ProgressStyleModel",
            "_view_count": null,
            "_view_module": "@jupyter-widgets/base",
            "_view_module_version": "1.2.0",
            "_view_name": "StyleView",
            "bar_color": null,
            "description_width": ""
          }
        },
        "d39fae9673c940e496934e0875e60bc8": {
          "model_module": "@jupyter-widgets/base",
          "model_name": "LayoutModel",
          "model_module_version": "1.2.0",
          "state": {
            "_model_module": "@jupyter-widgets/base",
            "_model_module_version": "1.2.0",
            "_model_name": "LayoutModel",
            "_view_count": null,
            "_view_module": "@jupyter-widgets/base",
            "_view_module_version": "1.2.0",
            "_view_name": "LayoutView",
            "align_content": null,
            "align_items": null,
            "align_self": null,
            "border": null,
            "bottom": null,
            "display": null,
            "flex": null,
            "flex_flow": null,
            "grid_area": null,
            "grid_auto_columns": null,
            "grid_auto_flow": null,
            "grid_auto_rows": null,
            "grid_column": null,
            "grid_gap": null,
            "grid_row": null,
            "grid_template_areas": null,
            "grid_template_columns": null,
            "grid_template_rows": null,
            "height": null,
            "justify_content": null,
            "justify_items": null,
            "left": null,
            "margin": null,
            "max_height": null,
            "max_width": null,
            "min_height": null,
            "min_width": null,
            "object_fit": null,
            "object_position": null,
            "order": null,
            "overflow": null,
            "overflow_x": null,
            "overflow_y": null,
            "padding": null,
            "right": null,
            "top": null,
            "visibility": null,
            "width": null
          }
        },
        "0df69726553b499681a8dda5e455940e": {
          "model_module": "@jupyter-widgets/controls",
          "model_name": "DescriptionStyleModel",
          "model_module_version": "1.5.0",
          "state": {
            "_model_module": "@jupyter-widgets/controls",
            "_model_module_version": "1.5.0",
            "_model_name": "DescriptionStyleModel",
            "_view_count": null,
            "_view_module": "@jupyter-widgets/base",
            "_view_module_version": "1.2.0",
            "_view_name": "StyleView",
            "description_width": ""
          }
        },
        "228e82fb3101488f9ec8e6d0d9d3c3e5": {
          "model_module": "@jupyter-widgets/controls",
          "model_name": "HBoxModel",
          "model_module_version": "1.5.0",
          "state": {
            "_dom_classes": [],
            "_model_module": "@jupyter-widgets/controls",
            "_model_module_version": "1.5.0",
            "_model_name": "HBoxModel",
            "_view_count": null,
            "_view_module": "@jupyter-widgets/controls",
            "_view_module_version": "1.5.0",
            "_view_name": "HBoxView",
            "box_style": "",
            "children": [
              "IPY_MODEL_3da13fdd0d6948e7843920feff396782",
              "IPY_MODEL_c019758a259541d2a707d918d9cf290b",
              "IPY_MODEL_92a8f84861e148b29c9c79404636c5e0"
            ],
            "layout": "IPY_MODEL_dd6205223a33438785aacf9384b581e4"
          }
        },
        "3da13fdd0d6948e7843920feff396782": {
          "model_module": "@jupyter-widgets/controls",
          "model_name": "HTMLModel",
          "model_module_version": "1.5.0",
          "state": {
            "_dom_classes": [],
            "_model_module": "@jupyter-widgets/controls",
            "_model_module_version": "1.5.0",
            "_model_name": "HTMLModel",
            "_view_count": null,
            "_view_module": "@jupyter-widgets/controls",
            "_view_module_version": "1.5.0",
            "_view_name": "HTMLView",
            "description": "",
            "description_tooltip": null,
            "layout": "IPY_MODEL_64a92b11883644268c303bfa0beaafa1",
            "placeholder": "​",
            "style": "IPY_MODEL_9b5d91cb72cc4e448f759a4abd99ecb7",
            "value": "Downloading (…)solve/main/vocab.txt: 100%"
          }
        },
        "c019758a259541d2a707d918d9cf290b": {
          "model_module": "@jupyter-widgets/controls",
          "model_name": "FloatProgressModel",
          "model_module_version": "1.5.0",
          "state": {
            "_dom_classes": [],
            "_model_module": "@jupyter-widgets/controls",
            "_model_module_version": "1.5.0",
            "_model_name": "FloatProgressModel",
            "_view_count": null,
            "_view_module": "@jupyter-widgets/controls",
            "_view_module_version": "1.5.0",
            "_view_name": "ProgressView",
            "bar_style": "success",
            "description": "",
            "description_tooltip": null,
            "layout": "IPY_MODEL_2fe515a00bbd473983dba40daee1f447",
            "max": 241171,
            "min": 0,
            "orientation": "horizontal",
            "style": "IPY_MODEL_52ab645367a443e1b4d1c15fecbd900e",
            "value": 241171
          }
        },
        "92a8f84861e148b29c9c79404636c5e0": {
          "model_module": "@jupyter-widgets/controls",
          "model_name": "HTMLModel",
          "model_module_version": "1.5.0",
          "state": {
            "_dom_classes": [],
            "_model_module": "@jupyter-widgets/controls",
            "_model_module_version": "1.5.0",
            "_model_name": "HTMLModel",
            "_view_count": null,
            "_view_module": "@jupyter-widgets/controls",
            "_view_module_version": "1.5.0",
            "_view_name": "HTMLView",
            "description": "",
            "description_tooltip": null,
            "layout": "IPY_MODEL_743bb936ee05415cafaa48b0feccfb41",
            "placeholder": "​",
            "style": "IPY_MODEL_9d629d195bd4475a9f81dddccba92433",
            "value": " 241k/241k [00:00&lt;00:00, 3.28MB/s]"
          }
        },
        "dd6205223a33438785aacf9384b581e4": {
          "model_module": "@jupyter-widgets/base",
          "model_name": "LayoutModel",
          "model_module_version": "1.2.0",
          "state": {
            "_model_module": "@jupyter-widgets/base",
            "_model_module_version": "1.2.0",
            "_model_name": "LayoutModel",
            "_view_count": null,
            "_view_module": "@jupyter-widgets/base",
            "_view_module_version": "1.2.0",
            "_view_name": "LayoutView",
            "align_content": null,
            "align_items": null,
            "align_self": null,
            "border": null,
            "bottom": null,
            "display": null,
            "flex": null,
            "flex_flow": null,
            "grid_area": null,
            "grid_auto_columns": null,
            "grid_auto_flow": null,
            "grid_auto_rows": null,
            "grid_column": null,
            "grid_gap": null,
            "grid_row": null,
            "grid_template_areas": null,
            "grid_template_columns": null,
            "grid_template_rows": null,
            "height": null,
            "justify_content": null,
            "justify_items": null,
            "left": null,
            "margin": null,
            "max_height": null,
            "max_width": null,
            "min_height": null,
            "min_width": null,
            "object_fit": null,
            "object_position": null,
            "order": null,
            "overflow": null,
            "overflow_x": null,
            "overflow_y": null,
            "padding": null,
            "right": null,
            "top": null,
            "visibility": null,
            "width": null
          }
        },
        "64a92b11883644268c303bfa0beaafa1": {
          "model_module": "@jupyter-widgets/base",
          "model_name": "LayoutModel",
          "model_module_version": "1.2.0",
          "state": {
            "_model_module": "@jupyter-widgets/base",
            "_model_module_version": "1.2.0",
            "_model_name": "LayoutModel",
            "_view_count": null,
            "_view_module": "@jupyter-widgets/base",
            "_view_module_version": "1.2.0",
            "_view_name": "LayoutView",
            "align_content": null,
            "align_items": null,
            "align_self": null,
            "border": null,
            "bottom": null,
            "display": null,
            "flex": null,
            "flex_flow": null,
            "grid_area": null,
            "grid_auto_columns": null,
            "grid_auto_flow": null,
            "grid_auto_rows": null,
            "grid_column": null,
            "grid_gap": null,
            "grid_row": null,
            "grid_template_areas": null,
            "grid_template_columns": null,
            "grid_template_rows": null,
            "height": null,
            "justify_content": null,
            "justify_items": null,
            "left": null,
            "margin": null,
            "max_height": null,
            "max_width": null,
            "min_height": null,
            "min_width": null,
            "object_fit": null,
            "object_position": null,
            "order": null,
            "overflow": null,
            "overflow_x": null,
            "overflow_y": null,
            "padding": null,
            "right": null,
            "top": null,
            "visibility": null,
            "width": null
          }
        },
        "9b5d91cb72cc4e448f759a4abd99ecb7": {
          "model_module": "@jupyter-widgets/controls",
          "model_name": "DescriptionStyleModel",
          "model_module_version": "1.5.0",
          "state": {
            "_model_module": "@jupyter-widgets/controls",
            "_model_module_version": "1.5.0",
            "_model_name": "DescriptionStyleModel",
            "_view_count": null,
            "_view_module": "@jupyter-widgets/base",
            "_view_module_version": "1.2.0",
            "_view_name": "StyleView",
            "description_width": ""
          }
        },
        "2fe515a00bbd473983dba40daee1f447": {
          "model_module": "@jupyter-widgets/base",
          "model_name": "LayoutModel",
          "model_module_version": "1.2.0",
          "state": {
            "_model_module": "@jupyter-widgets/base",
            "_model_module_version": "1.2.0",
            "_model_name": "LayoutModel",
            "_view_count": null,
            "_view_module": "@jupyter-widgets/base",
            "_view_module_version": "1.2.0",
            "_view_name": "LayoutView",
            "align_content": null,
            "align_items": null,
            "align_self": null,
            "border": null,
            "bottom": null,
            "display": null,
            "flex": null,
            "flex_flow": null,
            "grid_area": null,
            "grid_auto_columns": null,
            "grid_auto_flow": null,
            "grid_auto_rows": null,
            "grid_column": null,
            "grid_gap": null,
            "grid_row": null,
            "grid_template_areas": null,
            "grid_template_columns": null,
            "grid_template_rows": null,
            "height": null,
            "justify_content": null,
            "justify_items": null,
            "left": null,
            "margin": null,
            "max_height": null,
            "max_width": null,
            "min_height": null,
            "min_width": null,
            "object_fit": null,
            "object_position": null,
            "order": null,
            "overflow": null,
            "overflow_x": null,
            "overflow_y": null,
            "padding": null,
            "right": null,
            "top": null,
            "visibility": null,
            "width": null
          }
        },
        "52ab645367a443e1b4d1c15fecbd900e": {
          "model_module": "@jupyter-widgets/controls",
          "model_name": "ProgressStyleModel",
          "model_module_version": "1.5.0",
          "state": {
            "_model_module": "@jupyter-widgets/controls",
            "_model_module_version": "1.5.0",
            "_model_name": "ProgressStyleModel",
            "_view_count": null,
            "_view_module": "@jupyter-widgets/base",
            "_view_module_version": "1.2.0",
            "_view_name": "StyleView",
            "bar_color": null,
            "description_width": ""
          }
        },
        "743bb936ee05415cafaa48b0feccfb41": {
          "model_module": "@jupyter-widgets/base",
          "model_name": "LayoutModel",
          "model_module_version": "1.2.0",
          "state": {
            "_model_module": "@jupyter-widgets/base",
            "_model_module_version": "1.2.0",
            "_model_name": "LayoutModel",
            "_view_count": null,
            "_view_module": "@jupyter-widgets/base",
            "_view_module_version": "1.2.0",
            "_view_name": "LayoutView",
            "align_content": null,
            "align_items": null,
            "align_self": null,
            "border": null,
            "bottom": null,
            "display": null,
            "flex": null,
            "flex_flow": null,
            "grid_area": null,
            "grid_auto_columns": null,
            "grid_auto_flow": null,
            "grid_auto_rows": null,
            "grid_column": null,
            "grid_gap": null,
            "grid_row": null,
            "grid_template_areas": null,
            "grid_template_columns": null,
            "grid_template_rows": null,
            "height": null,
            "justify_content": null,
            "justify_items": null,
            "left": null,
            "margin": null,
            "max_height": null,
            "max_width": null,
            "min_height": null,
            "min_width": null,
            "object_fit": null,
            "object_position": null,
            "order": null,
            "overflow": null,
            "overflow_x": null,
            "overflow_y": null,
            "padding": null,
            "right": null,
            "top": null,
            "visibility": null,
            "width": null
          }
        },
        "9d629d195bd4475a9f81dddccba92433": {
          "model_module": "@jupyter-widgets/controls",
          "model_name": "DescriptionStyleModel",
          "model_module_version": "1.5.0",
          "state": {
            "_model_module": "@jupyter-widgets/controls",
            "_model_module_version": "1.5.0",
            "_model_name": "DescriptionStyleModel",
            "_view_count": null,
            "_view_module": "@jupyter-widgets/base",
            "_view_module_version": "1.2.0",
            "_view_name": "StyleView",
            "description_width": ""
          }
        },
        "51814821b968479dafef97c5891c7d65": {
          "model_module": "@jupyter-widgets/controls",
          "model_name": "HBoxModel",
          "model_module_version": "1.5.0",
          "state": {
            "_dom_classes": [],
            "_model_module": "@jupyter-widgets/controls",
            "_model_module_version": "1.5.0",
            "_model_name": "HBoxModel",
            "_view_count": null,
            "_view_module": "@jupyter-widgets/controls",
            "_view_module_version": "1.5.0",
            "_view_name": "HBoxView",
            "box_style": "",
            "children": [
              "IPY_MODEL_18990579867a402c9b7a293e2a632c35",
              "IPY_MODEL_63f64e9614234d58a3c3e5f9dc1e3caf",
              "IPY_MODEL_b3601444d8154b93a4c009f0a16e45d6"
            ],
            "layout": "IPY_MODEL_3498768e20394f9ea761b4981af6408a"
          }
        },
        "18990579867a402c9b7a293e2a632c35": {
          "model_module": "@jupyter-widgets/controls",
          "model_name": "HTMLModel",
          "model_module_version": "1.5.0",
          "state": {
            "_dom_classes": [],
            "_model_module": "@jupyter-widgets/controls",
            "_model_module_version": "1.5.0",
            "_model_name": "HTMLModel",
            "_view_count": null,
            "_view_module": "@jupyter-widgets/controls",
            "_view_module_version": "1.5.0",
            "_view_name": "HTMLView",
            "description": "",
            "description_tooltip": null,
            "layout": "IPY_MODEL_89123fbd6bda4cef93e1d97dd2095bf1",
            "placeholder": "​",
            "style": "IPY_MODEL_cd793f25bb9742bfb61846db9589e146",
            "value": "Downloading (…)/main/tokenizer.json: 100%"
          }
        },
        "63f64e9614234d58a3c3e5f9dc1e3caf": {
          "model_module": "@jupyter-widgets/controls",
          "model_name": "FloatProgressModel",
          "model_module_version": "1.5.0",
          "state": {
            "_dom_classes": [],
            "_model_module": "@jupyter-widgets/controls",
            "_model_module_version": "1.5.0",
            "_model_name": "FloatProgressModel",
            "_view_count": null,
            "_view_module": "@jupyter-widgets/controls",
            "_view_module_version": "1.5.0",
            "_view_name": "ProgressView",
            "bar_style": "success",
            "description": "",
            "description_tooltip": null,
            "layout": "IPY_MODEL_bf9cf81ae2b14487a5a863d4eeb2676f",
            "max": 491774,
            "min": 0,
            "orientation": "horizontal",
            "style": "IPY_MODEL_5dd56a7177b84e94878294707d43bcd9",
            "value": 491774
          }
        },
        "b3601444d8154b93a4c009f0a16e45d6": {
          "model_module": "@jupyter-widgets/controls",
          "model_name": "HTMLModel",
          "model_module_version": "1.5.0",
          "state": {
            "_dom_classes": [],
            "_model_module": "@jupyter-widgets/controls",
            "_model_module_version": "1.5.0",
            "_model_name": "HTMLModel",
            "_view_count": null,
            "_view_module": "@jupyter-widgets/controls",
            "_view_module_version": "1.5.0",
            "_view_name": "HTMLView",
            "description": "",
            "description_tooltip": null,
            "layout": "IPY_MODEL_9949128d305f4ae1846d05bf8466bae2",
            "placeholder": "​",
            "style": "IPY_MODEL_ba259aa2d7ff4b04850627f78fa324d5",
            "value": " 492k/492k [00:00&lt;00:00, 4.83MB/s]"
          }
        },
        "3498768e20394f9ea761b4981af6408a": {
          "model_module": "@jupyter-widgets/base",
          "model_name": "LayoutModel",
          "model_module_version": "1.2.0",
          "state": {
            "_model_module": "@jupyter-widgets/base",
            "_model_module_version": "1.2.0",
            "_model_name": "LayoutModel",
            "_view_count": null,
            "_view_module": "@jupyter-widgets/base",
            "_view_module_version": "1.2.0",
            "_view_name": "LayoutView",
            "align_content": null,
            "align_items": null,
            "align_self": null,
            "border": null,
            "bottom": null,
            "display": null,
            "flex": null,
            "flex_flow": null,
            "grid_area": null,
            "grid_auto_columns": null,
            "grid_auto_flow": null,
            "grid_auto_rows": null,
            "grid_column": null,
            "grid_gap": null,
            "grid_row": null,
            "grid_template_areas": null,
            "grid_template_columns": null,
            "grid_template_rows": null,
            "height": null,
            "justify_content": null,
            "justify_items": null,
            "left": null,
            "margin": null,
            "max_height": null,
            "max_width": null,
            "min_height": null,
            "min_width": null,
            "object_fit": null,
            "object_position": null,
            "order": null,
            "overflow": null,
            "overflow_x": null,
            "overflow_y": null,
            "padding": null,
            "right": null,
            "top": null,
            "visibility": null,
            "width": null
          }
        },
        "89123fbd6bda4cef93e1d97dd2095bf1": {
          "model_module": "@jupyter-widgets/base",
          "model_name": "LayoutModel",
          "model_module_version": "1.2.0",
          "state": {
            "_model_module": "@jupyter-widgets/base",
            "_model_module_version": "1.2.0",
            "_model_name": "LayoutModel",
            "_view_count": null,
            "_view_module": "@jupyter-widgets/base",
            "_view_module_version": "1.2.0",
            "_view_name": "LayoutView",
            "align_content": null,
            "align_items": null,
            "align_self": null,
            "border": null,
            "bottom": null,
            "display": null,
            "flex": null,
            "flex_flow": null,
            "grid_area": null,
            "grid_auto_columns": null,
            "grid_auto_flow": null,
            "grid_auto_rows": null,
            "grid_column": null,
            "grid_gap": null,
            "grid_row": null,
            "grid_template_areas": null,
            "grid_template_columns": null,
            "grid_template_rows": null,
            "height": null,
            "justify_content": null,
            "justify_items": null,
            "left": null,
            "margin": null,
            "max_height": null,
            "max_width": null,
            "min_height": null,
            "min_width": null,
            "object_fit": null,
            "object_position": null,
            "order": null,
            "overflow": null,
            "overflow_x": null,
            "overflow_y": null,
            "padding": null,
            "right": null,
            "top": null,
            "visibility": null,
            "width": null
          }
        },
        "cd793f25bb9742bfb61846db9589e146": {
          "model_module": "@jupyter-widgets/controls",
          "model_name": "DescriptionStyleModel",
          "model_module_version": "1.5.0",
          "state": {
            "_model_module": "@jupyter-widgets/controls",
            "_model_module_version": "1.5.0",
            "_model_name": "DescriptionStyleModel",
            "_view_count": null,
            "_view_module": "@jupyter-widgets/base",
            "_view_module_version": "1.2.0",
            "_view_name": "StyleView",
            "description_width": ""
          }
        },
        "bf9cf81ae2b14487a5a863d4eeb2676f": {
          "model_module": "@jupyter-widgets/base",
          "model_name": "LayoutModel",
          "model_module_version": "1.2.0",
          "state": {
            "_model_module": "@jupyter-widgets/base",
            "_model_module_version": "1.2.0",
            "_model_name": "LayoutModel",
            "_view_count": null,
            "_view_module": "@jupyter-widgets/base",
            "_view_module_version": "1.2.0",
            "_view_name": "LayoutView",
            "align_content": null,
            "align_items": null,
            "align_self": null,
            "border": null,
            "bottom": null,
            "display": null,
            "flex": null,
            "flex_flow": null,
            "grid_area": null,
            "grid_auto_columns": null,
            "grid_auto_flow": null,
            "grid_auto_rows": null,
            "grid_column": null,
            "grid_gap": null,
            "grid_row": null,
            "grid_template_areas": null,
            "grid_template_columns": null,
            "grid_template_rows": null,
            "height": null,
            "justify_content": null,
            "justify_items": null,
            "left": null,
            "margin": null,
            "max_height": null,
            "max_width": null,
            "min_height": null,
            "min_width": null,
            "object_fit": null,
            "object_position": null,
            "order": null,
            "overflow": null,
            "overflow_x": null,
            "overflow_y": null,
            "padding": null,
            "right": null,
            "top": null,
            "visibility": null,
            "width": null
          }
        },
        "5dd56a7177b84e94878294707d43bcd9": {
          "model_module": "@jupyter-widgets/controls",
          "model_name": "ProgressStyleModel",
          "model_module_version": "1.5.0",
          "state": {
            "_model_module": "@jupyter-widgets/controls",
            "_model_module_version": "1.5.0",
            "_model_name": "ProgressStyleModel",
            "_view_count": null,
            "_view_module": "@jupyter-widgets/base",
            "_view_module_version": "1.2.0",
            "_view_name": "StyleView",
            "bar_color": null,
            "description_width": ""
          }
        },
        "9949128d305f4ae1846d05bf8466bae2": {
          "model_module": "@jupyter-widgets/base",
          "model_name": "LayoutModel",
          "model_module_version": "1.2.0",
          "state": {
            "_model_module": "@jupyter-widgets/base",
            "_model_module_version": "1.2.0",
            "_model_name": "LayoutModel",
            "_view_count": null,
            "_view_module": "@jupyter-widgets/base",
            "_view_module_version": "1.2.0",
            "_view_name": "LayoutView",
            "align_content": null,
            "align_items": null,
            "align_self": null,
            "border": null,
            "bottom": null,
            "display": null,
            "flex": null,
            "flex_flow": null,
            "grid_area": null,
            "grid_auto_columns": null,
            "grid_auto_flow": null,
            "grid_auto_rows": null,
            "grid_column": null,
            "grid_gap": null,
            "grid_row": null,
            "grid_template_areas": null,
            "grid_template_columns": null,
            "grid_template_rows": null,
            "height": null,
            "justify_content": null,
            "justify_items": null,
            "left": null,
            "margin": null,
            "max_height": null,
            "max_width": null,
            "min_height": null,
            "min_width": null,
            "object_fit": null,
            "object_position": null,
            "order": null,
            "overflow": null,
            "overflow_x": null,
            "overflow_y": null,
            "padding": null,
            "right": null,
            "top": null,
            "visibility": null,
            "width": null
          }
        },
        "ba259aa2d7ff4b04850627f78fa324d5": {
          "model_module": "@jupyter-widgets/controls",
          "model_name": "DescriptionStyleModel",
          "model_module_version": "1.5.0",
          "state": {
            "_model_module": "@jupyter-widgets/controls",
            "_model_module_version": "1.5.0",
            "_model_name": "DescriptionStyleModel",
            "_view_count": null,
            "_view_module": "@jupyter-widgets/base",
            "_view_module_version": "1.2.0",
            "_view_name": "StyleView",
            "description_width": ""
          }
        },
        "03f53483fba84c26898a8953b8cca166": {
          "model_module": "@jupyter-widgets/controls",
          "model_name": "HBoxModel",
          "model_module_version": "1.5.0",
          "state": {
            "_dom_classes": [],
            "_model_module": "@jupyter-widgets/controls",
            "_model_module_version": "1.5.0",
            "_model_name": "HBoxModel",
            "_view_count": null,
            "_view_module": "@jupyter-widgets/controls",
            "_view_module_version": "1.5.0",
            "_view_name": "HBoxView",
            "box_style": "",
            "children": [
              "IPY_MODEL_7758227759f34cb8ad72b69a405626aa",
              "IPY_MODEL_834b2f3ccbdd4316bc944107a892496b",
              "IPY_MODEL_0926bc6fad634300aaac54c7212a84d9"
            ],
            "layout": "IPY_MODEL_b6f9f38cee2243bd8ac61419d19ed760"
          }
        },
        "7758227759f34cb8ad72b69a405626aa": {
          "model_module": "@jupyter-widgets/controls",
          "model_name": "HTMLModel",
          "model_module_version": "1.5.0",
          "state": {
            "_dom_classes": [],
            "_model_module": "@jupyter-widgets/controls",
            "_model_module_version": "1.5.0",
            "_model_name": "HTMLModel",
            "_view_count": null,
            "_view_module": "@jupyter-widgets/controls",
            "_view_module_version": "1.5.0",
            "_view_name": "HTMLView",
            "description": "",
            "description_tooltip": null,
            "layout": "IPY_MODEL_1a863293c25d4b95a2df11f16d0acef2",
            "placeholder": "​",
            "style": "IPY_MODEL_b9a8ade035994a4da1e2f0fb7b01aa94",
            "value": "Downloading (…)cial_tokens_map.json: 100%"
          }
        },
        "834b2f3ccbdd4316bc944107a892496b": {
          "model_module": "@jupyter-widgets/controls",
          "model_name": "FloatProgressModel",
          "model_module_version": "1.5.0",
          "state": {
            "_dom_classes": [],
            "_model_module": "@jupyter-widgets/controls",
            "_model_module_version": "1.5.0",
            "_model_name": "FloatProgressModel",
            "_view_count": null,
            "_view_module": "@jupyter-widgets/controls",
            "_view_module_version": "1.5.0",
            "_view_name": "ProgressView",
            "bar_style": "success",
            "description": "",
            "description_tooltip": null,
            "layout": "IPY_MODEL_d9ee587008704e2598a97fb93a19a19c",
            "max": 169,
            "min": 0,
            "orientation": "horizontal",
            "style": "IPY_MODEL_717c4a260e064a59aea717fe387dd579",
            "value": 169
          }
        },
        "0926bc6fad634300aaac54c7212a84d9": {
          "model_module": "@jupyter-widgets/controls",
          "model_name": "HTMLModel",
          "model_module_version": "1.5.0",
          "state": {
            "_dom_classes": [],
            "_model_module": "@jupyter-widgets/controls",
            "_model_module_version": "1.5.0",
            "_model_name": "HTMLModel",
            "_view_count": null,
            "_view_module": "@jupyter-widgets/controls",
            "_view_module_version": "1.5.0",
            "_view_name": "HTMLView",
            "description": "",
            "description_tooltip": null,
            "layout": "IPY_MODEL_664e3f766a1a4243b8717e2603378dbf",
            "placeholder": "​",
            "style": "IPY_MODEL_e11330ff5881422cb9f214e09f18c254",
            "value": " 169/169 [00:00&lt;00:00, 4.82kB/s]"
          }
        },
        "b6f9f38cee2243bd8ac61419d19ed760": {
          "model_module": "@jupyter-widgets/base",
          "model_name": "LayoutModel",
          "model_module_version": "1.2.0",
          "state": {
            "_model_module": "@jupyter-widgets/base",
            "_model_module_version": "1.2.0",
            "_model_name": "LayoutModel",
            "_view_count": null,
            "_view_module": "@jupyter-widgets/base",
            "_view_module_version": "1.2.0",
            "_view_name": "LayoutView",
            "align_content": null,
            "align_items": null,
            "align_self": null,
            "border": null,
            "bottom": null,
            "display": null,
            "flex": null,
            "flex_flow": null,
            "grid_area": null,
            "grid_auto_columns": null,
            "grid_auto_flow": null,
            "grid_auto_rows": null,
            "grid_column": null,
            "grid_gap": null,
            "grid_row": null,
            "grid_template_areas": null,
            "grid_template_columns": null,
            "grid_template_rows": null,
            "height": null,
            "justify_content": null,
            "justify_items": null,
            "left": null,
            "margin": null,
            "max_height": null,
            "max_width": null,
            "min_height": null,
            "min_width": null,
            "object_fit": null,
            "object_position": null,
            "order": null,
            "overflow": null,
            "overflow_x": null,
            "overflow_y": null,
            "padding": null,
            "right": null,
            "top": null,
            "visibility": null,
            "width": null
          }
        },
        "1a863293c25d4b95a2df11f16d0acef2": {
          "model_module": "@jupyter-widgets/base",
          "model_name": "LayoutModel",
          "model_module_version": "1.2.0",
          "state": {
            "_model_module": "@jupyter-widgets/base",
            "_model_module_version": "1.2.0",
            "_model_name": "LayoutModel",
            "_view_count": null,
            "_view_module": "@jupyter-widgets/base",
            "_view_module_version": "1.2.0",
            "_view_name": "LayoutView",
            "align_content": null,
            "align_items": null,
            "align_self": null,
            "border": null,
            "bottom": null,
            "display": null,
            "flex": null,
            "flex_flow": null,
            "grid_area": null,
            "grid_auto_columns": null,
            "grid_auto_flow": null,
            "grid_auto_rows": null,
            "grid_column": null,
            "grid_gap": null,
            "grid_row": null,
            "grid_template_areas": null,
            "grid_template_columns": null,
            "grid_template_rows": null,
            "height": null,
            "justify_content": null,
            "justify_items": null,
            "left": null,
            "margin": null,
            "max_height": null,
            "max_width": null,
            "min_height": null,
            "min_width": null,
            "object_fit": null,
            "object_position": null,
            "order": null,
            "overflow": null,
            "overflow_x": null,
            "overflow_y": null,
            "padding": null,
            "right": null,
            "top": null,
            "visibility": null,
            "width": null
          }
        },
        "b9a8ade035994a4da1e2f0fb7b01aa94": {
          "model_module": "@jupyter-widgets/controls",
          "model_name": "DescriptionStyleModel",
          "model_module_version": "1.5.0",
          "state": {
            "_model_module": "@jupyter-widgets/controls",
            "_model_module_version": "1.5.0",
            "_model_name": "DescriptionStyleModel",
            "_view_count": null,
            "_view_module": "@jupyter-widgets/base",
            "_view_module_version": "1.2.0",
            "_view_name": "StyleView",
            "description_width": ""
          }
        },
        "d9ee587008704e2598a97fb93a19a19c": {
          "model_module": "@jupyter-widgets/base",
          "model_name": "LayoutModel",
          "model_module_version": "1.2.0",
          "state": {
            "_model_module": "@jupyter-widgets/base",
            "_model_module_version": "1.2.0",
            "_model_name": "LayoutModel",
            "_view_count": null,
            "_view_module": "@jupyter-widgets/base",
            "_view_module_version": "1.2.0",
            "_view_name": "LayoutView",
            "align_content": null,
            "align_items": null,
            "align_self": null,
            "border": null,
            "bottom": null,
            "display": null,
            "flex": null,
            "flex_flow": null,
            "grid_area": null,
            "grid_auto_columns": null,
            "grid_auto_flow": null,
            "grid_auto_rows": null,
            "grid_column": null,
            "grid_gap": null,
            "grid_row": null,
            "grid_template_areas": null,
            "grid_template_columns": null,
            "grid_template_rows": null,
            "height": null,
            "justify_content": null,
            "justify_items": null,
            "left": null,
            "margin": null,
            "max_height": null,
            "max_width": null,
            "min_height": null,
            "min_width": null,
            "object_fit": null,
            "object_position": null,
            "order": null,
            "overflow": null,
            "overflow_x": null,
            "overflow_y": null,
            "padding": null,
            "right": null,
            "top": null,
            "visibility": null,
            "width": null
          }
        },
        "717c4a260e064a59aea717fe387dd579": {
          "model_module": "@jupyter-widgets/controls",
          "model_name": "ProgressStyleModel",
          "model_module_version": "1.5.0",
          "state": {
            "_model_module": "@jupyter-widgets/controls",
            "_model_module_version": "1.5.0",
            "_model_name": "ProgressStyleModel",
            "_view_count": null,
            "_view_module": "@jupyter-widgets/base",
            "_view_module_version": "1.2.0",
            "_view_name": "StyleView",
            "bar_color": null,
            "description_width": ""
          }
        },
        "664e3f766a1a4243b8717e2603378dbf": {
          "model_module": "@jupyter-widgets/base",
          "model_name": "LayoutModel",
          "model_module_version": "1.2.0",
          "state": {
            "_model_module": "@jupyter-widgets/base",
            "_model_module_version": "1.2.0",
            "_model_name": "LayoutModel",
            "_view_count": null,
            "_view_module": "@jupyter-widgets/base",
            "_view_module_version": "1.2.0",
            "_view_name": "LayoutView",
            "align_content": null,
            "align_items": null,
            "align_self": null,
            "border": null,
            "bottom": null,
            "display": null,
            "flex": null,
            "flex_flow": null,
            "grid_area": null,
            "grid_auto_columns": null,
            "grid_auto_flow": null,
            "grid_auto_rows": null,
            "grid_column": null,
            "grid_gap": null,
            "grid_row": null,
            "grid_template_areas": null,
            "grid_template_columns": null,
            "grid_template_rows": null,
            "height": null,
            "justify_content": null,
            "justify_items": null,
            "left": null,
            "margin": null,
            "max_height": null,
            "max_width": null,
            "min_height": null,
            "min_width": null,
            "object_fit": null,
            "object_position": null,
            "order": null,
            "overflow": null,
            "overflow_x": null,
            "overflow_y": null,
            "padding": null,
            "right": null,
            "top": null,
            "visibility": null,
            "width": null
          }
        },
        "e11330ff5881422cb9f214e09f18c254": {
          "model_module": "@jupyter-widgets/controls",
          "model_name": "DescriptionStyleModel",
          "model_module_version": "1.5.0",
          "state": {
            "_model_module": "@jupyter-widgets/controls",
            "_model_module_version": "1.5.0",
            "_model_name": "DescriptionStyleModel",
            "_view_count": null,
            "_view_module": "@jupyter-widgets/base",
            "_view_module_version": "1.2.0",
            "_view_name": "StyleView",
            "description_width": ""
          }
        },
        "8692ca365e3543d08b3d68a76b095607": {
          "model_module": "@jupyter-widgets/controls",
          "model_name": "HBoxModel",
          "model_module_version": "1.5.0",
          "state": {
            "_dom_classes": [],
            "_model_module": "@jupyter-widgets/controls",
            "_model_module_version": "1.5.0",
            "_model_name": "HBoxModel",
            "_view_count": null,
            "_view_module": "@jupyter-widgets/controls",
            "_view_module_version": "1.5.0",
            "_view_name": "HBoxView",
            "box_style": "",
            "children": [
              "IPY_MODEL_75f909c31799417a8d2406627ea878ee",
              "IPY_MODEL_e057a39fe7d948d792607d81cd3a3fd3",
              "IPY_MODEL_ded9acefe9a944919d5c9f959cb8a9aa"
            ],
            "layout": "IPY_MODEL_a196de05b3fe42019fed90bc80c8533b"
          }
        },
        "75f909c31799417a8d2406627ea878ee": {
          "model_module": "@jupyter-widgets/controls",
          "model_name": "HTMLModel",
          "model_module_version": "1.5.0",
          "state": {
            "_dom_classes": [],
            "_model_module": "@jupyter-widgets/controls",
            "_model_module_version": "1.5.0",
            "_model_name": "HTMLModel",
            "_view_count": null,
            "_view_module": "@jupyter-widgets/controls",
            "_view_module_version": "1.5.0",
            "_view_name": "HTMLView",
            "description": "",
            "description_tooltip": null,
            "layout": "IPY_MODEL_a0b7c9eb65bd4e28bfe7ce437e7c3ca1",
            "placeholder": "​",
            "style": "IPY_MODEL_1c604795c30f404bac97839ff34c7471",
            "value": "Downloading model.safetensors: 100%"
          }
        },
        "e057a39fe7d948d792607d81cd3a3fd3": {
          "model_module": "@jupyter-widgets/controls",
          "model_name": "FloatProgressModel",
          "model_module_version": "1.5.0",
          "state": {
            "_dom_classes": [],
            "_model_module": "@jupyter-widgets/controls",
            "_model_module_version": "1.5.0",
            "_model_name": "FloatProgressModel",
            "_view_count": null,
            "_view_module": "@jupyter-widgets/controls",
            "_view_module_version": "1.5.0",
            "_view_name": "ProgressView",
            "bar_style": "success",
            "description": "",
            "description_tooltip": null,
            "layout": "IPY_MODEL_3d5b580896a24b1a8bb56697146e2dda",
            "max": 457577040,
            "min": 0,
            "orientation": "horizontal",
            "style": "IPY_MODEL_99ef87c0ffcd4c25b51c04c62ea352bf",
            "value": 457577040
          }
        },
        "ded9acefe9a944919d5c9f959cb8a9aa": {
          "model_module": "@jupyter-widgets/controls",
          "model_name": "HTMLModel",
          "model_module_version": "1.5.0",
          "state": {
            "_dom_classes": [],
            "_model_module": "@jupyter-widgets/controls",
            "_model_module_version": "1.5.0",
            "_model_name": "HTMLModel",
            "_view_count": null,
            "_view_module": "@jupyter-widgets/controls",
            "_view_module_version": "1.5.0",
            "_view_name": "HTMLView",
            "description": "",
            "description_tooltip": null,
            "layout": "IPY_MODEL_0bf72990c2304d1fb76c8d22a9b677bc",
            "placeholder": "​",
            "style": "IPY_MODEL_cd0050baa553429ab28aa6f1c28f0169",
            "value": " 458M/458M [00:30&lt;00:00, 16.1MB/s]"
          }
        },
        "a196de05b3fe42019fed90bc80c8533b": {
          "model_module": "@jupyter-widgets/base",
          "model_name": "LayoutModel",
          "model_module_version": "1.2.0",
          "state": {
            "_model_module": "@jupyter-widgets/base",
            "_model_module_version": "1.2.0",
            "_model_name": "LayoutModel",
            "_view_count": null,
            "_view_module": "@jupyter-widgets/base",
            "_view_module_version": "1.2.0",
            "_view_name": "LayoutView",
            "align_content": null,
            "align_items": null,
            "align_self": null,
            "border": null,
            "bottom": null,
            "display": null,
            "flex": null,
            "flex_flow": null,
            "grid_area": null,
            "grid_auto_columns": null,
            "grid_auto_flow": null,
            "grid_auto_rows": null,
            "grid_column": null,
            "grid_gap": null,
            "grid_row": null,
            "grid_template_areas": null,
            "grid_template_columns": null,
            "grid_template_rows": null,
            "height": null,
            "justify_content": null,
            "justify_items": null,
            "left": null,
            "margin": null,
            "max_height": null,
            "max_width": null,
            "min_height": null,
            "min_width": null,
            "object_fit": null,
            "object_position": null,
            "order": null,
            "overflow": null,
            "overflow_x": null,
            "overflow_y": null,
            "padding": null,
            "right": null,
            "top": null,
            "visibility": null,
            "width": null
          }
        },
        "a0b7c9eb65bd4e28bfe7ce437e7c3ca1": {
          "model_module": "@jupyter-widgets/base",
          "model_name": "LayoutModel",
          "model_module_version": "1.2.0",
          "state": {
            "_model_module": "@jupyter-widgets/base",
            "_model_module_version": "1.2.0",
            "_model_name": "LayoutModel",
            "_view_count": null,
            "_view_module": "@jupyter-widgets/base",
            "_view_module_version": "1.2.0",
            "_view_name": "LayoutView",
            "align_content": null,
            "align_items": null,
            "align_self": null,
            "border": null,
            "bottom": null,
            "display": null,
            "flex": null,
            "flex_flow": null,
            "grid_area": null,
            "grid_auto_columns": null,
            "grid_auto_flow": null,
            "grid_auto_rows": null,
            "grid_column": null,
            "grid_gap": null,
            "grid_row": null,
            "grid_template_areas": null,
            "grid_template_columns": null,
            "grid_template_rows": null,
            "height": null,
            "justify_content": null,
            "justify_items": null,
            "left": null,
            "margin": null,
            "max_height": null,
            "max_width": null,
            "min_height": null,
            "min_width": null,
            "object_fit": null,
            "object_position": null,
            "order": null,
            "overflow": null,
            "overflow_x": null,
            "overflow_y": null,
            "padding": null,
            "right": null,
            "top": null,
            "visibility": null,
            "width": null
          }
        },
        "1c604795c30f404bac97839ff34c7471": {
          "model_module": "@jupyter-widgets/controls",
          "model_name": "DescriptionStyleModel",
          "model_module_version": "1.5.0",
          "state": {
            "_model_module": "@jupyter-widgets/controls",
            "_model_module_version": "1.5.0",
            "_model_name": "DescriptionStyleModel",
            "_view_count": null,
            "_view_module": "@jupyter-widgets/base",
            "_view_module_version": "1.2.0",
            "_view_name": "StyleView",
            "description_width": ""
          }
        },
        "3d5b580896a24b1a8bb56697146e2dda": {
          "model_module": "@jupyter-widgets/base",
          "model_name": "LayoutModel",
          "model_module_version": "1.2.0",
          "state": {
            "_model_module": "@jupyter-widgets/base",
            "_model_module_version": "1.2.0",
            "_model_name": "LayoutModel",
            "_view_count": null,
            "_view_module": "@jupyter-widgets/base",
            "_view_module_version": "1.2.0",
            "_view_name": "LayoutView",
            "align_content": null,
            "align_items": null,
            "align_self": null,
            "border": null,
            "bottom": null,
            "display": null,
            "flex": null,
            "flex_flow": null,
            "grid_area": null,
            "grid_auto_columns": null,
            "grid_auto_flow": null,
            "grid_auto_rows": null,
            "grid_column": null,
            "grid_gap": null,
            "grid_row": null,
            "grid_template_areas": null,
            "grid_template_columns": null,
            "grid_template_rows": null,
            "height": null,
            "justify_content": null,
            "justify_items": null,
            "left": null,
            "margin": null,
            "max_height": null,
            "max_width": null,
            "min_height": null,
            "min_width": null,
            "object_fit": null,
            "object_position": null,
            "order": null,
            "overflow": null,
            "overflow_x": null,
            "overflow_y": null,
            "padding": null,
            "right": null,
            "top": null,
            "visibility": null,
            "width": null
          }
        },
        "99ef87c0ffcd4c25b51c04c62ea352bf": {
          "model_module": "@jupyter-widgets/controls",
          "model_name": "ProgressStyleModel",
          "model_module_version": "1.5.0",
          "state": {
            "_model_module": "@jupyter-widgets/controls",
            "_model_module_version": "1.5.0",
            "_model_name": "ProgressStyleModel",
            "_view_count": null,
            "_view_module": "@jupyter-widgets/base",
            "_view_module_version": "1.2.0",
            "_view_name": "StyleView",
            "bar_color": null,
            "description_width": ""
          }
        },
        "0bf72990c2304d1fb76c8d22a9b677bc": {
          "model_module": "@jupyter-widgets/base",
          "model_name": "LayoutModel",
          "model_module_version": "1.2.0",
          "state": {
            "_model_module": "@jupyter-widgets/base",
            "_model_module_version": "1.2.0",
            "_model_name": "LayoutModel",
            "_view_count": null,
            "_view_module": "@jupyter-widgets/base",
            "_view_module_version": "1.2.0",
            "_view_name": "LayoutView",
            "align_content": null,
            "align_items": null,
            "align_self": null,
            "border": null,
            "bottom": null,
            "display": null,
            "flex": null,
            "flex_flow": null,
            "grid_area": null,
            "grid_auto_columns": null,
            "grid_auto_flow": null,
            "grid_auto_rows": null,
            "grid_column": null,
            "grid_gap": null,
            "grid_row": null,
            "grid_template_areas": null,
            "grid_template_columns": null,
            "grid_template_rows": null,
            "height": null,
            "justify_content": null,
            "justify_items": null,
            "left": null,
            "margin": null,
            "max_height": null,
            "max_width": null,
            "min_height": null,
            "min_width": null,
            "object_fit": null,
            "object_position": null,
            "order": null,
            "overflow": null,
            "overflow_x": null,
            "overflow_y": null,
            "padding": null,
            "right": null,
            "top": null,
            "visibility": null,
            "width": null
          }
        },
        "cd0050baa553429ab28aa6f1c28f0169": {
          "model_module": "@jupyter-widgets/controls",
          "model_name": "DescriptionStyleModel",
          "model_module_version": "1.5.0",
          "state": {
            "_model_module": "@jupyter-widgets/controls",
            "_model_module_version": "1.5.0",
            "_model_name": "DescriptionStyleModel",
            "_view_count": null,
            "_view_module": "@jupyter-widgets/base",
            "_view_module_version": "1.2.0",
            "_view_name": "StyleView",
            "description_width": ""
          }
        },
        "66cf3d3846244fe8952b2ba234ca75ff": {
          "model_module": "@jupyter-widgets/controls",
          "model_name": "HBoxModel",
          "model_module_version": "1.5.0",
          "state": {
            "_dom_classes": [],
            "_model_module": "@jupyter-widgets/controls",
            "_model_module_version": "1.5.0",
            "_model_name": "HBoxModel",
            "_view_count": null,
            "_view_module": "@jupyter-widgets/controls",
            "_view_module_version": "1.5.0",
            "_view_name": "HBoxView",
            "box_style": "",
            "children": [
              "IPY_MODEL_c1eea33550bd49d28fcd77579b89cf4c",
              "IPY_MODEL_9cc68d4e7624472eb401b36e7a294121",
              "IPY_MODEL_25cac29e56a4456480d82c309acdc56d"
            ],
            "layout": "IPY_MODEL_79c71b6150d24b2cbcaa2b0335abb140"
          }
        },
        "c1eea33550bd49d28fcd77579b89cf4c": {
          "model_module": "@jupyter-widgets/controls",
          "model_name": "HTMLModel",
          "model_module_version": "1.5.0",
          "state": {
            "_dom_classes": [],
            "_model_module": "@jupyter-widgets/controls",
            "_model_module_version": "1.5.0",
            "_model_name": "HTMLModel",
            "_view_count": null,
            "_view_module": "@jupyter-widgets/controls",
            "_view_module_version": "1.5.0",
            "_view_name": "HTMLView",
            "description": "",
            "description_tooltip": null,
            "layout": "IPY_MODEL_09e1355beab74550b1d84be59a409231",
            "placeholder": "​",
            "style": "IPY_MODEL_5a59e71351a24493a091ef07ab1c535d",
            "value": "Downloading model.safetensors: 100%"
          }
        },
        "9cc68d4e7624472eb401b36e7a294121": {
          "model_module": "@jupyter-widgets/controls",
          "model_name": "FloatProgressModel",
          "model_module_version": "1.5.0",
          "state": {
            "_dom_classes": [],
            "_model_module": "@jupyter-widgets/controls",
            "_model_module_version": "1.5.0",
            "_model_name": "FloatProgressModel",
            "_view_count": null,
            "_view_module": "@jupyter-widgets/controls",
            "_view_module_version": "1.5.0",
            "_view_name": "ProgressView",
            "bar_style": "success",
            "description": "",
            "description_tooltip": null,
            "layout": "IPY_MODEL_05f4eecd402f42c3b94d45183c19c6e8",
            "max": 457577040,
            "min": 0,
            "orientation": "horizontal",
            "style": "IPY_MODEL_a115816f6a6e49bb958a30cf92129b35",
            "value": 457577040
          }
        },
        "25cac29e56a4456480d82c309acdc56d": {
          "model_module": "@jupyter-widgets/controls",
          "model_name": "HTMLModel",
          "model_module_version": "1.5.0",
          "state": {
            "_dom_classes": [],
            "_model_module": "@jupyter-widgets/controls",
            "_model_module_version": "1.5.0",
            "_model_name": "HTMLModel",
            "_view_count": null,
            "_view_module": "@jupyter-widgets/controls",
            "_view_module_version": "1.5.0",
            "_view_name": "HTMLView",
            "description": "",
            "description_tooltip": null,
            "layout": "IPY_MODEL_56846bac7cdb47d3b0bd0a1c908dc5b0",
            "placeholder": "​",
            "style": "IPY_MODEL_2874dc8ecb4a43338e42dab6fc2499cf",
            "value": " 458M/458M [00:10&lt;00:00, 49.6MB/s]"
          }
        },
        "79c71b6150d24b2cbcaa2b0335abb140": {
          "model_module": "@jupyter-widgets/base",
          "model_name": "LayoutModel",
          "model_module_version": "1.2.0",
          "state": {
            "_model_module": "@jupyter-widgets/base",
            "_model_module_version": "1.2.0",
            "_model_name": "LayoutModel",
            "_view_count": null,
            "_view_module": "@jupyter-widgets/base",
            "_view_module_version": "1.2.0",
            "_view_name": "LayoutView",
            "align_content": null,
            "align_items": null,
            "align_self": null,
            "border": null,
            "bottom": null,
            "display": null,
            "flex": null,
            "flex_flow": null,
            "grid_area": null,
            "grid_auto_columns": null,
            "grid_auto_flow": null,
            "grid_auto_rows": null,
            "grid_column": null,
            "grid_gap": null,
            "grid_row": null,
            "grid_template_areas": null,
            "grid_template_columns": null,
            "grid_template_rows": null,
            "height": null,
            "justify_content": null,
            "justify_items": null,
            "left": null,
            "margin": null,
            "max_height": null,
            "max_width": null,
            "min_height": null,
            "min_width": null,
            "object_fit": null,
            "object_position": null,
            "order": null,
            "overflow": null,
            "overflow_x": null,
            "overflow_y": null,
            "padding": null,
            "right": null,
            "top": null,
            "visibility": null,
            "width": null
          }
        },
        "09e1355beab74550b1d84be59a409231": {
          "model_module": "@jupyter-widgets/base",
          "model_name": "LayoutModel",
          "model_module_version": "1.2.0",
          "state": {
            "_model_module": "@jupyter-widgets/base",
            "_model_module_version": "1.2.0",
            "_model_name": "LayoutModel",
            "_view_count": null,
            "_view_module": "@jupyter-widgets/base",
            "_view_module_version": "1.2.0",
            "_view_name": "LayoutView",
            "align_content": null,
            "align_items": null,
            "align_self": null,
            "border": null,
            "bottom": null,
            "display": null,
            "flex": null,
            "flex_flow": null,
            "grid_area": null,
            "grid_auto_columns": null,
            "grid_auto_flow": null,
            "grid_auto_rows": null,
            "grid_column": null,
            "grid_gap": null,
            "grid_row": null,
            "grid_template_areas": null,
            "grid_template_columns": null,
            "grid_template_rows": null,
            "height": null,
            "justify_content": null,
            "justify_items": null,
            "left": null,
            "margin": null,
            "max_height": null,
            "max_width": null,
            "min_height": null,
            "min_width": null,
            "object_fit": null,
            "object_position": null,
            "order": null,
            "overflow": null,
            "overflow_x": null,
            "overflow_y": null,
            "padding": null,
            "right": null,
            "top": null,
            "visibility": null,
            "width": null
          }
        },
        "5a59e71351a24493a091ef07ab1c535d": {
          "model_module": "@jupyter-widgets/controls",
          "model_name": "DescriptionStyleModel",
          "model_module_version": "1.5.0",
          "state": {
            "_model_module": "@jupyter-widgets/controls",
            "_model_module_version": "1.5.0",
            "_model_name": "DescriptionStyleModel",
            "_view_count": null,
            "_view_module": "@jupyter-widgets/base",
            "_view_module_version": "1.2.0",
            "_view_name": "StyleView",
            "description_width": ""
          }
        },
        "05f4eecd402f42c3b94d45183c19c6e8": {
          "model_module": "@jupyter-widgets/base",
          "model_name": "LayoutModel",
          "model_module_version": "1.2.0",
          "state": {
            "_model_module": "@jupyter-widgets/base",
            "_model_module_version": "1.2.0",
            "_model_name": "LayoutModel",
            "_view_count": null,
            "_view_module": "@jupyter-widgets/base",
            "_view_module_version": "1.2.0",
            "_view_name": "LayoutView",
            "align_content": null,
            "align_items": null,
            "align_self": null,
            "border": null,
            "bottom": null,
            "display": null,
            "flex": null,
            "flex_flow": null,
            "grid_area": null,
            "grid_auto_columns": null,
            "grid_auto_flow": null,
            "grid_auto_rows": null,
            "grid_column": null,
            "grid_gap": null,
            "grid_row": null,
            "grid_template_areas": null,
            "grid_template_columns": null,
            "grid_template_rows": null,
            "height": null,
            "justify_content": null,
            "justify_items": null,
            "left": null,
            "margin": null,
            "max_height": null,
            "max_width": null,
            "min_height": null,
            "min_width": null,
            "object_fit": null,
            "object_position": null,
            "order": null,
            "overflow": null,
            "overflow_x": null,
            "overflow_y": null,
            "padding": null,
            "right": null,
            "top": null,
            "visibility": null,
            "width": null
          }
        },
        "a115816f6a6e49bb958a30cf92129b35": {
          "model_module": "@jupyter-widgets/controls",
          "model_name": "ProgressStyleModel",
          "model_module_version": "1.5.0",
          "state": {
            "_model_module": "@jupyter-widgets/controls",
            "_model_module_version": "1.5.0",
            "_model_name": "ProgressStyleModel",
            "_view_count": null,
            "_view_module": "@jupyter-widgets/base",
            "_view_module_version": "1.2.0",
            "_view_name": "StyleView",
            "bar_color": null,
            "description_width": ""
          }
        },
        "56846bac7cdb47d3b0bd0a1c908dc5b0": {
          "model_module": "@jupyter-widgets/base",
          "model_name": "LayoutModel",
          "model_module_version": "1.2.0",
          "state": {
            "_model_module": "@jupyter-widgets/base",
            "_model_module_version": "1.2.0",
            "_model_name": "LayoutModel",
            "_view_count": null,
            "_view_module": "@jupyter-widgets/base",
            "_view_module_version": "1.2.0",
            "_view_name": "LayoutView",
            "align_content": null,
            "align_items": null,
            "align_self": null,
            "border": null,
            "bottom": null,
            "display": null,
            "flex": null,
            "flex_flow": null,
            "grid_area": null,
            "grid_auto_columns": null,
            "grid_auto_flow": null,
            "grid_auto_rows": null,
            "grid_column": null,
            "grid_gap": null,
            "grid_row": null,
            "grid_template_areas": null,
            "grid_template_columns": null,
            "grid_template_rows": null,
            "height": null,
            "justify_content": null,
            "justify_items": null,
            "left": null,
            "margin": null,
            "max_height": null,
            "max_width": null,
            "min_height": null,
            "min_width": null,
            "object_fit": null,
            "object_position": null,
            "order": null,
            "overflow": null,
            "overflow_x": null,
            "overflow_y": null,
            "padding": null,
            "right": null,
            "top": null,
            "visibility": null,
            "width": null
          }
        },
        "2874dc8ecb4a43338e42dab6fc2499cf": {
          "model_module": "@jupyter-widgets/controls",
          "model_name": "DescriptionStyleModel",
          "model_module_version": "1.5.0",
          "state": {
            "_model_module": "@jupyter-widgets/controls",
            "_model_module_version": "1.5.0",
            "_model_name": "DescriptionStyleModel",
            "_view_count": null,
            "_view_module": "@jupyter-widgets/base",
            "_view_module_version": "1.2.0",
            "_view_name": "StyleView",
            "description_width": ""
          }
        }
      }
    }
  },
  "nbformat": 4,
  "nbformat_minor": 0
}